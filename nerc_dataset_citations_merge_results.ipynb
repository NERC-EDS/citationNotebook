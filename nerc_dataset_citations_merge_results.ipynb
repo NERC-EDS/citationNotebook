{
 "cells": [
  {
   "cell_type": "code",
   "execution_count": null,
   "id": "a7c397b3",
   "metadata": {},
   "outputs": [],
   "source": [
    "import pandas as pd\n",
    "from datetime import date\n",
    "from citations_fun.mergeCitations import merge_citation_dfs\n",
    "from citations_fun.getCitationString import get_citation_str\n",
    "from citations_fun.filterCitations import filterCitations\n",
    "\n",
    "# load results - datacite, scholex and overton\n",
    "dataCite_df = pd.read_csv(\"Results/intermediate_data/latest_results_dataCite.csv\")\n",
    "scholex_df = pd.read_csv(\"Results/intermediate_data/latest_results_scholex.csv\")\n",
    "overton_df = pd.read_csv(\"Results/intermediate_data/latest_results_overton.csv\")"
   ]
  },
  {
   "cell_type": "code",
   "execution_count": null,
   "id": "d5e6f8fa",
   "metadata": {},
   "outputs": [],
   "source": [
    "# merge all results\n",
    "df_list = [dataCite_df, scholex_df, overton_df]\n",
    "nerc_citations_df = merge_citation_dfs(df_list)"
   ]
  },
  {
   "cell_type": "code",
   "execution_count": null,
   "id": "426ad633",
   "metadata": {},
   "outputs": [],
   "source": [
    "# remove doi.org for \n",
    "nerc_citations_df['pub_doi'] = nerc_citations_df['pub_doi'].str.replace(\n",
    "    'https://doi.org/', '', regex=False\n",
    ")"
   ]
  },
  {
   "cell_type": "code",
   "execution_count": null,
   "id": "882ffd8c",
   "metadata": {},
   "outputs": [],
   "source": [
    "# filtering - keep the results that are filtered out for later checks\n",
    "\n",
    "# returns list of 2 dataframes, first is the main df, second is everything that has been filtered out\n",
    "results = filterCitations(nerc_citations_df)\n",
    "nerc_citations_df_filtered = results[0]\n",
    "filtered_out_df = results[1]\n",
    "\n",
    "# write to file for a record\n",
    "filtered_out_df.to_csv(\"Results/v3/filtered_out_df.csv\", index= False)"
   ]
  },
  {
   "cell_type": "code",
   "execution_count": null,
   "id": "deda7b4e",
   "metadata": {},
   "outputs": [],
   "source": [
    "# get citation string - takes about 2 hours\n",
    "nerc_citations_df = get_citation_str(nerc_citations_df_filtered) "
   ]
  },
  {
   "cell_type": "code",
   "execution_count": null,
   "id": "fab1ba66",
   "metadata": {},
   "outputs": [],
   "source": [
    "# add 'doi.org/' to data and pub dois in new columns\n",
    "nerc_citations_df['data_doi_url'] = 'doi.org/' + nerc_citations_df['data_doi']\n",
    "# need extra logic here as overton pub_doi column usually just a normal url\n",
    "nerc_citations_df['publication_doi_url'] = nerc_citations_df['pub_doi'].apply(\n",
    "    lambda x: f\"doi.org/{x}\" if x.startswith(\"10.\") else x\n",
    ")\n"
   ]
  },
  {
   "cell_type": "code",
   "execution_count": null,
   "id": "5da11e58",
   "metadata": {},
   "outputs": [],
   "source": [
    "# create publicationYear column from pub_date\n",
    "def pub_year_splitter(date):\n",
    "    if date == \"Info not given\":\n",
    "        return None\n",
    "    else:\n",
    "        try:\n",
    "            return date.split('/')[2]\n",
    "        except:\n",
    "            try:\n",
    "                return date.split('-')[0]\n",
    "            except:\n",
    "                print(date)\n",
    "                return None\n",
    "\n",
    "nerc_citations_df['publicationYear'] = nerc_citations_df['pub_date'].apply(pub_year_splitter)"
   ]
  },
  {
   "cell_type": "code",
   "execution_count": null,
   "id": "c0534ace",
   "metadata": {},
   "outputs": [],
   "source": [
    "# map to excected column names for API schema \n",
    "# data_Publisher\tdata_doi\tdata_Title\tdata_Authors\trelation_type_id publication_doi\tpublication_type\tpublication_title\tpublication_authors\tpublication_date\tcitation_event_source\tPubCitationStr data_doi_url\tpublication_doi_url\tpublicationYear\n",
    "\n",
    "cols = {\n",
    "    # 'old':'new',\n",
    "    'relation_type':'relation_type_id', \n",
    "    'pub_doi':'publication_doi', 'pub_title':'publication_title', 'pub_date':'publication_date',\n",
    "    'pub_authors':'publication_authors', 'source_id':'citation_event_source', 'pub_type':'publication_type',\n",
    "    'pub_citation_str':'PubCitationStr'\n",
    "}\n",
    "\n",
    "nerc_citations_df_renamed = nerc_citations_df.rename(columns=cols)"
   ]
  },
  {
   "cell_type": "code",
   "execution_count": null,
   "id": "acfd016d",
   "metadata": {},
   "outputs": [],
   "source": [
    "# add index date_added\n",
    "\n",
    "# read last week's result\n",
    "old_results = pd.read_csv(\"Results/v3/latest_results.csv\")\n",
    "\n",
    "# Prepare a mapping of old pairs and date_added\n",
    "date_map = (\n",
    "    old_results[['data_doi', 'publication_doi', 'date_added']]\n",
    "    .drop_duplicates(subset=['data_doi', 'publication_doi'])\n",
    "    .set_index(['data_doi', 'publication_doi'])['date_added']\n",
    ")\n",
    "\n",
    "# map old dates onto new df\n",
    "nerc_citations_df_renamed['date_added'] = nerc_citations_df_renamed.set_index(['data_doi', 'publication_doi']).index.map(date_map)\n",
    "\n",
    "# Fill in today's date where no old date exists\n",
    "nerc_citations_df_renamed['date_added'] = nerc_citations_df_renamed['date_added'].fillna(str(date.today()))\n",
    "\n",
    "\n"
   ]
  },
  {
   "cell_type": "code",
   "execution_count": null,
   "id": "ede09708",
   "metadata": {},
   "outputs": [],
   "source": [
    "# write to csv and json file\n",
    "results_folder_path = \"Results/v3/\"\n",
    "#Results/v3\n",
    "#/home/matnic/Projects/citationNotebook/Results/v3\n",
    "\n",
    "latest_file_name_csv = results_folder_path + 'latest_results.csv'\n",
    "nerc_citations_df_renamed.to_csv(latest_file_name_csv, index= False)\n",
    "\n",
    "# write data to 'latest_results' json file with data publisher as top level key\n",
    "latest_file_name_json = results_folder_path + 'latest_results.json'\n",
    "\n",
    "# Group by 'data_Publisher' and convert the DataFrame to a nested dictionary\n",
    "nested_dict = nerc_citations_df_renamed.groupby('data_publisher').apply(\n",
    "    lambda x: x.drop('data_publisher', axis=1).to_dict(orient='records')\n",
    ").to_dict()\n",
    "\n",
    "# Convert the nested dictionary to a JSON object\n",
    "import json\n",
    "json_object = json.dumps(nested_dict)\n",
    "\n",
    "# Save the JSON object to a file\n",
    "with open(latest_file_name_json, 'w') as f:\n",
    "    f.write(json_object)\n",
    "    "
   ]
  },
  {
   "cell_type": "markdown",
   "id": "8ed9e442",
   "metadata": {},
   "source": [
    "Development stuff below here:"
   ]
  },
  {
   "cell_type": "code",
   "execution_count": null,
   "id": "430da1e4",
   "metadata": {},
   "outputs": [],
   "source": [
    "# # code to filter out things like if pub_doi contians \"egusphere\" etc? - always a conference abstract\n",
    "# count = 0\n",
    "# for pub_doi in nerc_citations_df['pub_doi']:\n",
    "#     if \"egusphere\" in pub_doi:\n",
    "#         print(pub_doi)\n",
    "#         count =count + 1\n",
    "# print(count)\n",
    "\n"
   ]
  },
  {
   "cell_type": "code",
   "execution_count": null,
   "id": "09761eb6",
   "metadata": {},
   "outputs": [],
   "source": [
    "# nerc_citations_df['pub_citation_str'].value_counts()"
   ]
  },
  {
   "cell_type": "code",
   "execution_count": null,
   "id": "67d25316",
   "metadata": {},
   "outputs": [],
   "source": [
    "# nerc_citations_df[\"pub_type\"].value_counts()\n"
   ]
  },
  {
   "cell_type": "code",
   "execution_count": null,
   "id": "aab25ebc",
   "metadata": {},
   "outputs": [],
   "source": [
    "# # take data_doi and pub_doi columns from each df, concatenate vertically\n",
    "# doi_df = pd.concat([scholex_df[['data_doi', 'pub_doi']], dataCite_df[['data_doi', 'pub_doi']], overton_df[['data_doi', 'pub_doi']]], ignore_index=True)\n",
    "# doi_df_unique = doi_df.drop_duplicates(subset=['data_doi', 'pub_doi'])\n",
    "# print(len(doi_df))\n",
    "# print(len(doi_df_unique))"
   ]
  },
  {
   "cell_type": "code",
   "execution_count": null,
   "id": "a0a6ce3d",
   "metadata": {},
   "outputs": [],
   "source": []
  }
 ],
 "metadata": {
  "kernelspec": {
   "display_name": ".venv",
   "language": "python",
   "name": "python3"
  },
  "language_info": {
   "codemirror_mode": {
    "name": "ipython",
    "version": 3
   },
   "file_extension": ".py",
   "mimetype": "text/x-python",
   "name": "python",
   "nbconvert_exporter": "python",
   "pygments_lexer": "ipython3",
   "version": "3.12.3"
  }
 },
 "nbformat": 4,
 "nbformat_minor": 5
}
