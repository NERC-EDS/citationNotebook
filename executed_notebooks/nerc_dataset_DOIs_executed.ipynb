{
 "cells": [
  {
   "cell_type": "markdown",
   "id": "11c8d99d-0d5c-428f-b73f-4e093bd7e838",
   "metadata": {
    "papermill": {
     "duration": 0.00122,
     "end_time": "2025-10-20T09:03:05.943383",
     "exception": false,
     "start_time": "2025-10-20T09:03:05.942163",
     "status": "completed"
    },
    "tags": []
   },
   "source": [
    "### NERC dataset citations - DataCite\n",
    "Code to collect NERC dataset DOIs and from the DataCite API"
   ]
  },
  {
   "cell_type": "code",
   "execution_count": 1,
   "id": "5bcaa7fa-e932-4386-a7c8-8149f85fd5d2",
   "metadata": {
    "execution": {
     "iopub.execute_input": "2025-10-20T09:03:05.946167Z",
     "iopub.status.busy": "2025-10-20T09:03:05.945962Z",
     "iopub.status.idle": "2025-10-20T09:03:06.363009Z",
     "shell.execute_reply": "2025-10-20T09:03:06.362115Z"
    },
    "papermill": {
     "duration": 0.419286,
     "end_time": "2025-10-20T09:03:06.363731",
     "exception": false,
     "start_time": "2025-10-20T09:03:05.944445",
     "status": "completed"
    },
    "tags": []
   },
   "outputs": [],
   "source": [
    "\n",
    "import requests, time, json, re, datetime, os, sys\n",
    "from requests.adapters import HTTPAdapter\n",
    "from requests.packages.urllib3.util.retry import Retry\n",
    "import numpy as np\n",
    "import pandas as pd\n",
    "from math import ceil\n",
    "from datetime import date\n",
    "# from dataCite_fun import getDataCiteCitations_relationTypes, getPublicationInfo_timeCopy\n",
    "# import exportCitationResultsToCsv\n",
    "# from Results import convertCSVtoJSON\n",
    "\n",
    "\n",
    "from citations_fun.getNERCDataDOIs import getNERCDataDOIs\n"
   ]
  },
  {
   "cell_type": "markdown",
   "id": "929ed461-2447-42ea-9d5e-87eab46b56af",
   "metadata": {
    "papermill": {
     "duration": 0.000851,
     "end_time": "2025-10-20T09:03:06.365736",
     "exception": false,
     "start_time": "2025-10-20T09:03:06.364885",
     "status": "completed"
    },
    "tags": []
   },
   "source": [
    "### Get the dataset DOIs"
   ]
  },
  {
   "cell_type": "code",
   "execution_count": 2,
   "id": "ab5dce39-f8e2-45bc-8cde-c22632933317",
   "metadata": {
    "execution": {
     "iopub.execute_input": "2025-10-20T09:03:06.368582Z",
     "iopub.status.busy": "2025-10-20T09:03:06.368267Z",
     "iopub.status.idle": "2025-10-20T09:04:56.758292Z",
     "shell.execute_reply": "2025-10-20T09:04:56.757385Z"
    },
    "papermill": {
     "duration": 110.392724,
     "end_time": "2025-10-20T09:04:56.759324",
     "exception": false,
     "start_time": "2025-10-20T09:03:06.366600",
     "status": "completed"
    },
    "scrolled": true,
    "tags": []
   },
   "outputs": [
    {
     "name": "stdout",
     "output_type": "stream",
     "text": [
      "Publisher is type float or None:  None 10.5285/fe7a9d81-cfc0-4023-90da-0be37b803bc7\n",
      "Publisher is type float or None:  None 10.5285/1aa2df5a-798b-46c7-b74a-421f9ca0aa82\n",
      "Publisher is type float or None:  None 10.5285/7baf7407-2f15-406c-8f09-cb9dc10392aa\n",
      "Publisher is type float or None:  None 10.5285/878bef44-d32a-40cd-a02d-49b6286f0ea4\n",
      "Publisher is type float or None:  None 10.5285/782305d4-1ded-43f9-a0ed-40cb41ff0a43\n",
      "Publisher is type float or None:  None 10.5285/79229cee-71ab-48b6-b7d6-2fceccead938\n",
      "Reached final page.\n",
      "Data written to Results/intermediate_data/nerc_datacite_dois.json\n",
      "Done!\n"
     ]
    }
   ],
   "source": [
    "# this takes approx ~10 mins\n",
    "# from functions import getNERCDataDOIs_new\n",
    "nerc_datacite_dois = getNERCDataDOIs()\n"
   ]
  }
 ],
 "metadata": {
  "kernelspec": {
   "display_name": ".venv",
   "language": "python",
   "name": "python3"
  },
  "language_info": {
   "codemirror_mode": {
    "name": "ipython",
    "version": 3
   },
   "file_extension": ".py",
   "mimetype": "text/x-python",
   "name": "python",
   "nbconvert_exporter": "python",
   "pygments_lexer": "ipython3",
   "version": "3.13.8"
  },
  "papermill": {
   "default_parameters": {},
   "duration": 112.834752,
   "end_time": "2025-10-20T09:04:56.975412",
   "environment_variables": {},
   "exception": null,
   "input_path": "nerc_dataset_DOIs.ipynb",
   "output_path": "executed_notebooks/nerc_dataset_DOIs_executed.ipynb",
   "parameters": {},
   "start_time": "2025-10-20T09:03:04.140660",
   "version": "2.6.0"
  }
 },
 "nbformat": 4,
 "nbformat_minor": 5
}