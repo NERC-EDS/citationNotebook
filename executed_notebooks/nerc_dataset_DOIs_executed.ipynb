{
 "cells": [
  {
   "cell_type": "markdown",
   "id": "11c8d99d-0d5c-428f-b73f-4e093bd7e838",
   "metadata": {
    "papermill": {
     "duration": 0.001302,
     "end_time": "2025-11-02T00:53:32.567656",
     "exception": false,
     "start_time": "2025-11-02T00:53:32.566354",
     "status": "completed"
    },
    "tags": []
   },
   "source": [
    "### NERC dataset citations - DataCite\n",
    "Code to collect NERC dataset DOIs and from the DataCite API"
   ]
  },
  {
   "cell_type": "code",
   "execution_count": 1,
   "id": "5bcaa7fa-e932-4386-a7c8-8149f85fd5d2",
   "metadata": {
    "execution": {
     "iopub.execute_input": "2025-11-02T00:53:32.570746Z",
     "iopub.status.busy": "2025-11-02T00:53:32.570493Z",
     "iopub.status.idle": "2025-11-02T00:53:33.034769Z",
     "shell.execute_reply": "2025-11-02T00:53:33.033902Z"
    },
    "papermill": {
     "duration": 0.467304,
     "end_time": "2025-11-02T00:53:33.036057",
     "exception": false,
     "start_time": "2025-11-02T00:53:32.568753",
     "status": "completed"
    },
    "tags": []
   },
   "outputs": [],
   "source": [
    "\n",
    "import requests, time, json, re, datetime, os, sys\n",
    "from requests.adapters import HTTPAdapter\n",
    "from requests.packages.urllib3.util.retry import Retry\n",
    "import numpy as np\n",
    "import pandas as pd\n",
    "from math import ceil\n",
    "from datetime import date\n",
    "# from dataCite_fun import getDataCiteCitations_relationTypes, getPublicationInfo_timeCopy\n",
    "# import exportCitationResultsToCsv\n",
    "# from Results import convertCSVtoJSON\n",
    "\n",
    "\n",
    "from citations_fun.getNERCDataDOIs import getNERCDataDOIs\n"
   ]
  },
  {
   "cell_type": "markdown",
   "id": "929ed461-2447-42ea-9d5e-87eab46b56af",
   "metadata": {
    "papermill": {
     "duration": 0.000757,
     "end_time": "2025-11-02T00:53:33.037869",
     "exception": false,
     "start_time": "2025-11-02T00:53:33.037112",
     "status": "completed"
    },
    "tags": []
   },
   "source": [
    "### Get the dataset DOIs"
   ]
  },
  {
   "cell_type": "code",
   "execution_count": 2,
   "id": "ab5dce39-f8e2-45bc-8cde-c22632933317",
   "metadata": {
    "execution": {
     "iopub.execute_input": "2025-11-02T00:53:33.040413Z",
     "iopub.status.busy": "2025-11-02T00:53:33.040148Z",
     "iopub.status.idle": "2025-11-02T00:55:24.969154Z",
     "shell.execute_reply": "2025-11-02T00:55:24.968251Z"
    },
    "papermill": {
     "duration": 111.931636,
     "end_time": "2025-11-02T00:55:24.970219",
     "exception": false,
     "start_time": "2025-11-02T00:53:33.038583",
     "status": "completed"
    },
    "scrolled": true,
    "tags": []
   },
   "outputs": [
    {
     "name": "stdout",
     "output_type": "stream",
     "text": [
      "Publisher is type float or None:  None 10.5285/fe7a9d81-cfc0-4023-90da-0be37b803bc7\n",
      "Publisher is type float or None:  None 10.5285/1aa2df5a-798b-46c7-b74a-421f9ca0aa82\n",
      "Publisher is type float or None:  None 10.5285/7baf7407-2f15-406c-8f09-cb9dc10392aa\n",
      "Publisher is type float or None:  None 10.5285/878bef44-d32a-40cd-a02d-49b6286f0ea4\n",
      "Publisher is type float or None:  None 10.5285/782305d4-1ded-43f9-a0ed-40cb41ff0a43\n",
      "Publisher is type float or None:  None 10.5285/79229cee-71ab-48b6-b7d6-2fceccead938\n",
      "Reached final page.\n",
      "Data written to Results/intermediate_data/nerc_datacite_dois.json\n",
      "Done!\n"
     ]
    }
   ],
   "source": [
    "# this takes approx ~10 mins\n",
    "# from functions import getNERCDataDOIs_new\n",
    "nerc_datacite_dois = getNERCDataDOIs()\n"
   ]
  }
 ],
 "metadata": {
  "kernelspec": {
   "display_name": ".venv",
   "language": "python",
   "name": "python3"
  },
  "language_info": {
   "codemirror_mode": {
    "name": "ipython",
    "version": 3
   },
   "file_extension": ".py",
   "mimetype": "text/x-python",
   "name": "python",
   "nbconvert_exporter": "python",
   "pygments_lexer": "ipython3",
   "version": "3.14.0"
  },
  "papermill": {
   "default_parameters": {},
   "duration": 116.767602,
   "end_time": "2025-11-02T00:55:25.186353",
   "environment_variables": {},
   "exception": null,
   "input_path": "nerc_dataset_DOIs.ipynb",
   "output_path": "executed_notebooks/nerc_dataset_DOIs_executed.ipynb",
   "parameters": {},
   "start_time": "2025-11-02T00:53:28.418751",
   "version": "2.6.0"
  }
 },
 "nbformat": 4,
 "nbformat_minor": 5
}