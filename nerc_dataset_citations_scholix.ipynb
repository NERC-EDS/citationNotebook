{
 "cells": [
  {
   "cell_type": "markdown",
   "id": "91d2d5d1",
   "metadata": {},
   "source": [
    "## Scholix"
   ]
  },
  {
   "cell_type": "code",
   "execution_count": null,
   "id": "6a232aac",
   "metadata": {},
   "outputs": [],
   "source": [
    "import requests, time, json, re, datetime, os, sys\n",
    "from requests.adapters import HTTPAdapter\n",
    "from requests.packages.urllib3.util.retry import Retry\n",
    "import numpy as np\n",
    "import pandas as pd\n",
    "from math import ceil\n",
    "from datetime import date\n",
    "# sys.path.insert(0, '..')\n",
    "\n",
    "from citations_fun.getScholixCitations import getScholixCitations\n",
    "from citations_fun.processScholixCitations import process_citation_results\n",
    "from citations_fun.getPublicationType_forScholex import getPublicationType"
   ]
  },
  {
   "cell_type": "code",
   "execution_count": null,
   "id": "a3660a81",
   "metadata": {},
   "outputs": [],
   "source": [
    "with open(\"Results/intermediate_data/nerc_datacite_dois.json\") as f:\n",
    "    nerc_datacite_dois = json.load(f)\n",
    "\n",
    "nerc_datacite_dois_df = pd.DataFrame(nerc_datacite_dois)"
   ]
  },
  {
   "cell_type": "code",
   "execution_count": null,
   "id": "cd7769d2",
   "metadata": {},
   "outputs": [],
   "source": [
    "# this takes about 17 - 28 mins\n",
    "\n",
    "scholex_df = getScholixCitations(nerc_datacite_dois_df)"
   ]
  },
  {
   "cell_type": "markdown",
   "id": "8cf3de3f",
   "metadata": {},
   "source": [
    "#### Process the citation results"
   ]
  },
  {
   "cell_type": "code",
   "execution_count": null,
   "id": "e7c8e8d6",
   "metadata": {},
   "outputs": [],
   "source": [
    "scholex_df_processed = process_citation_results(scholex_df)"
   ]
  },
  {
   "cell_type": "markdown",
   "id": "3e34ec08",
   "metadata": {},
   "source": [
    "### Check the DOIs at DOI.org to determine the type of publication and to check there are no duplicates (by preprints etc) "
   ]
  },
  {
   "cell_type": "code",
   "execution_count": null,
   "id": "f724c042",
   "metadata": {},
   "outputs": [],
   "source": [
    "# took 74 mins - previously very long 3+ hours\n",
    "scholex_df_processed_pubType = getPublicationType(scholex_df_processed)"
   ]
  },
  {
   "cell_type": "markdown",
   "id": "6052a5a2",
   "metadata": {},
   "source": [
    "### Output spreadsheet"
   ]
  },
  {
   "cell_type": "code",
   "execution_count": null,
   "id": "eabbbe4e",
   "metadata": {},
   "outputs": [],
   "source": [
    "scholex_df_processed_pubType.to_csv(\"Results/intermediate_data/latest_results_scholex.csv\", index= False)"
   ]
  },
  {
   "cell_type": "markdown",
   "id": "4114de1f",
   "metadata": {},
   "source": [
    "### development stuff below here"
   ]
  },
  {
   "cell_type": "code",
   "execution_count": null,
   "id": "bdac1f15",
   "metadata": {},
   "outputs": [],
   "source": [
    "# # seeing if pub_type can be gleaned from scholex - not in much details\n",
    "# import numpy as np\n",
    "# import requests\n",
    "# scholix_url = 'http://api.scholexplorer.openaire.eu/v2/Links?'\n",
    "# doi = \"10.5285/551a10ae-b8ed-4ebd-ab38-033dd597a374\"\n",
    "# headers = {'sourcePid': doi}\n",
    "# r = requests.get(scholix_url, headers)\n",
    "\n",
    "# print(len(r.json()['result'])) #[0].keys()\n",
    "\n",
    "# pageRecords = range(len(r.json()['result']))\n",
    "# for citationNum in pageRecords:\n",
    "#     for item in r.json()['result'][citationNum]['target'].keys():\n",
    "#         print(item)\n",
    "#         print(r.json()['result'][citationNum]['target'][item])\n",
    "\n",
    "# r.json()['result'][0]['target'].keys()\n",
    "# print(r.json()['result'][0]['target']['Type'])\n",
    "# r.json()['result'][5]['target']['Publisher'][0]['name']"
   ]
  }
 ],
 "metadata": {
  "kernelspec": {
   "display_name": ".venv",
   "language": "python",
   "name": "python3"
  },
  "language_info": {
   "codemirror_mode": {
    "name": "ipython",
    "version": 3
   },
   "file_extension": ".py",
   "mimetype": "text/x-python",
   "name": "python",
   "nbconvert_exporter": "python",
   "pygments_lexer": "ipython3",
   "version": "3.12.3"
  }
 },
 "nbformat": 4,
 "nbformat_minor": 5
}
