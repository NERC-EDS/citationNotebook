{
 "cells": [
  {
   "cell_type": "code",
   "execution_count": 1,
   "id": "42ac1f0a-5259-4687-9015-a166b613cd32",
   "metadata": {},
   "outputs": [],
   "source": [
    "import requests"
   ]
  },
  {
   "cell_type": "code",
   "execution_count": 4,
   "id": "19d486d1-efd7-4e6c-b9ae-f038f3a6dbfa",
   "metadata": {
    "tags": []
   },
   "outputs": [
    {
     "name": "stdout",
     "output_type": "stream",
     "text": [
      "200\n"
     ]
    },
    {
     "data": {
      "text/plain": [
       "{'currentPage': 0,\n",
       " 'totalLinks': 8,\n",
       " 'totalPages': 1,\n",
       " 'result': [{'RelationshipType': {'Name': 'References',\n",
       "    'SubType': 'References',\n",
       "    'SubTypeSchema': 'datacite'},\n",
       "   'source': {'Type': 'dataset',\n",
       "    'Identifier': [{'ID': '10.5285/0cb61583-3985-4875-b141-5743e68abe35',\n",
       "      'IDScheme': 'doi',\n",
       "      'IDURL': 'https://dx.doi.org/10.5285/0cb61583-3985-4875-b141-5743e68abe35'},\n",
       "     {'ID': '50|doi_________::c689b58be25be8cdb721d3d99ab703a3',\n",
       "      'IDScheme': 'D-Net Identifier',\n",
       "      'IDURL': 'http://scholexplorer.openaire.eu/index.html#/detail/50|doi_________::c689b58be25be8cdb721d3d99ab703a3'}],\n",
       "    'Title': 'Processed airborne radio-echo sounding data from the FISS 2016 surveys covering the Filchner and Halley Ice Shelves, and the English Coast (western Palmer Land), West Antarctica (2016/2017)',\n",
       "    'Creator': [{'Name': 'Corr, Hugh', 'Identifier': []},\n",
       "     {'Name': 'Robinson, Carl', 'Identifier': []},\n",
       "     {'Name': 'Jordan, Tom', 'Identifier': []},\n",
       "     {'Name': 'Nicholls, Keith', 'Identifier': []},\n",
       "     {'Name': 'Brisbourne, Alex', 'Identifier': []}],\n",
       "    'PublicationDate': '2021-10-29',\n",
       "    'Publisher': [{'name': 'NERC EDS UK Polar Data Centre',\n",
       "      'identifier': []}]},\n",
       "   'target': {'Type': 'dataset',\n",
       "    'Identifier': [{'ID': '10.5285/e07d62bf-d58c-4187-a019-59be998939cc',\n",
       "      'IDScheme': 'doi',\n",
       "      'IDURL': 'https://dx.doi.org/10.5285/e07d62bf-d58c-4187-a019-59be998939cc'},\n",
       "     {'ID': '50|doi_________::7b9404da43ae17bd631d775ee9ec63e9',\n",
       "      'IDScheme': 'D-Net Identifier',\n",
       "      'IDURL': 'http://scholexplorer.openaire.eu/index.html#/detail/50|doi_________::7b9404da43ae17bd631d775ee9ec63e9'}],\n",
       "    'Title': 'Airborne radio-echo sounding of the English Coast, western Palmer Land, Antarctic Peninsula (2016/17 season)',\n",
       "    'Creator': [{'Name': 'Corr, Hugh', 'Identifier': []},\n",
       "     {'Name': 'Robinson, Carl', 'Identifier': []}],\n",
       "    'PublicationDate': '2020-06-29',\n",
       "    'Publisher': [{'name': 'UK Polar Data Centre, Natural Environment Research Council, UK Research & Innovation',\n",
       "      'identifier': []}]},\n",
       "   'HarvestDate': '2021-10-29',\n",
       "   'LicenseURL': None,\n",
       "   'LinkProvider': [{'name': 'Datacite',\n",
       "     'identifier': [{'ID': '10|openaire____::9e3be59865b2c1c335d32dae2fe7b254',\n",
       "       'IDScheme': 'DNET Identifier',\n",
       "       'IDURL': None}]}],\n",
       "   'LinkPublicationDate': '2021-10-29'},\n",
       "  {'RelationshipType': {'Name': 'IsReferencedBy',\n",
       "    'SubType': 'IsReferencedBy',\n",
       "    'SubTypeSchema': 'datacite'},\n",
       "   'source': {'Type': 'dataset',\n",
       "    'Identifier': [{'ID': '10.5285/0cb61583-3985-4875-b141-5743e68abe35',\n",
       "      'IDScheme': 'doi',\n",
       "      'IDURL': 'https://dx.doi.org/10.5285/0cb61583-3985-4875-b141-5743e68abe35'},\n",
       "     {'ID': '50|doi_________::c689b58be25be8cdb721d3d99ab703a3',\n",
       "      'IDScheme': 'D-Net Identifier',\n",
       "      'IDURL': 'http://scholexplorer.openaire.eu/index.html#/detail/50|doi_________::c689b58be25be8cdb721d3d99ab703a3'}],\n",
       "    'Title': 'Processed airborne radio-echo sounding data from the FISS 2016 surveys covering the Filchner and Halley Ice Shelves, and the English Coast (western Palmer Land), West Antarctica (2016/2017)',\n",
       "    'Creator': [{'Name': 'Corr, Hugh', 'Identifier': []},\n",
       "     {'Name': 'Robinson, Carl', 'Identifier': []},\n",
       "     {'Name': 'Jordan, Tom', 'Identifier': []},\n",
       "     {'Name': 'Nicholls, Keith', 'Identifier': []},\n",
       "     {'Name': 'Brisbourne, Alex', 'Identifier': []}],\n",
       "    'PublicationDate': '2021-10-29',\n",
       "    'Publisher': [{'name': 'NERC EDS UK Polar Data Centre',\n",
       "      'identifier': []}]},\n",
       "   'target': {'Type': 'dataset',\n",
       "    'Identifier': [{'ID': '10.5285/83c4f40e-abd4-4f76-a7db-d7307bd56b55',\n",
       "      'IDScheme': 'doi',\n",
       "      'IDURL': 'https://dx.doi.org/10.5285/83c4f40e-abd4-4f76-a7db-d7307bd56b55'},\n",
       "     {'ID': '50|doi_________::955b21c8409c5261e1d2e08882317b80',\n",
       "      'IDScheme': 'D-Net Identifier',\n",
       "      'IDURL': 'http://scholexplorer.openaire.eu/index.html#/detail/50|doi_________::955b21c8409c5261e1d2e08882317b80'}],\n",
       "    'Title': 'Processed line aeromagnetic data from the FISS 2016 surveys covering the Filchner and Halley Ice Shelves, and the English Coast (western Palmer Land), West Antarctica (2016/2017)',\n",
       "    'Creator': [{'Name': 'Jordan, Tom', 'Identifier': []},\n",
       "     {'Name': 'Corr, Hugh', 'Identifier': []},\n",
       "     {'Name': 'Robinson, Carl', 'Identifier': []}],\n",
       "    'PublicationDate': '2021-10-29',\n",
       "    'Publisher': [{'name': 'NERC EDS UK Polar Data Centre',\n",
       "      'identifier': []}]},\n",
       "   'HarvestDate': '2021-10-29',\n",
       "   'LicenseURL': None,\n",
       "   'LinkProvider': [{'name': 'Datacite',\n",
       "     'identifier': [{'ID': '10|openaire____::9e3be59865b2c1c335d32dae2fe7b254',\n",
       "       'IDScheme': 'DNET Identifier',\n",
       "       'IDURL': None}]}],\n",
       "   'LinkPublicationDate': '2021-10-29'},\n",
       "  {'RelationshipType': {'Name': 'IsReferencedBy',\n",
       "    'SubType': 'IsReferencedBy',\n",
       "    'SubTypeSchema': 'datacite'},\n",
       "   'source': {'Type': 'dataset',\n",
       "    'Identifier': [{'ID': '10.5285/0cb61583-3985-4875-b141-5743e68abe35',\n",
       "      'IDScheme': 'doi',\n",
       "      'IDURL': 'https://dx.doi.org/10.5285/0cb61583-3985-4875-b141-5743e68abe35'},\n",
       "     {'ID': '50|doi_________::c689b58be25be8cdb721d3d99ab703a3',\n",
       "      'IDScheme': 'D-Net Identifier',\n",
       "      'IDURL': 'http://scholexplorer.openaire.eu/index.html#/detail/50|doi_________::c689b58be25be8cdb721d3d99ab703a3'}],\n",
       "    'Title': 'Processed airborne radio-echo sounding data from the FISS 2016 surveys covering the Filchner and Halley Ice Shelves, and the English Coast (western Palmer Land), West Antarctica (2016/2017)',\n",
       "    'Creator': [{'Name': 'Corr, Hugh', 'Identifier': []},\n",
       "     {'Name': 'Robinson, Carl', 'Identifier': []},\n",
       "     {'Name': 'Jordan, Tom', 'Identifier': []},\n",
       "     {'Name': 'Nicholls, Keith', 'Identifier': []},\n",
       "     {'Name': 'Brisbourne, Alex', 'Identifier': []}],\n",
       "    'PublicationDate': '2021-10-29',\n",
       "    'Publisher': [{'name': 'NERC EDS UK Polar Data Centre',\n",
       "      'identifier': []}]},\n",
       "   'target': {'Type': 'dataset',\n",
       "    'Identifier': [{'ID': '10.5285/e07d62bf-d58c-4187-a019-59be998939cc',\n",
       "      'IDScheme': 'doi',\n",
       "      'IDURL': 'https://dx.doi.org/10.5285/e07d62bf-d58c-4187-a019-59be998939cc'},\n",
       "     {'ID': '50|doi_________::7b9404da43ae17bd631d775ee9ec63e9',\n",
       "      'IDScheme': 'D-Net Identifier',\n",
       "      'IDURL': 'http://scholexplorer.openaire.eu/index.html#/detail/50|doi_________::7b9404da43ae17bd631d775ee9ec63e9'}],\n",
       "    'Title': 'Airborne radio-echo sounding of the English Coast, western Palmer Land, Antarctic Peninsula (2016/17 season)',\n",
       "    'Creator': [{'Name': 'Corr, Hugh', 'Identifier': []},\n",
       "     {'Name': 'Robinson, Carl', 'Identifier': []}],\n",
       "    'PublicationDate': '2020-06-29',\n",
       "    'Publisher': [{'name': 'UK Polar Data Centre, Natural Environment Research Council, UK Research & Innovation',\n",
       "      'identifier': []}]},\n",
       "   'HarvestDate': '2021-10-29',\n",
       "   'LicenseURL': None,\n",
       "   'LinkProvider': [{'name': 'Datacite',\n",
       "     'identifier': [{'ID': '10|openaire____::9e3be59865b2c1c335d32dae2fe7b254',\n",
       "       'IDScheme': 'DNET Identifier',\n",
       "       'IDURL': None}]}],\n",
       "   'LinkPublicationDate': '2021-10-29'},\n",
       "  {'RelationshipType': {'Name': 'References',\n",
       "    'SubType': 'References',\n",
       "    'SubTypeSchema': 'datacite'},\n",
       "   'source': {'Type': 'dataset',\n",
       "    'Identifier': [{'ID': '10.5285/0cb61583-3985-4875-b141-5743e68abe35',\n",
       "      'IDScheme': 'doi',\n",
       "      'IDURL': 'https://dx.doi.org/10.5285/0cb61583-3985-4875-b141-5743e68abe35'},\n",
       "     {'ID': '50|doi_________::c689b58be25be8cdb721d3d99ab703a3',\n",
       "      'IDScheme': 'D-Net Identifier',\n",
       "      'IDURL': 'http://scholexplorer.openaire.eu/index.html#/detail/50|doi_________::c689b58be25be8cdb721d3d99ab703a3'}],\n",
       "    'Title': 'Processed airborne radio-echo sounding data from the FISS 2016 surveys covering the Filchner and Halley Ice Shelves, and the English Coast (western Palmer Land), West Antarctica (2016/2017)',\n",
       "    'Creator': [{'Name': 'Corr, Hugh', 'Identifier': []},\n",
       "     {'Name': 'Robinson, Carl', 'Identifier': []},\n",
       "     {'Name': 'Jordan, Tom', 'Identifier': []},\n",
       "     {'Name': 'Nicholls, Keith', 'Identifier': []},\n",
       "     {'Name': 'Brisbourne, Alex', 'Identifier': []}],\n",
       "    'PublicationDate': '2021-10-29',\n",
       "    'Publisher': [{'name': 'NERC EDS UK Polar Data Centre',\n",
       "      'identifier': []}]},\n",
       "   'target': {'Type': 'dataset',\n",
       "    'Identifier': [{'ID': '10.5285/b3e51c6e-20fd-4e3a-be47-0ed2efcaa0ab',\n",
       "      'IDScheme': 'doi',\n",
       "      'IDURL': 'https://dx.doi.org/10.5285/b3e51c6e-20fd-4e3a-be47-0ed2efcaa0ab'},\n",
       "     {'ID': '50|doi_________::cba0d69847a4588f22c4d81e163491e9',\n",
       "      'IDScheme': 'D-Net Identifier',\n",
       "      'IDURL': 'http://scholexplorer.openaire.eu/index.html#/detail/50|doi_________::cba0d69847a4588f22c4d81e163491e9'}],\n",
       "    'Title': 'Processed line aerogravity data from the FISS 2016 surveys covering the Filchner and Halley Ice Shelves, and the English Coast (western Palmer Land), West Antarctica (2016/2017)',\n",
       "    'Creator': [{'Name': 'Becker, David', 'Identifier': []},\n",
       "     {'Name': 'Jordan, Tom', 'Identifier': []},\n",
       "     {'Name': 'Robinson, Carl', 'Identifier': []},\n",
       "     {'Name': 'Corr, Hugh', 'Identifier': []}],\n",
       "    'PublicationDate': '2021-10-29',\n",
       "    'Publisher': [{'name': 'NERC EDS UK Polar Data Centre',\n",
       "      'identifier': []}]},\n",
       "   'HarvestDate': '2021-10-29',\n",
       "   'LicenseURL': None,\n",
       "   'LinkProvider': [{'name': 'Datacite',\n",
       "     'identifier': [{'ID': '10|openaire____::9e3be59865b2c1c335d32dae2fe7b254',\n",
       "       'IDScheme': 'DNET Identifier',\n",
       "       'IDURL': None}]}],\n",
       "   'LinkPublicationDate': '2021-10-29'},\n",
       "  {'RelationshipType': {'Name': 'IsReferencedBy',\n",
       "    'SubType': 'IsReferencedBy',\n",
       "    'SubTypeSchema': 'datacite'},\n",
       "   'source': {'Type': 'dataset',\n",
       "    'Identifier': [{'ID': '10.5285/0cb61583-3985-4875-b141-5743e68abe35',\n",
       "      'IDScheme': 'doi',\n",
       "      'IDURL': 'https://dx.doi.org/10.5285/0cb61583-3985-4875-b141-5743e68abe35'},\n",
       "     {'ID': '50|doi_________::c689b58be25be8cdb721d3d99ab703a3',\n",
       "      'IDScheme': 'D-Net Identifier',\n",
       "      'IDURL': 'http://scholexplorer.openaire.eu/index.html#/detail/50|doi_________::c689b58be25be8cdb721d3d99ab703a3'}],\n",
       "    'Title': 'Processed airborne radio-echo sounding data from the FISS 2016 surveys covering the Filchner and Halley Ice Shelves, and the English Coast (western Palmer Land), West Antarctica (2016/2017)',\n",
       "    'Creator': [{'Name': 'Corr, Hugh', 'Identifier': []},\n",
       "     {'Name': 'Robinson, Carl', 'Identifier': []},\n",
       "     {'Name': 'Jordan, Tom', 'Identifier': []},\n",
       "     {'Name': 'Nicholls, Keith', 'Identifier': []},\n",
       "     {'Name': 'Brisbourne, Alex', 'Identifier': []}],\n",
       "    'PublicationDate': '2021-10-29',\n",
       "    'Publisher': [{'name': 'NERC EDS UK Polar Data Centre',\n",
       "      'identifier': []}]},\n",
       "   'target': {'Type': 'dataset',\n",
       "    'Identifier': [{'ID': '10.5285/b3e51c6e-20fd-4e3a-be47-0ed2efcaa0ab',\n",
       "      'IDScheme': 'doi',\n",
       "      'IDURL': 'https://dx.doi.org/10.5285/b3e51c6e-20fd-4e3a-be47-0ed2efcaa0ab'},\n",
       "     {'ID': '50|doi_________::cba0d69847a4588f22c4d81e163491e9',\n",
       "      'IDScheme': 'D-Net Identifier',\n",
       "      'IDURL': 'http://scholexplorer.openaire.eu/index.html#/detail/50|doi_________::cba0d69847a4588f22c4d81e163491e9'}],\n",
       "    'Title': 'Processed line aerogravity data from the FISS 2016 surveys covering the Filchner and Halley Ice Shelves, and the English Coast (western Palmer Land), West Antarctica (2016/2017)',\n",
       "    'Creator': [{'Name': 'Becker, David', 'Identifier': []},\n",
       "     {'Name': 'Jordan, Tom', 'Identifier': []},\n",
       "     {'Name': 'Robinson, Carl', 'Identifier': []},\n",
       "     {'Name': 'Corr, Hugh', 'Identifier': []}],\n",
       "    'PublicationDate': '2021-10-29',\n",
       "    'Publisher': [{'name': 'NERC EDS UK Polar Data Centre',\n",
       "      'identifier': []}]},\n",
       "   'HarvestDate': '2021-10-29',\n",
       "   'LicenseURL': None,\n",
       "   'LinkProvider': [{'name': 'Datacite',\n",
       "     'identifier': [{'ID': '10|openaire____::9e3be59865b2c1c335d32dae2fe7b254',\n",
       "       'IDScheme': 'DNET Identifier',\n",
       "       'IDURL': None}]}],\n",
       "   'LinkPublicationDate': '2021-10-29'},\n",
       "  {'RelationshipType': {'Name': 'References',\n",
       "    'SubType': 'References',\n",
       "    'SubTypeSchema': 'datacite'},\n",
       "   'source': {'Type': 'dataset',\n",
       "    'Identifier': [{'ID': '10.5285/0cb61583-3985-4875-b141-5743e68abe35',\n",
       "      'IDScheme': 'doi',\n",
       "      'IDURL': 'https://dx.doi.org/10.5285/0cb61583-3985-4875-b141-5743e68abe35'},\n",
       "     {'ID': '50|doi_________::c689b58be25be8cdb721d3d99ab703a3',\n",
       "      'IDScheme': 'D-Net Identifier',\n",
       "      'IDURL': 'http://scholexplorer.openaire.eu/index.html#/detail/50|doi_________::c689b58be25be8cdb721d3d99ab703a3'}],\n",
       "    'Title': 'Processed airborne radio-echo sounding data from the FISS 2016 surveys covering the Filchner and Halley Ice Shelves, and the English Coast (western Palmer Land), West Antarctica (2016/2017)',\n",
       "    'Creator': [{'Name': 'Corr, Hugh', 'Identifier': []},\n",
       "     {'Name': 'Robinson, Carl', 'Identifier': []},\n",
       "     {'Name': 'Jordan, Tom', 'Identifier': []},\n",
       "     {'Name': 'Nicholls, Keith', 'Identifier': []},\n",
       "     {'Name': 'Brisbourne, Alex', 'Identifier': []}],\n",
       "    'PublicationDate': '2021-10-29',\n",
       "    'Publisher': [{'name': 'NERC EDS UK Polar Data Centre',\n",
       "      'identifier': []}]},\n",
       "   'target': {'Type': 'dataset',\n",
       "    'Identifier': [{'ID': '10.5285/83c4f40e-abd4-4f76-a7db-d7307bd56b55',\n",
       "      'IDScheme': 'doi',\n",
       "      'IDURL': 'https://dx.doi.org/10.5285/83c4f40e-abd4-4f76-a7db-d7307bd56b55'},\n",
       "     {'ID': '50|doi_________::955b21c8409c5261e1d2e08882317b80',\n",
       "      'IDScheme': 'D-Net Identifier',\n",
       "      'IDURL': 'http://scholexplorer.openaire.eu/index.html#/detail/50|doi_________::955b21c8409c5261e1d2e08882317b80'}],\n",
       "    'Title': 'Processed line aeromagnetic data from the FISS 2016 surveys covering the Filchner and Halley Ice Shelves, and the English Coast (western Palmer Land), West Antarctica (2016/2017)',\n",
       "    'Creator': [{'Name': 'Jordan, Tom', 'Identifier': []},\n",
       "     {'Name': 'Corr, Hugh', 'Identifier': []},\n",
       "     {'Name': 'Robinson, Carl', 'Identifier': []}],\n",
       "    'PublicationDate': '2021-10-29',\n",
       "    'Publisher': [{'name': 'NERC EDS UK Polar Data Centre',\n",
       "      'identifier': []}]},\n",
       "   'HarvestDate': '2021-10-29',\n",
       "   'LicenseURL': None,\n",
       "   'LinkProvider': [{'name': 'Datacite',\n",
       "     'identifier': [{'ID': '10|openaire____::9e3be59865b2c1c335d32dae2fe7b254',\n",
       "       'IDScheme': 'DNET Identifier',\n",
       "       'IDURL': None}]}],\n",
       "   'LinkPublicationDate': '2021-10-29'},\n",
       "  {'RelationshipType': {'Name': 'IsReferencedBy',\n",
       "    'SubType': 'IsReferencedBy',\n",
       "    'SubTypeSchema': 'datacite'},\n",
       "   'source': {'Type': 'dataset',\n",
       "    'Identifier': [{'ID': '10.5285/0cb61583-3985-4875-b141-5743e68abe35',\n",
       "      'IDScheme': 'doi',\n",
       "      'IDURL': 'https://dx.doi.org/10.5285/0cb61583-3985-4875-b141-5743e68abe35'},\n",
       "     {'ID': '50|doi_________::c689b58be25be8cdb721d3d99ab703a3',\n",
       "      'IDScheme': 'D-Net Identifier',\n",
       "      'IDURL': 'http://scholexplorer.openaire.eu/index.html#/detail/50|doi_________::c689b58be25be8cdb721d3d99ab703a3'}],\n",
       "    'Title': 'Processed airborne radio-echo sounding data from the FISS 2016 surveys covering the Filchner and Halley Ice Shelves, and the English Coast (western Palmer Land), West Antarctica (2016/2017)',\n",
       "    'Creator': [{'Name': 'Corr, Hugh', 'Identifier': []},\n",
       "     {'Name': 'Robinson, Carl', 'Identifier': []},\n",
       "     {'Name': 'Jordan, Tom', 'Identifier': []},\n",
       "     {'Name': 'Nicholls, Keith', 'Identifier': []},\n",
       "     {'Name': 'Brisbourne, Alex', 'Identifier': []}],\n",
       "    'PublicationDate': '2021-10-29',\n",
       "    'Publisher': [{'name': 'NERC EDS UK Polar Data Centre',\n",
       "      'identifier': []}]},\n",
       "   'target': {'Type': 'dataset',\n",
       "    'Identifier': [{'ID': '10.5285/e7851bba-21ff-4645-b557-d8eafdf89462',\n",
       "      'IDScheme': 'doi',\n",
       "      'IDURL': 'https://dx.doi.org/10.5285/e7851bba-21ff-4645-b557-d8eafdf89462'},\n",
       "     {'ID': '50|doi_________::861f2c3735749f05ce174c81ab952165',\n",
       "      'IDScheme': 'D-Net Identifier',\n",
       "      'IDURL': 'http://scholexplorer.openaire.eu/index.html#/detail/50|doi_________::861f2c3735749f05ce174c81ab952165'}],\n",
       "    'Title': 'Processed bed elevation picks from airborne radar depth sounding from the FISS 2016 survey covering the Filchner and Halley Ice Shelves (2016/2017)',\n",
       "    'Creator': [{'Name': 'Corr, Hugh', 'Identifier': []},\n",
       "     {'Name': 'Robinson, Carl', 'Identifier': []},\n",
       "     {'Name': 'Jordan, Tom', 'Identifier': []},\n",
       "     {'Name': 'Nicholls, Keith', 'Identifier': []},\n",
       "     {'Name': 'Brisbourne, Alex', 'Identifier': []}],\n",
       "    'PublicationDate': '2021-10-29',\n",
       "    'Publisher': [{'name': 'NERC EDS UK Polar Data Centre',\n",
       "      'identifier': []}]},\n",
       "   'HarvestDate': '2021-10-29',\n",
       "   'LicenseURL': None,\n",
       "   'LinkProvider': [{'name': 'Datacite',\n",
       "     'identifier': [{'ID': '10|openaire____::9e3be59865b2c1c335d32dae2fe7b254',\n",
       "       'IDScheme': 'DNET Identifier',\n",
       "       'IDURL': None}]}],\n",
       "   'LinkPublicationDate': '2021-10-29'},\n",
       "  {'RelationshipType': {'Name': 'References',\n",
       "    'SubType': 'References',\n",
       "    'SubTypeSchema': 'datacite'},\n",
       "   'source': {'Type': 'dataset',\n",
       "    'Identifier': [{'ID': '10.5285/0cb61583-3985-4875-b141-5743e68abe35',\n",
       "      'IDScheme': 'doi',\n",
       "      'IDURL': 'https://dx.doi.org/10.5285/0cb61583-3985-4875-b141-5743e68abe35'},\n",
       "     {'ID': '50|doi_________::c689b58be25be8cdb721d3d99ab703a3',\n",
       "      'IDScheme': 'D-Net Identifier',\n",
       "      'IDURL': 'http://scholexplorer.openaire.eu/index.html#/detail/50|doi_________::c689b58be25be8cdb721d3d99ab703a3'}],\n",
       "    'Title': 'Processed airborne radio-echo sounding data from the FISS 2016 surveys covering the Filchner and Halley Ice Shelves, and the English Coast (western Palmer Land), West Antarctica (2016/2017)',\n",
       "    'Creator': [{'Name': 'Corr, Hugh', 'Identifier': []},\n",
       "     {'Name': 'Robinson, Carl', 'Identifier': []},\n",
       "     {'Name': 'Jordan, Tom', 'Identifier': []},\n",
       "     {'Name': 'Nicholls, Keith', 'Identifier': []},\n",
       "     {'Name': 'Brisbourne, Alex', 'Identifier': []}],\n",
       "    'PublicationDate': '2021-10-29',\n",
       "    'Publisher': [{'name': 'NERC EDS UK Polar Data Centre',\n",
       "      'identifier': []}]},\n",
       "   'target': {'Type': 'dataset',\n",
       "    'Identifier': [{'ID': '10.5285/e7851bba-21ff-4645-b557-d8eafdf89462',\n",
       "      'IDScheme': 'doi',\n",
       "      'IDURL': 'https://dx.doi.org/10.5285/e7851bba-21ff-4645-b557-d8eafdf89462'},\n",
       "     {'ID': '50|doi_________::861f2c3735749f05ce174c81ab952165',\n",
       "      'IDScheme': 'D-Net Identifier',\n",
       "      'IDURL': 'http://scholexplorer.openaire.eu/index.html#/detail/50|doi_________::861f2c3735749f05ce174c81ab952165'}],\n",
       "    'Title': 'Processed bed elevation picks from airborne radar depth sounding from the FISS 2016 survey covering the Filchner and Halley Ice Shelves (2016/2017)',\n",
       "    'Creator': [{'Name': 'Corr, Hugh', 'Identifier': []},\n",
       "     {'Name': 'Robinson, Carl', 'Identifier': []},\n",
       "     {'Name': 'Jordan, Tom', 'Identifier': []},\n",
       "     {'Name': 'Nicholls, Keith', 'Identifier': []},\n",
       "     {'Name': 'Brisbourne, Alex', 'Identifier': []}],\n",
       "    'PublicationDate': '2021-10-29',\n",
       "    'Publisher': [{'name': 'NERC EDS UK Polar Data Centre',\n",
       "      'identifier': []}]},\n",
       "   'HarvestDate': '2021-10-29',\n",
       "   'LicenseURL': None,\n",
       "   'LinkProvider': [{'name': 'Datacite',\n",
       "     'identifier': [{'ID': '10|openaire____::9e3be59865b2c1c335d32dae2fe7b254',\n",
       "       'IDScheme': 'DNET Identifier',\n",
       "       'IDURL': None}]}],\n",
       "   'LinkPublicationDate': '2021-10-29'}]}"
      ]
     },
     "execution_count": 4,
     "metadata": {},
     "output_type": "execute_result"
    }
   ],
   "source": [
    "schol_url = 'http://api.scholexplorer.openaire.eu/v2/Links'\n",
    "# format = '?format=json'\n",
    "# page = '?page=87'\n",
    "# url = catalogue_url + page\n",
    "\n",
    "headers = {\n",
    "    'sourcePid': '10.5285/0cb61583-3985-4875-b141-5743e68abe35',\n",
    "}\n",
    "\n",
    "r = requests.get(schol_url, headers)\n",
    "print(r.status_code)\n",
    "r.json()"
   ]
  },
  {
   "cell_type": "code",
   "execution_count": 4,
   "id": "af47ae58-8759-4b09-abf5-7150fb819a8c",
   "metadata": {},
   "outputs": [
    {
     "data": {
      "text/plain": [
       "[{'ID': '2006.12975',\n",
       "  'IDScheme': 'arXiv',\n",
       "  'IDURL': 'http://arxiv.org/abs/2006.12975'},\n",
       " {'ID': '50|arXiv_______::306293e7766866c13cfa3c5716c44d8c',\n",
       "  'IDScheme': 'D-Net Identifier',\n",
       "  'IDURL': 'http://scholexplorer.openaire.eu/index.html#/detail/50|arXiv_______::306293e7766866c13cfa3c5716c44d8c'}]"
      ]
     },
     "execution_count": 4,
     "metadata": {},
     "output_type": "execute_result"
    }
   ],
   "source": [
    "r.json()['result'][0]['target']['Identifier']\n"
   ]
  },
  {
   "cell_type": "code",
   "execution_count": 4,
   "id": "744839e7-58b5-4940-9a7f-aea355b02145",
   "metadata": {},
   "outputs": [
    {
     "ename": "NameError",
     "evalue": "name 'Scholex_df' is not defined",
     "output_type": "error",
     "traceback": [
      "\u001b[1;31m---------------------------------------------------------------------------\u001b[0m",
      "\u001b[1;31mNameError\u001b[0m                                 Traceback (most recent call last)",
      "\u001b[1;32m~\\AppData\\Local\\Temp/ipykernel_19996/3779496512.py\u001b[0m in \u001b[0;36m<module>\u001b[1;34m\u001b[0m\n\u001b[1;32m----> 1\u001b[1;33m \u001b[0mScholex_df\u001b[0m\u001b[1;33m[\u001b[0m\u001b[1;34m'datasetTitle'\u001b[0m\u001b[1;33m]\u001b[0m\u001b[1;33m[\u001b[0m\u001b[1;36m1\u001b[0m\u001b[1;33m]\u001b[0m\u001b[1;33m\u001b[0m\u001b[1;33m\u001b[0m\u001b[0m\n\u001b[0m",
      "\u001b[1;31mNameError\u001b[0m: name 'Scholex_df' is not defined"
     ]
    }
   ],
   "source": [
    "Scholex_df['datasetTitle'][1]"
   ]
  },
  {
   "cell_type": "code",
   "execution_count": 8,
   "id": "8e5aa254-1efd-4fea-a172-bab5490bdf28",
   "metadata": {},
   "outputs": [
    {
     "name": "stdout",
     "output_type": "stream",
     "text": [
      "1\n"
     ]
    }
   ],
   "source": [
    "citations = r.json()['totalLinks']\n",
    "print(citations)"
   ]
  },
  {
   "cell_type": "code",
   "execution_count": 9,
   "id": "57c33fc6-e6d8-4b06-9cc6-6885a3d637db",
   "metadata": {},
   "outputs": [
    {
     "name": "stdout",
     "output_type": "stream",
     "text": [
      "1\n"
     ]
    }
   ],
   "source": [
    "dataseries = r.json()['result']\n",
    "type(dataseries)\n",
    "print(len(r.json()['result']))"
   ]
  },
  {
   "cell_type": "code",
   "execution_count": 12,
   "id": "8f05b0cd-9139-4f22-8e24-5ead90505de6",
   "metadata": {
    "tags": []
   },
   "outputs": [
    {
     "data": {
      "text/plain": [
       "[{'ID': '25165767',\n",
       "  'IDScheme': 'pmid',\n",
       "  'IDURL': 'https://pubmed.ncbi.nlm.nih.gov/25165767'},\n",
       " {'ID': 'PMC4173671',\n",
       "  'IDScheme': 'pmc',\n",
       "  'IDURL': 'http://europepmc.org/articles/PMC4173671'},\n",
       " {'ID': '10.1098/rspb.2014.0938',\n",
       "  'IDScheme': 'doi',\n",
       "  'IDURL': 'https://doi.org/10.1098/rspb.2014.0938'},\n",
       " {'ID': '50|doi_dedup___::9bb9bea4687fb63514ecef287bd24ebd',\n",
       "  'IDScheme': 'D-Net Identifier',\n",
       "  'IDURL': 'http://scholexplorer.openaire.eu/index.html#/detail/50|doi_dedup___::9bb9bea4687fb63514ecef287bd24ebd'}]"
      ]
     },
     "execution_count": 12,
     "metadata": {},
     "output_type": "execute_result"
    }
   ],
   "source": [
    "dataseries[0]['target']['Identifier']"
   ]
  },
  {
   "cell_type": "code",
   "execution_count": 14,
   "id": "0c7e060d-d02d-44e9-9a96-84a72e12c1eb",
   "metadata": {
    "scrolled": true,
    "tags": []
   },
   "outputs": [
    {
     "data": {
      "text/plain": [
       "{'Type': 'literature',\n",
       " 'Identifier': [{'ID': '25165767',\n",
       "   'IDScheme': 'pmid',\n",
       "   'IDURL': 'https://pubmed.ncbi.nlm.nih.gov/25165767'},\n",
       "  {'ID': 'PMC4173671',\n",
       "   'IDScheme': 'pmc',\n",
       "   'IDURL': 'http://europepmc.org/articles/PMC4173671'},\n",
       "  {'ID': '10.1098/rspb.2014.0938',\n",
       "   'IDScheme': 'doi',\n",
       "   'IDURL': 'https://doi.org/10.1098/rspb.2014.0938'},\n",
       "  {'ID': '50|doi_dedup___::9bb9bea4687fb63514ecef287bd24ebd',\n",
       "   'IDScheme': 'D-Net Identifier',\n",
       "   'IDURL': 'http://scholexplorer.openaire.eu/index.html#/detail/50|doi_dedup___::9bb9bea4687fb63514ecef287bd24ebd'}],\n",
       " 'Title': 'When phenology matters: age–size truncation alters population response to trophic mismatch',\n",
       " 'Creator': [{'Name': 'Stephen J. Thackeray', 'Identifier': []},\n",
       "  {'Name': 'Ian J. Winfield', 'Identifier': []},\n",
       "  {'Name': 'Jan Ohlberger', 'Identifier': []},\n",
       "  {'Name': 'Stephen C. Maberly', 'Identifier': []},\n",
       "  {'Name': 'L. Asbjørn Vøllestad', 'Identifier': []}],\n",
       " 'PublicationDate': '2014-10-01',\n",
       " 'Publisher': [{'name': 'Royal Society', 'identifier': []}]}"
      ]
     },
     "execution_count": 14,
     "metadata": {},
     "output_type": "execute_result"
    }
   ],
   "source": [
    "dataseries[0]['target']"
   ]
  },
  {
   "cell_type": "code",
   "execution_count": 15,
   "id": "dc3837a2-5a76-4fc8-b391-1e5303c41daf",
   "metadata": {},
   "outputs": [
    {
     "name": "stdout",
     "output_type": "stream",
     "text": [
      "9\n",
      "References\n",
      "2022-02-10\n",
      "Large-scale features of Last Interglacial climate : Results from evaluating the lig127k simulations for the Coupled Model Intercomparison Project (CMIP6)-Paleoclimate Modeling Intercomparison Project (PMIP4)\n",
      "2021-01-11\n"
     ]
    }
   ],
   "source": [
    "# get info\n",
    "citations = r.json()['totalLinks']\n",
    "dataseries = r.json()['result']\n",
    "relationshipType = dataseries[0]['RelationshipType']['Name']\n",
    "linkPublicationDate = dataseries[0]['LinkPublicationDate']\n",
    "pubTitle = dataseries[0]['target']['Title']\n",
    "publicationDate = dataseries[0]['target']['PublicationDate']\n",
    "print(citations)\n",
    "print(relationshipType)\n",
    "print(linkPublicationDate)\n",
    "print(pubTitle)\n",
    "print(publicationDate)"
   ]
  },
  {
   "cell_type": "code",
   "execution_count": null,
   "id": "e4e4b6e9-9dc8-49e3-8aeb-ea4b23b844fb",
   "metadata": {},
   "outputs": [],
   "source": []
  },
  {
   "cell_type": "code",
   "execution_count": 11,
   "id": "aecb7bf1-78fe-4f4f-9b9d-1d2161f706e3",
   "metadata": {},
   "outputs": [
    {
     "name": "stdout",
     "output_type": "stream",
     "text": [
      "{'sourcePid': '10.5285/6c6c9203-7333-4d96-88ab-78925e7a4e73'}\n",
      "200\n",
      "{'sourcePid': '10.5285/f493ad5c-585c-475d-a374-2f77b5866bc4'}\n",
      "200\n",
      "{'sourcePid': '10.5285/74a588cc-723c-4a35-ac0c-223f5b92ee36'}\n",
      "200\n"
     ]
    }
   ],
   "source": [
    "import requests\n",
    "import pandas as pd\n",
    "# this will be list of dataset DOIs from datacite API:\n",
    "datasetDOIs = ['10.5285/6c6c9203-7333-4d96-88ab-78925e7a4e73', '10.5285/f493ad5c-585c-475d-a374-2f77b5866bc4', '10.5285/74a588cc-723c-4a35-ac0c-223f5b92ee36'] \n",
    "schol_url = 'http://api.scholexplorer.openaire.eu/v2/Links'\n",
    "\n",
    "\n",
    "info = []\n",
    "\n",
    "for doi in datasetDOIs:\n",
    "    headers = {'sourcePid': doi}\n",
    "    r = requests.get(schol_url, headers)\n",
    "    print(headers)\n",
    "    print(r.status_code)\n",
    "    \n",
    "    dataseries = r.json()['result']\n",
    "    citations = r.json()['totalLinks']\n",
    "#   relationshipType = dataseries[0]['RelationshipType']['Name']\n",
    "\n",
    "        \n",
    "    \n",
    "    info.append([citations,\n",
    "                         dataseries[0]['RelationshipType']['Name'],\n",
    "                         dataseries[0]['LinkPublicationDate'],\n",
    "                         dataseries[0]['target']['Title'],\n",
    "                         dataseries[0]['target']['PublicationDate']])\n",
    "    \n",
    "    \n",
    "column_names = [\"citations\", \"relationshipType\", \"linkPubDate\", \"pubTitle\", \"pubDate\"]\n",
    "df = pd.DataFrame(info, columns = column_names)"
   ]
  },
  {
   "cell_type": "code",
   "execution_count": 12,
   "id": "16c065c4-2507-415e-9c72-3127bb03638e",
   "metadata": {},
   "outputs": [
    {
     "data": {
      "text/html": [
       "<div>\n",
       "<style scoped>\n",
       "    .dataframe tbody tr th:only-of-type {\n",
       "        vertical-align: middle;\n",
       "    }\n",
       "\n",
       "    .dataframe tbody tr th {\n",
       "        vertical-align: top;\n",
       "    }\n",
       "\n",
       "    .dataframe thead th {\n",
       "        text-align: right;\n",
       "    }\n",
       "</style>\n",
       "<table border=\"1\" class=\"dataframe\">\n",
       "  <thead>\n",
       "    <tr style=\"text-align: right;\">\n",
       "      <th></th>\n",
       "      <th>citations</th>\n",
       "      <th>relationshipType</th>\n",
       "      <th>linkPubDate</th>\n",
       "      <th>pubTitle</th>\n",
       "      <th>pubDate</th>\n",
       "    </tr>\n",
       "  </thead>\n",
       "  <tbody>\n",
       "    <tr>\n",
       "      <th>0</th>\n",
       "      <td>18</td>\n",
       "      <td>IsReferencedBy</td>\n",
       "      <td>2017-01-01</td>\n",
       "      <td>Managing hedgerows for nocturnal wildlife: Do ...</td>\n",
       "      <td>2019-05-28</td>\n",
       "    </tr>\n",
       "    <tr>\n",
       "      <th>1</th>\n",
       "      <td>1</td>\n",
       "      <td>IsReferencedBy</td>\n",
       "      <td>2020-01-01</td>\n",
       "      <td>Abrupt changes in Great Britain vegetation car...</td>\n",
       "      <td>2019-10-11</td>\n",
       "    </tr>\n",
       "    <tr>\n",
       "      <th>2</th>\n",
       "      <td>5</td>\n",
       "      <td>IsReferencedBy</td>\n",
       "      <td>2016-01-01</td>\n",
       "      <td>Estimación de datos faltantes de lluvia mensua...</td>\n",
       "      <td>2018-09-01</td>\n",
       "    </tr>\n",
       "  </tbody>\n",
       "</table>\n",
       "</div>"
      ],
      "text/plain": [
       "   citations relationshipType linkPubDate  \\\n",
       "0         18   IsReferencedBy  2017-01-01   \n",
       "1          1   IsReferencedBy  2020-01-01   \n",
       "2          5   IsReferencedBy  2016-01-01   \n",
       "\n",
       "                                            pubTitle     pubDate  \n",
       "0  Managing hedgerows for nocturnal wildlife: Do ...  2019-05-28  \n",
       "1  Abrupt changes in Great Britain vegetation car...  2019-10-11  \n",
       "2  Estimación de datos faltantes de lluvia mensua...  2018-09-01  "
      ]
     },
     "execution_count": 12,
     "metadata": {},
     "output_type": "execute_result"
    }
   ],
   "source": [
    "df"
   ]
  },
  {
   "cell_type": "code",
   "execution_count": 22,
   "id": "9d3aacab-9f1f-4f9b-87dc-3bba1c808800",
   "metadata": {},
   "outputs": [
    {
     "ename": "TypeError",
     "evalue": "getDatasetCitations() missing 1 required positional argument: 'dataDOIs'",
     "output_type": "error",
     "traceback": [
      "\u001b[1;31m---------------------------------------------------------------------------\u001b[0m",
      "\u001b[1;31mTypeError\u001b[0m                                 Traceback (most recent call last)",
      "\u001b[1;32m~\\AppData\\Local\\Temp/ipykernel_12088/3731971676.py\u001b[0m in \u001b[0;36m<module>\u001b[1;34m\u001b[0m\n\u001b[0;32m     25\u001b[0m     \u001b[0mScholex_df\u001b[0m \u001b[1;33m=\u001b[0m \u001b[0mpd\u001b[0m\u001b[1;33m.\u001b[0m\u001b[0mDataFrame\u001b[0m\u001b[1;33m(\u001b[0m\u001b[0mscholexInfo\u001b[0m\u001b[1;33m,\u001b[0m \u001b[0mcolumns\u001b[0m \u001b[1;33m=\u001b[0m \u001b[0mcolumn_names\u001b[0m\u001b[1;33m)\u001b[0m\u001b[1;33m\u001b[0m\u001b[1;33m\u001b[0m\u001b[0m\n\u001b[0;32m     26\u001b[0m     \u001b[1;32mreturn\u001b[0m \u001b[0mScholex_df\u001b[0m\u001b[1;33m\u001b[0m\u001b[1;33m\u001b[0m\u001b[0m\n\u001b[1;32m---> 27\u001b[1;33m \u001b[0mScholex_df\u001b[0m \u001b[1;33m=\u001b[0m \u001b[0mgetDatasetCitations\u001b[0m\u001b[1;33m(\u001b[0m\u001b[1;33m)\u001b[0m\u001b[1;33m\u001b[0m\u001b[1;33m\u001b[0m\u001b[0m\n\u001b[0m",
      "\u001b[1;31mTypeError\u001b[0m: getDatasetCitations() missing 1 required positional argument: 'dataDOIs'"
     ]
    }
   ],
   "source": [
    "def getDatasetCitations(dataDOIs):\n",
    "    scholexInfo = []\n",
    "\n",
    "    for doi in dataDOIs:\n",
    "        headers = {'sourcePid': doi}\n",
    "        r = requests.get('http://api.scholexplorer.openaire.eu/v2/Links', headers)\n",
    "        print(headers)\n",
    "        print(r.status_code)\n",
    "\n",
    "        dataseries = r.json()['result']\n",
    "        citations = r.json()['totalLinks']\n",
    "        \n",
    "        # scholex hold no further info if no citations, therefore need a catcher here\n",
    "        if citations == 0:\n",
    "            break\n",
    "        else:\n",
    "            \n",
    "            \n",
    "            \n",
    "            \n",
    "            scholexInfo.append([citations,\n",
    "                             dataseries[0]['RelationshipType']['Name'],\n",
    "                             dataseries[0]['LinkPublicationDate'],\n",
    "                             dataseries[0]['target']['Title'],\n",
    "                             dataseries[0]['target']['PublicationDate']])\n",
    "            \n",
    "\n",
    "    column_names = [\"citations\", \"relationshipType\", \"linkPubDate\", \"pubTitle\", \"pubDate\"]\n",
    "    Scholex_df = pd.DataFrame(scholexInfo, columns = column_names)\n",
    "    return Scholex_df\n"
   ]
  },
  {
   "cell_type": "code",
   "execution_count": 23,
   "id": "f109dd9a-ee11-4ec3-87e8-8c10cc68b148",
   "metadata": {},
   "outputs": [
    {
     "name": "stdout",
     "output_type": "stream",
     "text": [
      "{'sourcePid': '10.5285/6c6c9203-7333-4d96-88ab-78925e7a4e73'}\n",
      "200\n",
      "{'sourcePid': '10.5285/f493ad5c-585c-475d-a374-2f77b5866bc4'}\n",
      "200\n",
      "{'sourcePid': '10.5285/74a588cc-723c-4a35-ac0c-223f5b92ee36'}\n",
      "200\n"
     ]
    }
   ],
   "source": [
    "import requests\n",
    "import pandas as pd\n",
    "\n",
    "dataDOIs = ['10.5285/6c6c9203-7333-4d96-88ab-78925e7a4e73', '10.5285/f493ad5c-585c-475d-a374-2f77b5866bc4', '10.5285/74a588cc-723c-4a35-ac0c-223f5b92ee36'] \n",
    "\n",
    "Scholex_df = getDatasetCitations(dataDOIs)"
   ]
  },
  {
   "cell_type": "code",
   "execution_count": 24,
   "id": "12c9df75-8fb4-4173-a1bd-131686bb6ed1",
   "metadata": {},
   "outputs": [
    {
     "data": {
      "text/html": [
       "<div>\n",
       "<style scoped>\n",
       "    .dataframe tbody tr th:only-of-type {\n",
       "        vertical-align: middle;\n",
       "    }\n",
       "\n",
       "    .dataframe tbody tr th {\n",
       "        vertical-align: top;\n",
       "    }\n",
       "\n",
       "    .dataframe thead th {\n",
       "        text-align: right;\n",
       "    }\n",
       "</style>\n",
       "<table border=\"1\" class=\"dataframe\">\n",
       "  <thead>\n",
       "    <tr style=\"text-align: right;\">\n",
       "      <th></th>\n",
       "      <th>citations</th>\n",
       "      <th>relationshipType</th>\n",
       "      <th>linkPubDate</th>\n",
       "      <th>pubTitle</th>\n",
       "      <th>pubDate</th>\n",
       "    </tr>\n",
       "  </thead>\n",
       "  <tbody>\n",
       "    <tr>\n",
       "      <th>0</th>\n",
       "      <td>18</td>\n",
       "      <td>IsReferencedBy</td>\n",
       "      <td>2017-01-01</td>\n",
       "      <td>Managing hedgerows for nocturnal wildlife: Do ...</td>\n",
       "      <td>2019-05-28</td>\n",
       "    </tr>\n",
       "    <tr>\n",
       "      <th>1</th>\n",
       "      <td>1</td>\n",
       "      <td>IsReferencedBy</td>\n",
       "      <td>2020-01-01</td>\n",
       "      <td>Abrupt changes in Great Britain vegetation car...</td>\n",
       "      <td>2019-10-11</td>\n",
       "    </tr>\n",
       "    <tr>\n",
       "      <th>2</th>\n",
       "      <td>5</td>\n",
       "      <td>IsReferencedBy</td>\n",
       "      <td>2016-01-01</td>\n",
       "      <td>Estimación de datos faltantes de lluvia mensua...</td>\n",
       "      <td>2018-09-01</td>\n",
       "    </tr>\n",
       "  </tbody>\n",
       "</table>\n",
       "</div>"
      ],
      "text/plain": [
       "   citations relationshipType linkPubDate  \\\n",
       "0         18   IsReferencedBy  2017-01-01   \n",
       "1          1   IsReferencedBy  2020-01-01   \n",
       "2          5   IsReferencedBy  2016-01-01   \n",
       "\n",
       "                                            pubTitle     pubDate  \n",
       "0  Managing hedgerows for nocturnal wildlife: Do ...  2019-05-28  \n",
       "1  Abrupt changes in Great Britain vegetation car...  2019-10-11  \n",
       "2  Estimación de datos faltantes de lluvia mensua...  2018-09-01  "
      ]
     },
     "execution_count": 24,
     "metadata": {},
     "output_type": "execute_result"
    }
   ],
   "source": [
    "Scholex_df"
   ]
  },
  {
   "cell_type": "code",
   "execution_count": null,
   "id": "965b2463-7f7c-4b34-a67a-5ce7121a96a7",
   "metadata": {},
   "outputs": [],
   "source": []
  },
  {
   "cell_type": "code",
   "execution_count": 22,
   "id": "1cd70599-f7f2-42a4-9987-89185d1b8f5a",
   "metadata": {},
   "outputs": [
    {
     "name": "stdout",
     "output_type": "stream",
     "text": [
      "10.1098/rspb.2014.0938\n"
     ]
    }
   ],
   "source": [
    "\n",
    "for IDinfo in r.json()['result'][0]['target']['Identifier']:\n",
    "    if IDinfo['IDScheme'] != 'doi':\n",
    "        continue\n",
    "    else:\n",
    "        print(IDinfo['ID'])\n",
    "    "
   ]
  },
  {
   "cell_type": "code",
   "execution_count": null,
   "id": "ebb20535-9f73-462a-9555-c16e3da02874",
   "metadata": {},
   "outputs": [],
   "source": []
  }
 ],
 "metadata": {
  "kernelspec": {
   "display_name": "Python 3 (ipykernel)",
   "language": "python",
   "name": "python3"
  },
  "language_info": {
   "codemirror_mode": {
    "name": "ipython",
    "version": 3
   },
   "file_extension": ".py",
   "mimetype": "text/x-python",
   "name": "python",
   "nbconvert_exporter": "python",
   "pygments_lexer": "ipython3",
   "version": "3.7.3"
  }
 },
 "nbformat": 4,
 "nbformat_minor": 5
}
