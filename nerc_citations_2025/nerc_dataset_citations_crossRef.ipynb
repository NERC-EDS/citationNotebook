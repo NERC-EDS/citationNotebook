{
 "cells": [
  {
   "cell_type": "markdown",
   "id": "387c46a5",
   "metadata": {},
   "source": [
    "## CrossRef"
   ]
  },
  {
   "cell_type": "code",
   "execution_count": null,
   "id": "cbc83c74",
   "metadata": {},
   "outputs": [],
   "source": [
    "import requests, time, json, re, datetime, os, sys\n",
    "from requests.adapters import HTTPAdapter\n",
    "from requests.packages.urllib3.util.retry import Retry\n",
    "import numpy as np\n",
    "import pandas as pd\n",
    "from math import ceil\n",
    "from datetime import date\n",
    "import crossRef_fun\n",
    "from crossRef_fun import getDataCiteInfo, getCrossRefCitations, filterCrossRefResults, mergeDFs, getPublicationInfo\n",
    "# import exportCitationResultsToCsv\n",
    "# from Results import convertCSVtoJSON\n",
    "\n",
    "\n",
    "sys.path.insert(0, '..')"
   ]
  },
  {
   "cell_type": "code",
   "execution_count": null,
   "id": "3b10ac22",
   "metadata": {},
   "outputs": [],
   "source": [
    "# Code for getting results based on a date range\n",
    "\n",
    "email = \"matnic@ceh.ac.uk\"\n",
    "prefix = \"10.5285\"\n",
    "start_date = \"1990-01-01\"\n",
    "today = date.today()\n",
    "end_date = today.strftime(\"%Y-%m-%d\")\n",
    "results_folder_path = \"Results/\"\n",
    "results_folder_path_name = results_folder_path + \"NERC_EDS_events_from_\" + start_date + \"_up_to_\" + end_date\n",
    "\n",
    "getCrossRefCitations.getCrossRefCitations_byDates(email, prefix, start_date, end_date, results_folder_path)"
   ]
  },
  {
   "cell_type": "code",
   "execution_count": null,
   "id": "0c626ffc",
   "metadata": {},
   "outputs": [],
   "source": [
    "# filter results \n",
    "crossRef_df_gbif_filtered2_deduplicated = filterCrossRefResults.filterCrossRefResults(results_folder_path_name)"
   ]
  },
  {
   "cell_type": "code",
   "execution_count": null,
   "id": "7ed16675",
   "metadata": {},
   "outputs": [],
   "source": [
    "# Pass citation info to datacite API to collect relevant info on the datasets, data centres etc\n",
    "(errors, dataCite_df) = getDataCiteInfo.getDataCiteInfo(crossRef_df_gbif_filtered2_deduplicated)"
   ]
  },
  {
   "cell_type": "code",
   "execution_count": null,
   "id": "e5ec5ca9",
   "metadata": {},
   "outputs": [],
   "source": [
    "(dataset_df, crossRef_df_gbif_filtered2_deduplicated) = mergeDFs.mergeDFs(dataCite_df,crossRef_df_gbif_filtered2_deduplicated)"
   ]
  },
  {
   "cell_type": "code",
   "execution_count": null,
   "id": "030e785d",
   "metadata": {},
   "outputs": [],
   "source": [
    "crossRef_df_gbif_filtered2_deduplicated = getPublicationInfo.getPublicationInfo(crossRef_df_gbif_filtered2_deduplicated)"
   ]
  },
  {
   "cell_type": "markdown",
   "id": "d1e45b63",
   "metadata": {},
   "source": [
    "### Output spreadsheet"
   ]
  },
  {
   "cell_type": "code",
   "execution_count": null,
   "id": "f45425f2",
   "metadata": {},
   "outputs": [],
   "source": [
    "crossRef_df_processed_filename = \"Results/Intermediate data/\" + 'dataset_citation_publication_info_' + start_date + \"_to_\" + end_date + \"_retrieved_\" + (today.strftime(\"%d%m%Y\")) + '.csv'\n",
    "crossRef_df_gbif_filtered2_deduplicated.to_csv(crossRef_df_processed_filename, index = False)\n",
    "\n",
    "with open(\"Results/Intermediate data/latest_results_crossRef.csv\", 'w') as f:\n",
    "    crossRef_df_gbif_filtered2_deduplicated.to_csv(\"Results/Intermediate data/latest_results_crossRef.csv\",index = False)"
   ]
  }
 ],
 "metadata": {
  "language_info": {
   "name": "python"
  }
 },
 "nbformat": 4,
 "nbformat_minor": 5
}
