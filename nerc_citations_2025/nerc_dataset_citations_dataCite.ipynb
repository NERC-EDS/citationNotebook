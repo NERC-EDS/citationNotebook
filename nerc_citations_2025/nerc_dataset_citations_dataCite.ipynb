{
 "cells": [
  {
   "cell_type": "markdown",
   "id": "11c8d99d-0d5c-428f-b73f-4e093bd7e838",
   "metadata": {},
   "source": [
    "### NERC dataset citations - DataCite\n",
    "Code to collect NERC dataset DOIs and citation information from the DataCite API"
   ]
  },
  {
   "cell_type": "code",
   "execution_count": 1,
   "id": "5bcaa7fa-e932-4386-a7c8-8149f85fd5d2",
   "metadata": {},
   "outputs": [],
   "source": [
    "\n",
    "import requests, time, json, re, datetime, os, sys\n",
    "from requests.adapters import HTTPAdapter\n",
    "from requests.packages.urllib3.util.retry import Retry\n",
    "import numpy as np\n",
    "import pandas as pd\n",
    "from math import ceil\n",
    "from datetime import date\n",
    "# from dataCite_fun import getDataCiteCitations_relationTypes, getPublicationInfo_timeCopy\n",
    "# import exportCitationResultsToCsv\n",
    "# from Results import convertCSVtoJSON\n",
    "\n",
    "\n",
    "from citations_fun.getDataCiteCitations_relationTypes import getDataCiteCitations_relationTypes\n"
   ]
  },
  {
   "cell_type": "markdown",
   "id": "904b736e",
   "metadata": {},
   "source": [
    "## DataCite events API\n",
    "Get citation event data from datacite"
   ]
  },
  {
   "cell_type": "code",
   "execution_count": 2,
   "id": "0505a104-5060-4427-b1ab-6614cbe84925",
   "metadata": {
    "scrolled": true,
    "tags": []
   },
   "outputs": [
    {
     "name": "stdout",
     "output_type": "stream",
     "text": [
      "is-cited-by\n",
      "Total records: 211\n",
      "Total pages: 1\n",
      "Status:  200\n",
      "Page:  1\n",
      "Final page\n",
      "is-referenced-by\n",
      "Total records: 2505\n",
      "Total pages: 3\n",
      "Status:  200\n",
      "Page:  1\n",
      "https://api.datacite.org/events?page%5Bcursor%5D=MTY3NTk0MDk2OTEyOCw4NTU1Nzg1NC00ZTBjLTRjZmMtODlkYS05ZDVmMTg0NjAzYzI&page%5Bsize%5D=1000&prefix=10.5285&relation-type-id=is-referenced-by\n",
      "Status:  200\n",
      "Page:  2\n",
      "https://api.datacite.org/events?page%5Bcursor%5D=MTc0MTc5MzY1NzY3MSw2YTBmMWVhNi01NjFmLTQwN2YtYjllZC1iMWQxNzU0NmZlMTM&page%5Bsize%5D=1000&prefix=10.5285&relation-type-id=is-referenced-by\n",
      "Status:  200\n",
      "Page:  3\n",
      "Final page\n",
      "is-supplement-to\n",
      "Total records: 15\n",
      "Total pages: 1\n",
      "Status:  200\n",
      "Page:  1\n",
      "Final page\n",
      "IsPartOf\n",
      "Total records: 0\n",
      "Total pages: 0\n",
      "IsContinuedBy\n",
      "Total records: 0\n",
      "Total pages: 0\n",
      "IsDescribedBy\n",
      "Total records: 0\n",
      "Total pages: 0\n",
      "IsDocumentedBy\n",
      "Total records: 0\n",
      "Total pages: 0\n",
      "IsDerivedFrom\n",
      "Total records: 0\n",
      "Total pages: 0\n",
      "IsRequiredBy\n",
      "Total records: 0\n",
      "Total pages: 0\n",
      "Done!\n"
     ]
    }
   ],
   "source": [
    "relation_type_id_list = ['is-cited-by', 'is-referenced-by', 'is-supplement-to', 'IsPartOf', 'IsContinuedBy', 'IsDescribedBy', 'IsDocumentedBy', 'IsDerivedFrom', 'IsRequiredBy']\n",
    "dataCite_df_relationTypes = getDataCiteCitations_relationTypes(relation_type_id_list)"
   ]
  },
  {
   "cell_type": "code",
   "execution_count": null,
   "id": "3e3b607c",
   "metadata": {},
   "outputs": [],
   "source": [
    "# join events data with dataset DOI metadata\n",
    "\n",
    "### don't need to load file if done in same env as getNERCDataDOIs() ###\n",
    "with open(\"results/nerc_datacite_dois.json\") as f:\n",
    "    nerc_datacite_dois = json.load(f)\n",
    "\n",
    "nerc_datacite_dois_df = pd.DataFrame(nerc_datacite_dois)\n",
    "\n",
    "datacite_doi_events_df = dataCite_df_relationTypes.merge(\n",
    "    nerc_datacite_dois_df,\n",
    "    left_on='data_doi',\n",
    "    right_on='data_doi',\n",
    "    how='left'  # left-join as dataCite_df_relationTypes is a subset of nerc_datacite_dois_df\n",
    ")\n",
    "\n",
    "\n",
    "datacite_doi_events_df_drop = datacite_doi_events_df.drop(['data_page_number', 'data_self_link'], axis = 1)"
   ]
  },
  {
   "cell_type": "code",
   "execution_count": 9,
   "id": "b0d8676e",
   "metadata": {},
   "outputs": [],
   "source": [
    "# output results file \n",
    "# today = date.today()\n",
    "# dataCite_filename = \"results/\" + 'datacite_doi_events_df_retrieved_' + (today.strftime(\"%d%m%Y\")) + '.csv'\n",
    "datacite_doi_events_df_drop.to_csv(\"results/latest_results_dataCite.csv\", index = False)"
   ]
  },
  {
   "cell_type": "code",
   "execution_count": null,
   "id": "17b6ed31",
   "metadata": {},
   "outputs": [],
   "source": []
  },
  {
   "cell_type": "markdown",
   "id": "7effcc43",
   "metadata": {},
   "source": [
    "Don't need stuff below here:"
   ]
  },
  {
   "cell_type": "code",
   "execution_count": null,
   "id": "ab0b7dbd",
   "metadata": {},
   "outputs": [],
   "source": [
    "# don't need anymore as not using json?\n",
    "key_to_column_mapping = {\n",
    "    \"publisher\": \"data_publisher\",\n",
    "    \"data_doi\": \"data_doi\",\n",
    "    \"title\": \"data_title\",\n",
    "    \"authors\": \"data_authors\",\n",
    "    \"publicationYear\": \"publicationYear\",\n",
    "    \"dates\": \"dates\",\n",
    "    \"source-id\": \"source-id\",\n",
    "    \"relation-type-id\": \"relation-type-id\",\n",
    "    \"pub_doi_url\": \"subj-id\",\n",
    "    \"occurred-at\": \"occurred-at\",\n",
    "    \"Page endpoint\": \"Page endpoint\"\n",
    "}\n",
    "\n",
    "# need to delete datasetDOI_attribute at some point?\n",
    "# renamed_json.pop('datasetDOI_attribute', None)\n",
    "\n",
    "\n",
    "# # Rename the keys in merged_json according to the mapping\n",
    "# renamed_json = {key_to_column_mapping.get(k, k): v for k, v in merged_json[0].items()}\n",
    "# renamed_json\n",
    "\n",
    "def rename_keys(dict, mapping):\n",
    "    return {mapping.get(k, k): v for k, v in dict.items()}\n",
    "\n",
    "renamed_json = [rename_keys(item, key_to_column_mapping) for item in merged_json]\n",
    "datacite_json = renamed_json\n",
    "\n",
    "    \n"
   ]
  },
  {
   "cell_type": "code",
   "execution_count": null,
   "id": "4701c175-1a68-4afb-9629-9f4b26561c38",
   "metadata": {
    "scrolled": true,
    "tags": []
   },
   "outputs": [],
   "source": [
    "# # get dataset metadata - old - get rid?\n",
    "# info_list = []\n",
    "# headers = {'client-id': 'bl.nerc'}\n",
    "# api_url = 'https://api.datacite.org/dois/' \n",
    "# # for doi in dataCite_df_relationTypes['data_doi']:\n",
    "# for (source_id, relation_type_id, occurred_at, Page_endpoint, data_doi, pub_doi_url) in zip(dataCite_df_relationTypes['source-id'],dataCite_df_relationTypes['relation-type-id'],dataCite_df_relationTypes['occurred-at'],dataCite_df_relationTypes['Page endpoint'],dataCite_df_relationTypes['data_doi'], dataCite_df_relationTypes['pub_doi_url']):\n",
    "#     r = requests.get((api_url + data_doi), headers)\n",
    "#     print(r.status_code, data_doi)\n",
    "    \n",
    "#     try:\n",
    "#         # process author info\n",
    "#         author_list = []\n",
    "#         for item in r.json()['data']['attributes']['creators']:\n",
    "#             author_list.append(item['name'])\n",
    "\n",
    "#         info_list.append([\n",
    "#             r.json()['data']['attributes']['publisher'],\n",
    "#             data_doi,\n",
    "#             r.json()['data']['attributes']['titles'][0]['title'],\n",
    "#             author_list,\n",
    "#             r.json()['data']['attributes']['publicationYear'],\n",
    "#             r.json()['data']['attributes']['dates'],\n",
    "#             r.json()['data']['attributes']['registered'],\n",
    "#             source_id, relation_type_id, pub_doi_url, occurred_at, Page_endpoint\n",
    "#         ])\n",
    "#     except Exception as e:\n",
    "#         info_list.append([\"error\",data_doi,\"error\",\"error\",\"error\",\"error\",\"error\",\"error\",\"error\",pub_doi_url,\"error\",\"error\"])\n",
    "        \n",
    "# columns = ['data_publisher', 'data_doi', 'data_title', 'data_authors', 'publicationYear', 'dates', 'registered', \n",
    "#            'source-id', 'relation-type-id', 'pub_doi_url', 'occurred-at', 'Page endpoint']\n",
    "# dataCite_df = pd.DataFrame(info_list, columns = columns)    \n",
    "# print(\"Done!\")\n",
    "    "
   ]
  },
  {
   "cell_type": "code",
   "execution_count": null,
   "id": "3d0a7210",
   "metadata": {},
   "outputs": [],
   "source": [
    "import importlib\n",
    "\n",
    "importlib.reload(getPublicationInfo_timeCopy)"
   ]
  },
  {
   "cell_type": "code",
   "execution_count": null,
   "id": "7515608f",
   "metadata": {},
   "outputs": [],
   "source": []
  }
 ],
 "metadata": {
  "kernelspec": {
   "display_name": ".venv",
   "language": "python",
   "name": "python3"
  },
  "language_info": {
   "codemirror_mode": {
    "name": "ipython",
    "version": 3
   },
   "file_extension": ".py",
   "mimetype": "text/x-python",
   "name": "python",
   "nbconvert_exporter": "python",
   "pygments_lexer": "ipython3",
   "version": "3.12.3"
  }
 },
 "nbformat": 4,
 "nbformat_minor": 5
}
