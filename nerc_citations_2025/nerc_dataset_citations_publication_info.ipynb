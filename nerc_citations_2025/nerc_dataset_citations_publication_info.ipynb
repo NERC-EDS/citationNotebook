{
 "cells": [
  {
   "cell_type": "code",
   "execution_count": null,
   "id": "fa9b47e9",
   "metadata": {},
   "outputs": [],
   "source": [
    "#  We could speed up the next step greatly by only retrieving info about publications that weren't in the previous run, i.e. new citations\n",
    "# compare pub_doi_url to results from last week\n",
    "# find new ones\n",
    "# run the DOI API script to collect the metadata\n",
    "\n",
    "# downsides - ddon't collect up to date metadata on existing collection\n",
    "\n",
    "\n"
   ]
  },
  {
   "cell_type": "code",
   "execution_count": null,
   "id": "943b2f5a",
   "metadata": {},
   "outputs": [],
   "source": [
    "from citations_fun.getPublicationInfo_timeCopy import getPublicationInfo"
   ]
  },
  {
   "cell_type": "code",
   "execution_count": null,
   "id": "0b9b31f2",
   "metadata": {},
   "outputs": [],
   "source": [
    "#### THIS was copied from the bottom of nerc_dataset_citations_dataCite.ipynb ####\n",
    "# therefore need to load datacite_doi_events_df from results/latest_results_dataCite.csv\n",
    "\n",
    "# get publication info - \n",
    "# takes a long time - 94 mins on 14/04/25\n",
    "\n",
    "# dataCite_df_temp = dataCite_df.rename(columns={\"pub_doi_url\": \"subj_id\"})\n",
    "datacite_doi_events_pubInfo_df = getPublicationInfo(datacite_doi_events_df)\n",
    "\n",
    "# output csv\n",
    "today = date.today()\n",
    "dataCite_filename = \"results/\" + 'datacite_doi_events_pubInfo_df_retrieved_' + (today.strftime(\"%d%m%Y\")) + '.csv'\n",
    "# datacite_doi_events_pubInfo_df.to_csv(dataCite_filename, index = False)\n",
    "datacite_doi_events_pubInfo_df.to_csv(\"results/latest_results_pubInfo_dataCite.csv\", index = False)"
   ]
  }
 ],
 "metadata": {
  "language_info": {
   "name": "python"
  }
 },
 "nbformat": 4,
 "nbformat_minor": 5
}
