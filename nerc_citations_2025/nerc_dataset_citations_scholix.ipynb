{
 "cells": [
  {
   "cell_type": "markdown",
   "id": "91d2d5d1",
   "metadata": {},
   "source": [
    "## Scholix"
   ]
  },
  {
   "cell_type": "markdown",
   "id": "39cddd40",
   "metadata": {},
   "source": [
    "### Pass the dataset DOIs to the scholex API to get the citations and their respective DOIs"
   ]
  },
  {
   "cell_type": "code",
   "execution_count": 1,
   "id": "6a232aac",
   "metadata": {},
   "outputs": [],
   "source": [
    "import requests, time, json, re, datetime, os, sys\n",
    "from requests.adapters import HTTPAdapter\n",
    "from requests.packages.urllib3.util.retry import Retry\n",
    "import numpy as np\n",
    "import pandas as pd\n",
    "from math import ceil\n",
    "from datetime import date\n",
    "# from scholix_fun import getNERCDataDOIs, getScholixDatasetCitations, process_citation_results, getPublicationType, countScholixCitations, getCitationString\n",
    "\n",
    "# import exportCitationResultsToCsv\n",
    "# from Results import convertCSVtoJSON\n",
    "\n",
    "\n",
    "# sys.path.insert(0, '..')\n",
    "\n",
    "from citations_fun.getScholixCitations import getScholixCitations\n",
    "from citations_fun.processScholixCitations import process_citation_results\n"
   ]
  },
  {
   "cell_type": "code",
   "execution_count": null,
   "id": "a3660a81",
   "metadata": {},
   "outputs": [],
   "source": [
    "with open(\"results/nerc_datacite_dois.json\") as f:\n",
    "    nerc_datacite_dois = json.load(f)\n",
    "\n",
    "nerc_datacite_dois_df = pd.DataFrame(nerc_datacite_dois)\n",
    "\n"
   ]
  },
  {
   "cell_type": "code",
   "execution_count": null,
   "id": "9fca56be",
   "metadata": {},
   "outputs": [],
   "source": [
    "nerc_datacite_dois_df.head()"
   ]
  },
  {
   "cell_type": "code",
   "execution_count": null,
   "id": "cd7769d2",
   "metadata": {},
   "outputs": [],
   "source": [
    "# this takes about 23 - 28 mins\n",
    "\n",
    "scholex_df = getScholixCitations(nerc_datacite_dois_df)"
   ]
  },
  {
   "cell_type": "code",
   "execution_count": null,
   "id": "992cf9a1",
   "metadata": {},
   "outputs": [],
   "source": [
    "scholex_df.head()\n"
   ]
  },
  {
   "cell_type": "markdown",
   "id": "aacb123f",
   "metadata": {},
   "source": []
  },
  {
   "cell_type": "code",
   "execution_count": 4,
   "id": "276008a9",
   "metadata": {},
   "outputs": [
    {
     "data": {
      "text/plain": [
       "Index(['relationshipType', 'pub_title', 'pub_date', 'pub_authors', 'pub_doi',\n",
       "       'data_doi', 'data_publisher', 'data_title', 'data_authors'],\n",
       "      dtype='object')"
      ]
     },
     "execution_count": 4,
     "metadata": {},
     "output_type": "execute_result"
    }
   ],
   "source": [
    "scholex_df.columns"
   ]
  },
  {
   "cell_type": "markdown",
   "id": "8cf3de3f",
   "metadata": {},
   "source": [
    "#### Process the citation results"
   ]
  },
  {
   "cell_type": "code",
   "execution_count": 5,
   "id": "e7c8e8d6",
   "metadata": {},
   "outputs": [],
   "source": [
    "scholex_df_processed = process_citation_results(scholex_df)"
   ]
  },
  {
   "cell_type": "code",
   "execution_count": 6,
   "id": "2f70a102",
   "metadata": {},
   "outputs": [
    {
     "data": {
      "text/plain": [
       "Index(['relationshipType', 'pub_title', 'pub_date', 'pub_doi', 'data_doi',\n",
       "       'data_title', 'data_authors', 'data_publisher', 'pub_authors'],\n",
       "      dtype='object')"
      ]
     },
     "execution_count": 6,
     "metadata": {},
     "output_type": "execute_result"
    }
   ],
   "source": [
    "scholex_df_processed.columns"
   ]
  },
  {
   "cell_type": "markdown",
   "id": "1bb49bb0",
   "metadata": {},
   "source": [
    "### output latest_results_scholex.csv"
   ]
  },
  {
   "cell_type": "code",
   "execution_count": 7,
   "id": "62a43c74",
   "metadata": {},
   "outputs": [],
   "source": [
    "scholex_df_processed.to_csv(\"results/latest_results_scholex.csv\", index= False )"
   ]
  },
  {
   "cell_type": "markdown",
   "id": "3e34ec08",
   "metadata": {},
   "source": [
    "### can move this to the get publication info script\n",
    "\n",
    "### Check the DOIs at DOI.org to determine the type of publication and to check there are no duplicates (by preprints etc) "
   ]
  },
  {
   "cell_type": "code",
   "execution_count": null,
   "id": "f724c042",
   "metadata": {},
   "outputs": [],
   "source": [
    "# very long 3+ hours\n",
    "scholex_df = getPublicationType.getPublicationType(scholex_df)"
   ]
  },
  {
   "cell_type": "markdown",
   "id": "6052a5a2",
   "metadata": {},
   "source": [
    "### Output spreadsheet"
   ]
  },
  {
   "cell_type": "code",
   "execution_count": null,
   "id": "ede4f5cb",
   "metadata": {},
   "outputs": [],
   "source": [
    "today = date.today()\n",
    "\n",
    "scholex_filename = \"Results/Intermediate data/\" + 'scholix_citation_publication_info_' + (today.strftime(\"%d%m%Y\")) + '.csv'\n",
    "scholex_df.to_csv(scholex_filename, index = False)\n",
    "scholex_df.to_csv(\"Results/Intermediate data/latest_results_scholix.csv\", index = False)"
   ]
  },
  {
   "cell_type": "code",
   "execution_count": null,
   "id": "9227aad6",
   "metadata": {},
   "outputs": [],
   "source": [
    "import pickle\n",
    "import types\n",
    "\n",
    "def get_pickleable_globals():\n",
    "    safe_vars = {}\n",
    "    for name, val in globals().items():\n",
    "        if name.startswith(\"__\") or isinstance(val, (\n",
    "            types.ModuleType,\n",
    "            types.FunctionType,\n",
    "            types.BuiltinFunctionType,\n",
    "            types.MethodType,\n",
    "            types.BuiltinMethodType,\n",
    "            types.CodeType,\n",
    "            types.TracebackType,\n",
    "            types.FrameType,\n",
    "        )):\n",
    "            continue\n",
    "        try:\n",
    "            pickle.dumps(val)\n",
    "            safe_vars[name] = val\n",
    "        except Exception:\n",
    "            continue\n",
    "    return safe_vars\n",
    "\n",
    "# Save workspace\n",
    "workspace = get_pickleable_globals()\n",
    "\n",
    "# Check what you’re saving\n",
    "print(f\"Saving {len(workspace)} variables:\", list(workspace.keys()))\n",
    "\n",
    "# Only save if it's not empty\n",
    "if workspace:\n",
    "    with open('workspace.pkl', 'wb') as f:\n",
    "        pickle.dump(workspace, f)\n",
    "else:\n",
    "    print(\"No variables to save.\")\n"
   ]
  },
  {
   "cell_type": "code",
   "execution_count": 2,
   "id": "0cbb6f25",
   "metadata": {},
   "outputs": [
    {
     "name": "stdout",
     "output_type": "stream",
     "text": [
      "Loaded 26 variables.\n"
     ]
    }
   ],
   "source": [
    "import pickle\n",
    "try:\n",
    "    with open('workspace.pkl', 'rb') as f:\n",
    "        loaded_vars = pickle.load(f)\n",
    "        globals().update(loaded_vars)\n",
    "        print(f\"Loaded {len(loaded_vars)} variables.\")\n",
    "except EOFError:\n",
    "    print(\"File is empty. Nothing to load.\")\n",
    "except FileNotFoundError:\n",
    "    print(\"workspace.pkl not found.\")\n"
   ]
  },
  {
   "cell_type": "code",
   "execution_count": null,
   "id": "6b7787a2",
   "metadata": {},
   "outputs": [],
   "source": [
    "import os\n",
    "os.path.getsize('workspace.pkl')  # Should be more than 0\n"
   ]
  }
 ],
 "metadata": {
  "kernelspec": {
   "display_name": ".venv",
   "language": "python",
   "name": "python3"
  },
  "language_info": {
   "codemirror_mode": {
    "name": "ipython",
    "version": 3
   },
   "file_extension": ".py",
   "mimetype": "text/x-python",
   "name": "python",
   "nbconvert_exporter": "python",
   "pygments_lexer": "ipython3",
   "version": "3.12.4"
  }
 },
 "nbformat": 4,
 "nbformat_minor": 5
}
