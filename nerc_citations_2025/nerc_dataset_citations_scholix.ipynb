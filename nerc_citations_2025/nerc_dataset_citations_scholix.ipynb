{
 "cells": [
  {
   "cell_type": "markdown",
   "id": "91d2d5d1",
   "metadata": {},
   "source": [
    "## Scholix"
   ]
  },
  {
   "cell_type": "markdown",
   "id": "39cddd40",
   "metadata": {},
   "source": [
    "### Pass the dataset DOIs to the scholex API to get the citations and their respective DOIs"
   ]
  },
  {
   "cell_type": "code",
   "execution_count": null,
   "id": "6a232aac",
   "metadata": {},
   "outputs": [],
   "source": [
    "import requests, time, json, re, datetime, os, sys\n",
    "from requests.adapters import HTTPAdapter\n",
    "from requests.packages.urllib3.util.retry import Retry\n",
    "import numpy as np\n",
    "import pandas as pd\n",
    "from math import ceil\n",
    "from datetime import date\n",
    "from scholix_fun import getNERCDataDOIs, getScholixDatasetCitations, process_citation_results, getPublicationType, countScholixCitations, getCitationString\n",
    "import crossRef_fun\n",
    "\n",
    "# import exportCitationResultsToCsv\n",
    "# from Results import convertCSVtoJSON\n",
    "\n",
    "\n",
    "sys.path.insert(0, '..')"
   ]
  },
  {
   "cell_type": "code",
   "execution_count": 1,
   "id": "cd7769d2",
   "metadata": {},
   "outputs": [
    {
     "ename": "NameError",
     "evalue": "name 'getScholixDatasetCitations' is not defined",
     "output_type": "error",
     "traceback": [
      "\u001b[1;31m---------------------------------------------------------------------------\u001b[0m",
      "\u001b[1;31mNameError\u001b[0m                                 Traceback (most recent call last)",
      "Cell \u001b[1;32mIn[1], line 2\u001b[0m\n\u001b[0;32m      1\u001b[0m \u001b[38;5;66;03m# this takes about 8 mins\u001b[39;00m\n\u001b[1;32m----> 2\u001b[0m scholex_df \u001b[38;5;241m=\u001b[39m \u001b[43mgetScholixDatasetCitations\u001b[49m\u001b[38;5;241m.\u001b[39mgetScholixDatasetCitations(dataCite_df)\n",
      "\u001b[1;31mNameError\u001b[0m: name 'getScholixDatasetCitations' is not defined"
     ]
    }
   ],
   "source": [
    "# this takes about 8 mins\n",
    "scholex_df = getScholixDatasetCitations.getScholixDatasetCitations(dataCite_df)"
   ]
  },
  {
   "cell_type": "markdown",
   "id": "8cf3de3f",
   "metadata": {},
   "source": [
    "#### Process the citation results"
   ]
  },
  {
   "cell_type": "code",
   "execution_count": null,
   "id": "e7c8e8d6",
   "metadata": {},
   "outputs": [],
   "source": [
    "dataCite_df, scholex_df = process_citation_results.process_citation_results(dataCite_df, scholex_df)"
   ]
  },
  {
   "cell_type": "code",
   "execution_count": null,
   "id": "0c6d9350",
   "metadata": {},
   "outputs": [],
   "source": [
    "# filter out gbif registrant code prefix 10.15468\n",
    "# scholex_df = scholex_df[~scholex_df.pubID.str.contains(\"10.15468\")]\n",
    "scholex_df = scholex_df[~scholex_df['pubID'].apply(lambda x: str(x)).str.contains(\"10.15468\")]\n"
   ]
  },
  {
   "cell_type": "code",
   "execution_count": null,
   "id": "2f70a102",
   "metadata": {},
   "outputs": [],
   "source": []
  },
  {
   "cell_type": "markdown",
   "id": "3e34ec08",
   "metadata": {},
   "source": [
    "### Check the DOIs at DOI.org to determine the type of publication and to check there are no duplicates (by preprints etc) "
   ]
  },
  {
   "cell_type": "code",
   "execution_count": null,
   "id": "f724c042",
   "metadata": {},
   "outputs": [],
   "source": [
    "# very long 3+ hours\n",
    "scholex_df = getPublicationType.getPublicationType(scholex_df)"
   ]
  },
  {
   "cell_type": "markdown",
   "id": "6052a5a2",
   "metadata": {},
   "source": [
    "### Output spreadsheet"
   ]
  },
  {
   "cell_type": "code",
   "execution_count": null,
   "id": "ede4f5cb",
   "metadata": {},
   "outputs": [],
   "source": [
    "today = date.today()\n",
    "\n",
    "scholex_filename = \"Results/Intermediate data/\" + 'scholix_citation_publication_info_' + (today.strftime(\"%d%m%Y\")) + '.csv'\n",
    "scholex_df.to_csv(scholex_filename, index = False)\n",
    "scholex_df.to_csv(\"Results/Intermediate data/latest_results_scholix.csv\", index = False)"
   ]
  }
 ],
 "metadata": {
  "kernelspec": {
   "display_name": "Python 3",
   "language": "python",
   "name": "python3"
  },
  "language_info": {
   "codemirror_mode": {
    "name": "ipython",
    "version": 3
   },
   "file_extension": ".py",
   "mimetype": "text/x-python",
   "name": "python",
   "nbconvert_exporter": "python",
   "pygments_lexer": "ipython3",
   "version": "3.12.4"
  }
 },
 "nbformat": 4,
 "nbformat_minor": 5
}
