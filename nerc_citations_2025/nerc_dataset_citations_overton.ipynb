{
 "cells": [
  {
   "cell_type": "code",
   "execution_count": null,
   "id": "07050ce2",
   "metadata": {},
   "outputs": [
    {
     "name": "stdout",
     "output_type": "stream",
     "text": [
      "5425\n"
     ]
    }
   ],
   "source": [
    "import requests, time, json\n",
    "import pandas as pd\n",
    "from requests.adapters import HTTPAdapter\n",
    "from urllib3.util.retry import Retry\n",
    "\n",
    "\n",
    "with open(\"results/nerc_datacite_dois.json\") as f:\n",
    "    nerc_datacite_dois = json.load(f)\n",
    "\n",
    "nerc_datacite_dois_df = pd.DataFrame(nerc_datacite_dois)\n",
    "\n",
    "print(len(nerc_datacite_dois_df))\n",
    "\n"
   ]
  },
  {
   "cell_type": "code",
   "execution_count": null,
   "id": "731f2851",
   "metadata": {},
   "outputs": [],
   "source": [
    "session = requests.Session()\n",
    "retries = Retry(\n",
    "    total=5,\n",
    "    backoff_factor=1,\n",
    "    status_forcelist=[429, 500, 502, 503, 504],\n",
    "    allowed_methods=[\"GET\"]\n",
    ")\n",
    "session.mount(\"https://\", HTTPAdapter(max_retries=retries))\n",
    "\n",
    "def overton_api_request(doi):\n",
    "    url = \"https://app.overton.io/documents.php\"\n",
    "    params ={\n",
    "        \"plain_dois_cited\": doi,\n",
    "        \"format\": \"json\",\n",
    "        \"api_key\": \"3c7b1a-849d90-77f9da\",\n",
    "    }\n",
    "    r = session.get(url, params=params, timeout=30)\n",
    "    print(r.status_code, \"DOI: \", doi)\n",
    "    r.raise_for_status()\n",
    "    return r.json().get('results', [])\n"
   ]
  },
  {
   "cell_type": "code",
   "execution_count": null,
   "id": "5c582ec3",
   "metadata": {},
   "outputs": [],
   "source": [
    "results = []\n",
    "\n",
    "for doi in nerc_datacite_dois_df.data_doi:\n",
    "    start = time.time()\n",
    "\n",
    "    try:\n",
    "        data = overton_api_request(doi)\n",
    "        if data:\n",
    "            results.append(data)\n",
    "    except requests.RequestException as e:\n",
    "        print(f\"Error on {doi}: {e}\")\n",
    "        continue\n",
    "\n",
    "    elapsed = time.time() - start\n",
    "    # enforce at least 1s between requests\n",
    "    if elapsed < 1:\n",
    "        time.sleep(1 - elapsed)"
   ]
  },
  {
   "cell_type": "code",
   "execution_count": null,
   "id": "15ddf658",
   "metadata": {},
   "outputs": [],
   "source": [
    "results"
   ]
  },
  {
   "cell_type": "code",
   "execution_count": null,
   "id": "23c29bf4",
   "metadata": {},
   "outputs": [],
   "source": [
    "# overton api single request\n",
    "# publishers_cited=_%3Ax39\n",
    "\n",
    "url = \"https://app.overton.io/documents.php\"\n",
    "params ={\n",
    "    \"format\": \"json\",\n",
    "    \"api_key\": \"3c7b1a-849d90-77f9da\",\n",
    "    \"plain_dois_cited\": \"10.5285/e0f0bb80-ab44-2739-e053-6c86abc0289c\"\n",
    "}\n",
    "\n",
    "\n",
    "r = requests.get(url,params=params)\n",
    "\n",
    "print(r.status_code)\n",
    "data = r.json()\n",
    "\n",
    "\n",
    "print(len(data['results']))\n",
    "data['results'][1]"
   ]
  },
  {
   "cell_type": "code",
   "execution_count": 4,
   "id": "6876525c",
   "metadata": {},
   "outputs": [
    {
     "name": "stdout",
     "output_type": "stream",
     "text": [
      "200 DOI:  10.5285/80887755-1426-4dab-a4a6-250919d5020c\n"
     ]
    },
    {
     "data": {
      "text/plain": [
       "0"
      ]
     },
     "execution_count": 4,
     "metadata": {},
     "output_type": "execute_result"
    }
   ],
   "source": [
    "doi = \"10.5285/80887755-1426-4dab-a4a6-250919d5020c\"\n",
    "data = overton_api_request(doi)\n",
    "len(data)"
   ]
  },
  {
   "cell_type": "code",
   "execution_count": null,
   "id": "d1390aea",
   "metadata": {},
   "outputs": [],
   "source": [
    "# old - this will take about 90 mins - 5400 DOIs at about 1 per second\n",
    "results = list()\n",
    "\n",
    "for doi in nerc_datacite_dois_df.data_doi:\n",
    "    start = time.time()\n",
    "\n",
    "    data = overton_api_request(doi)\n",
    "    if (len(data) > 0):\n",
    "        results.append(data)\n",
    "\n",
    "    elapsed = time.time() - start\n",
    "    print(\"elapsed:\", elapsed)\n",
    "\n",
    "    # rate limiting to 1 per second\n",
    "    if elapsed < 1:\n",
    "        time.sleep(1.05 - elapsed)\n",
    "\n",
    "\n",
    "    \n",
    "\n",
    "    \n"
   ]
  },
  {
   "cell_type": "code",
   "execution_count": null,
   "id": "bb1a8168",
   "metadata": {},
   "outputs": [],
   "source": []
  }
 ],
 "metadata": {
  "kernelspec": {
   "display_name": ".venv",
   "language": "python",
   "name": "python3"
  },
  "language_info": {
   "codemirror_mode": {
    "name": "ipython",
    "version": 3
   },
   "file_extension": ".py",
   "mimetype": "text/x-python",
   "name": "python",
   "nbconvert_exporter": "python",
   "pygments_lexer": "ipython3",
   "version": "3.12.3"
  }
 },
 "nbformat": 4,
 "nbformat_minor": 5
}
