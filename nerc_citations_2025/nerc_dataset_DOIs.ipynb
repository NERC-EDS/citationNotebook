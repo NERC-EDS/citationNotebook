{
 "cells": [
  {
   "cell_type": "markdown",
   "id": "11c8d99d-0d5c-428f-b73f-4e093bd7e838",
   "metadata": {},
   "source": [
    "### NERC dataset citations - DataCite\n",
    "Code to collect NERC dataset DOIs and from the DataCite API"
   ]
  },
  {
   "cell_type": "code",
   "execution_count": 1,
   "id": "5bcaa7fa-e932-4386-a7c8-8149f85fd5d2",
   "metadata": {},
   "outputs": [],
   "source": [
    "\n",
    "import requests, time, json, re, datetime, os, sys\n",
    "from requests.adapters import HTTPAdapter\n",
    "from requests.packages.urllib3.util.retry import Retry\n",
    "import numpy as np\n",
    "import pandas as pd\n",
    "from math import ceil\n",
    "from datetime import date\n",
    "# from dataCite_fun import getDataCiteCitations_relationTypes, getPublicationInfo_timeCopy\n",
    "# import exportCitationResultsToCsv\n",
    "# from Results import convertCSVtoJSON\n",
    "\n",
    "\n",
    "from citations_fun.getNERCDataDOIs_new import getNERCDataDOIs\n"
   ]
  },
  {
   "cell_type": "markdown",
   "id": "929ed461-2447-42ea-9d5e-87eab46b56af",
   "metadata": {},
   "source": [
    "### Get the dataset DOIs"
   ]
  },
  {
   "cell_type": "code",
   "execution_count": 2,
   "id": "ab5dce39-f8e2-45bc-8cde-c22632933317",
   "metadata": {
    "scrolled": true,
    "tags": []
   },
   "outputs": [
    {
     "name": "stdout",
     "output_type": "stream",
     "text": [
      "Initial API request failed: HTTPSConnectionPool(host='api.datacite.org', port=443): Max retries exceeded with url: /dois?client-id=bl.nerc&page=1 (Caused by NameResolutionError(\"<urllib3.connection.HTTPSConnection object at 0x7d7a74b71d00>: Failed to resolve 'api.datacite.org' ([Errno -3] Temporary failure in name resolution)\"))\n"
     ]
    }
   ],
   "source": [
    "# this takes approx ~10 mins\n",
    "# from functions import getNERCDataDOIs_new\n",
    "nerc_datacite_dois = getNERCDataDOIs()\n"
   ]
  },
  {
   "cell_type": "code",
   "execution_count": null,
   "id": "92a29558",
   "metadata": {},
   "outputs": [],
   "source": [
    " "
   ]
  }
 ],
 "metadata": {
  "kernelspec": {
   "display_name": ".venv",
   "language": "python",
   "name": "python3"
  },
  "language_info": {
   "codemirror_mode": {
    "name": "ipython",
    "version": 3
   },
   "file_extension": ".py",
   "mimetype": "text/x-python",
   "name": "python",
   "nbconvert_exporter": "python",
   "pygments_lexer": "ipython3",
   "version": "3.12.3"
  }
 },
 "nbformat": 4,
 "nbformat_minor": 5
}
