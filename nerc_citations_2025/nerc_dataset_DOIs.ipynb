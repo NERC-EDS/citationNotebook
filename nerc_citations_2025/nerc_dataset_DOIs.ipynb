{
 "cells": [
  {
   "cell_type": "markdown",
   "id": "11c8d99d-0d5c-428f-b73f-4e093bd7e838",
   "metadata": {},
   "source": [
    "### NERC dataset citations - DataCite\n",
    "Code to collect NERC dataset DOIs and from the DataCite API"
   ]
  },
  {
   "cell_type": "code",
   "execution_count": 4,
   "id": "5bcaa7fa-e932-4386-a7c8-8149f85fd5d2",
   "metadata": {},
   "outputs": [],
   "source": [
    "\n",
    "import requests, time, json, re, datetime, os, sys\n",
    "from requests.adapters import HTTPAdapter\n",
    "from requests.packages.urllib3.util.retry import Retry\n",
    "import numpy as np\n",
    "import pandas as pd\n",
    "from math import ceil\n",
    "from datetime import date\n",
    "# from dataCite_fun import getDataCiteCitations_relationTypes, getPublicationInfo_timeCopy\n",
    "# import exportCitationResultsToCsv\n",
    "# from Results import convertCSVtoJSON\n",
    "\n",
    "\n",
    "from citations_fun.getNERCDataDOIs_new import getNERCDataDOIs\n"
   ]
  },
  {
   "cell_type": "markdown",
   "id": "929ed461-2447-42ea-9d5e-87eab46b56af",
   "metadata": {},
   "source": [
    "### Get the dataset DOIs"
   ]
  },
  {
   "cell_type": "code",
   "execution_count": 5,
   "id": "ab5dce39-f8e2-45bc-8cde-c22632933317",
   "metadata": {
    "scrolled": true,
    "tags": []
   },
   "outputs": [
    {
     "name": "stdout",
     "output_type": "stream",
     "text": [
      "Publisher is type float or None:  None 10.5285/fe7a9d81-cfc0-4023-90da-0be37b803bc7\n",
      "Publisher is type float or None:  None 10.5285/1aa2df5a-798b-46c7-b74a-421f9ca0aa82\n",
      "Publisher is type float or None:  None 10.5285/7baf7407-2f15-406c-8f09-cb9dc10392aa\n",
      "Publisher is type float or None:  None 10.5285/878bef44-d32a-40cd-a02d-49b6286f0ea4\n",
      "Publisher is type float or None:  None 10.5285/782305d4-1ded-43f9-a0ed-40cb41ff0a43\n",
      "Publisher is type float or None:  None 10.5285/79229cee-71ab-48b6-b7d6-2fceccead938\n",
      "Reached final page.\n",
      "Data written to results/nerc_datacite_dois.json\n",
      "Done!\n"
     ]
    }
   ],
   "source": [
    "# this takes approx ~10 mins\n",
    "# from functions import getNERCDataDOIs_new\n",
    "nerc_datacite_dois = getNERCDataDOIs()\n"
   ]
  },
  {
   "cell_type": "code",
   "execution_count": null,
   "id": "92a29558",
   "metadata": {},
   "outputs": [],
   "source": [
    " "
   ]
  }
 ],
 "metadata": {
  "kernelspec": {
   "display_name": ".venv",
   "language": "python",
   "name": "python3"
  },
  "language_info": {
   "codemirror_mode": {
    "name": "ipython",
    "version": 3
   },
   "file_extension": ".py",
   "mimetype": "text/x-python",
   "name": "python",
   "nbconvert_exporter": "python",
   "pygments_lexer": "ipython3",
   "version": "3.12.3"
  }
 },
 "nbformat": 4,
 "nbformat_minor": 5
}
