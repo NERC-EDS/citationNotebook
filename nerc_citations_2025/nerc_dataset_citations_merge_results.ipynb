{
 "cells": [
  {
   "cell_type": "code",
   "execution_count": 1,
   "id": "a7c397b3",
   "metadata": {},
   "outputs": [],
   "source": [
    "import pandas as pd\n",
    "\n",
    "from citations_fun.merge_citations import merge_citation_dfs\n",
    "from citations_fun.get_citation_string import get_citation_str\n",
    "\n",
    "# load results - datacite, scholex and overton\n",
    "\n",
    "# nerc_citations_2025/results/latest_results_dataCite.csv\n",
    "# /home/matnic/Projects/citationNotebook/nerc_citations_2025/results/latest_results_dataCite.csv\n",
    "# dataCite_df = pd.read_csv(\"results/latest_results_dataCite.csv\")\n",
    "dataCite_df = pd.read_csv(\"results/latest_results_dataCite_publicationInfo.csv\") # change datacite to write to just latest_results file\n",
    "scholex_df = pd.read_csv(\"results/latest_results_scholex.csv\")\n",
    "overton_df = pd.read_csv(\"results/latest_results_overton.csv\")\n",
    "# merge in a general way"
   ]
  },
  {
   "cell_type": "code",
   "execution_count": 2,
   "id": "d5e6f8fa",
   "metadata": {},
   "outputs": [],
   "source": [
    "df_list = [dataCite_df, scholex_df, overton_df]\n",
    "\n",
    "nerc_citations_df = merge_citation_dfs(df_list)"
   ]
  },
  {
   "cell_type": "code",
   "execution_count": null,
   "id": "deda7b4e",
   "metadata": {},
   "outputs": [],
   "source": [
    "# get citation string - - takes about 2 hours\n",
    "\n",
    "nerc_citations_df = get_citation_str(nerc_citations_df)"
   ]
  },
  {
   "cell_type": "code",
   "execution_count": null,
   "id": "fab1ba66",
   "metadata": {},
   "outputs": [],
   "source": [
    "\n",
    "# add url to doi in extra columns\n",
    "nerc_citations_df['data_doi_url'] = 'doi.org/' + nerc_citations_df['data_doi']\n",
    "# need extra logic here as overton pub_doi column usually just a normal url\n",
    "nerc_citations_df['publication_doi_url'] = nerc_citations_df['pub_doi'].apply(\n",
    "    lambda x: f\"doi.org/{x}\" if x.startswith(\"10.\") else x\n",
    ")\n"
   ]
  },
  {
   "cell_type": "code",
   "execution_count": null,
   "id": "307e1bbd",
   "metadata": {},
   "outputs": [],
   "source": []
  },
  {
   "cell_type": "code",
   "execution_count": null,
   "id": "5da11e58",
   "metadata": {},
   "outputs": [
    {
     "name": "stdout",
     "output_type": "stream",
     "text": [
      "nan\n",
      "nan\n"
     ]
    }
   ],
   "source": [
    "# create publicatiYear column from pub_date\n",
    "def pub_year_splitter(date):\n",
    "    if date == \"Info not given\":\n",
    "        return None\n",
    "    else:\n",
    "        try:\n",
    "            return date.split('/')[2]\n",
    "        except:\n",
    "            try:\n",
    "                return date.split('-')[0]\n",
    "            except:\n",
    "                print(date)\n",
    "                return None\n",
    "\n",
    "nerc_citations_df['publicationYear'] = nerc_citations_df['pub_date'].apply(pub_year_splitter)"
   ]
  },
  {
   "cell_type": "code",
   "execution_count": null,
   "id": "c0534ace",
   "metadata": {},
   "outputs": [
    {
     "name": "stdout",
     "output_type": "stream",
     "text": [
      "Index(['data_Publisher', 'data_doi', 'data_Title', 'data_Authors',\n",
      "       'relation_type_id', 'publication_doi', 'publication_type',\n",
      "       'publication_title', 'publication_authors', 'publication_date',\n",
      "       'citation_event_source', 'PubCitationStr', 'data_doi_url',\n",
      "       'publication_doi_url', 'publicationYear'],\n",
      "      dtype='object')\n",
      "15\n",
      "Index(['data_doi', 'data_publisher', 'data_title', 'data_publication_year',\n",
      "       'data_authors', 'relation_type', 'pub_doi', 'pub_title', 'pub_date',\n",
      "       'pub_authors', 'source_id', 'pub_publisher', 'pub_type',\n",
      "       'pub_citation_str', 'pub_doi_stripped'],\n",
      "      dtype='object')\n",
      "15\n"
     ]
    }
   ],
   "source": [
    "# map to excected column names for API\n",
    "# data_Publisher\tdata_doi\tdata_Title\tdata_Authors\trelation_type_id\t\n",
    "# publication_doi\tpublication_type\tpublication_title\tpublication_authors\tpublication_date\tcitation_event_source\tPubCitationStr\t\n",
    "# data_doi_url\tpublication_doi_url\tpublicationYear\n",
    "# nerc_citations_df = pd.read_csv(\"results/latest_results_nerc_citations.csv\")\n",
    "# old_results = pd.read_csv(\"/home/matnic/Projects/citationNotebook/Results/v2/latest_results.csv\")\n",
    "\n",
    "# print(old_results.columns)\n",
    "# print(len(old_results.columns))\n",
    "# print(nerc_citations_df.columns)\n",
    "# print(len(nerc_citations_df.columns))\n",
    "\n",
    "cols = {\n",
    "    # 'old':'new',\n",
    "    'relation_type':'relation_type_id', \n",
    "    'pub_doi':'publication_doi', 'pub_title':'publication_title', 'pub_date':'publication_date',\n",
    "    'pub_authors':'publication_authors', 'source_id':'citation_event_source', 'pub_type':'publication_type',\n",
    "    'pub_citation_str':'PubCitationStr'\n",
    "}\n",
    "\n",
    "nerc_citations_df_renamed = nerc_citations_df.rename(columns=cols)\n",
    "\n"
   ]
  },
  {
   "cell_type": "code",
   "execution_count": null,
   "id": "ede09708",
   "metadata": {},
   "outputs": [],
   "source": [
    "# write to csv and json file\n",
    "results_folder_path = \"Results/v3/\"\n",
    "\n",
    "latest_file_name_csv = results_folder_path + 'latest_results.csv'\n",
    "nerc_citations_df.to_csv(latest_file_name_csv, index= False)\n",
    "\n",
    "# write data to 'latest_results' json file with data publisher as top level key\n",
    "latest_file_name_json = results_folder_path + 'latest_results.json'\n",
    "\n",
    "# Group by 'data_Publisher' and convert the DataFrame to a nested dictionary\n",
    "nested_dict = nerc_citations_df.groupby('data_pub').apply(\n",
    "    lambda x: x.drop('data_pub', axis=1).to_dict(orient='records')\n",
    ").to_dict()\n",
    "\n",
    "# Convert the nested dictionary to a JSON object\n",
    "import json\n",
    "json_object = json.dumps(nested_dict)\n",
    "\n",
    "# Save the JSON object to a file\n",
    "with open(latest_file_name_json, 'w') as f:\n",
    "    f.write(json_object)\n",
    "    "
   ]
  },
  {
   "cell_type": "markdown",
   "id": "8ed9e442",
   "metadata": {},
   "source": [
    "Development stuff below here:"
   ]
  },
  {
   "cell_type": "code",
   "execution_count": null,
   "id": "430da1e4",
   "metadata": {},
   "outputs": [],
   "source": [
    "# code to filter out things like if pub_doi contians \"egusphere\" etc? - always a conference abstract\n",
    "count = 0\n",
    "for pub_doi in nerc_citations_df['pub_doi']:\n",
    "    if \"egusphere\" in pub_doi:\n",
    "        print(pub_doi)\n",
    "        count =count + 1\n",
    "print(count)"
   ]
  },
  {
   "cell_type": "code",
   "execution_count": 31,
   "id": "09761eb6",
   "metadata": {},
   "outputs": [
    {
     "data": {
      "text/plain": [
       "pub_citation_str\n",
       "not a doi                                                                                                                                                                                                                                                                                                                                                                                    287\n",
       "DOI exists but metadata could not be retrieved - contact info@doi.org for help with this                                                                                                                                                                                                                                                                                                     137\n",
       "DOI not found                                                                                                                                                                                                                                                                                                                                                                                 37\n",
       "Fenney, N., Coleman, J. & Bamford, C. (2025) Aerial survey of St Andrews Bay, South Georgia, elephant seal colony during the 2023/24 season, flight DLPUS_214_30. https://doi.org/10.5285/236CBE3A-5F05-4CEF-8E92-7145B0190F0B\\n                                                                                                                                                              36\n",
       "Fenney, N., Coleman, J. & Bamford, C. (2025) Aerial survey of St Andrews Bay, South Georgia, elephant seal colony during the 2023/24 season, flight DLPUS_214_10. https://doi.org/10.5285/9C4CB255-A754-4B6B-9748-D8B355E029DE\\n                                                                                                                                                              36\n",
       "                                                                                                                                                                                                                                                                                                                                                                                            ... \n",
       "Backman, J. & Chepstow-Lusty, A.J. (1993) (Table 1) Abundances of Discoaster species in ODP Hole 130-806C. https://doi.org/10.1594/PANGAEA.781962\\n                                                                                                                                                                                                                                            1\n",
       "Maineult, A., Thomas, B., Nussbaum, C., Wieczorek, K., Gibert, D., Lavielle, B., Kergosien, B., Nicollin, F., Mahiouz, K. & Lesparre, N. (2013) Anomalies of noble gases and self-potential associated with fractures and fluid dynamics in a horizontal borehole, Mont Terri Underground Rock Laboratory. Engineering Geology 156, 46–57. https://doi.org/10.1016/j.enggeo.2013.01.010\\n      1\n",
       "error occurred                                                                                                                                                                                                                                                                                                                                                                                 1\n",
       "NERC Airborne Research Facility (NERC ARF) (2020) NERC-ARF 2014_294 - RG13_06 Flight: Airborne remote sensing measurements. https://doi.org/10.5285/EB49848446EF41DCAD6C45658B8C644A\\n                                                                                                                                                                                                         1\n",
       "NERC Airborne Research Facility (NERC ARF) (2020) NERC-ARF 2014_303 - RG13_06 Flight: Airborne remote sensing measurements. https://doi.org/10.5285/82907459C1C74495874DF13503053E3C\\n                                                                                                                                                                                                         1\n",
       "Name: count, Length: 4054, dtype: int64"
      ]
     },
     "execution_count": 31,
     "metadata": {},
     "output_type": "execute_result"
    }
   ],
   "source": [
    "nerc_citations_df['pub_citation_str'].value_counts()"
   ]
  },
  {
   "cell_type": "code",
   "execution_count": null,
   "id": "67d25316",
   "metadata": {},
   "outputs": [
    {
     "data": {
      "text/plain": [
       "pub_type\n",
       "dataset                8729\n",
       "literature             2281\n",
       "journal-article        1436\n",
       "Info not given          906\n",
       "not a doi               113\n",
       "Publication             112\n",
       "posted-content           59\n",
       "book-chapter              8\n",
       "Working paper             6\n",
       "proceedings-article       1\n",
       "report                    1\n",
       "other                     1\n",
       "API request failed        1\n",
       "Name: count, dtype: int64"
      ]
     },
     "execution_count": 7,
     "metadata": {},
     "output_type": "execute_result"
    }
   ],
   "source": [
    "nerc_citations_df[\"pub_type\"].value_counts()\n"
   ]
  },
  {
   "cell_type": "code",
   "execution_count": null,
   "id": "ceef56e6",
   "metadata": {},
   "outputs": [
    {
     "data": {
      "text/plain": [
       "0          https://doi.org/10.1016/j.scitotenv.2012.05.023\n",
       "2                     https://doi.org/10.1002/2015gl065750\n",
       "4                       https://doi.org/10.17863/cam.20713\n",
       "6                  https://doi.org/10.1111/1365-2656.12728\n",
       "8                       https://doi.org/10.5194/cp-2017-18\n",
       "                               ...                        \n",
       "24915    https://www.mext.go.jp/content/20230531-mxt_ka...\n",
       "24916    https://oaarchive.arctic-council.org/handle/11...\n",
       "24917    https://www.miljodirektoratet.no/publikasjoner...\n",
       "24918    https://nilu.brage.unit.no/nilu-xmlui/handle/1...\n",
       "24919                  https://idrc-crdi.ca/en/node/123325\n",
       "Name: pub_doi, Length: 13654, dtype: object"
      ]
     },
     "execution_count": 12,
     "metadata": {},
     "output_type": "execute_result"
    }
   ],
   "source": []
  },
  {
   "cell_type": "code",
   "execution_count": null,
   "id": "aab25ebc",
   "metadata": {},
   "outputs": [],
   "source": [
    "# # take data_doi and pub_doi columns from each df, concatenate vertically\n",
    "# doi_df = pd.concat([scholex_df[['data_doi', 'pub_doi']], dataCite_df[['data_doi', 'pub_doi']], overton_df[['data_doi', 'pub_doi']]], ignore_index=True)\n",
    "# doi_df_unique = doi_df.drop_duplicates(subset=['data_doi', 'pub_doi'])\n",
    "# print(len(doi_df))\n",
    "# print(len(doi_df_unique))"
   ]
  },
  {
   "cell_type": "code",
   "execution_count": null,
   "id": "a0a6ce3d",
   "metadata": {},
   "outputs": [],
   "source": []
  }
 ],
 "metadata": {
  "kernelspec": {
   "display_name": ".venv",
   "language": "python",
   "name": "python3"
  },
  "language_info": {
   "codemirror_mode": {
    "name": "ipython",
    "version": 3
   },
   "file_extension": ".py",
   "mimetype": "text/x-python",
   "name": "python",
   "nbconvert_exporter": "python",
   "pygments_lexer": "ipython3",
   "version": "3.12.3"
  }
 },
 "nbformat": 4,
 "nbformat_minor": 5
}
