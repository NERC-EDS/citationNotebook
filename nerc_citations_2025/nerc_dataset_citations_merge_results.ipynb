{
 "cells": [
  {
   "cell_type": "code",
   "execution_count": 1,
   "id": "a7c397b3",
   "metadata": {},
   "outputs": [],
   "source": [
    "import pandas as pd\n",
    "\n",
    "# load results - datacite, scholex and overton\n",
    "\n",
    "# nerc_citations_2025/results/latest_results_dataCite.csv\n",
    "# /home/matnic/Projects/citationNotebook/nerc_citations_2025/results/latest_results_dataCite.csv\n",
    "dataCite_df = pd.read_csv(\"results/latest_results_dataCite.csv\")\n",
    "scholex_df = pd.read_csv(\"results/latest_results_scholex.csv\")\n",
    "overton_df = pd.read_csv(\"results/latest_results_overton.csv\")\n",
    "# merge in a general way"
   ]
  },
  {
   "cell_type": "code",
   "execution_count": null,
   "id": "c5d1d505",
   "metadata": {},
   "outputs": [],
   "source": [
    "with pd.option_context('display.max_colwidth', None):\n",
    "    print(dataCite_df.iloc[1])"
   ]
  },
  {
   "cell_type": "code",
   "execution_count": null,
   "id": "c5e6ecc6",
   "metadata": {},
   "outputs": [],
   "source": [
    "with pd.option_context('display.max_colwidth', None):\n",
    "    print(scholex_df.iloc[205])"
   ]
  },
  {
   "cell_type": "code",
   "execution_count": null,
   "id": "5942cf10",
   "metadata": {},
   "outputs": [],
   "source": [
    "with pd.option_context('display.max_colwidth', None):\n",
    "    print(overton_df.iloc[51])"
   ]
  },
  {
   "cell_type": "code",
   "execution_count": null,
   "id": "22d50078",
   "metadata": {},
   "outputs": [],
   "source": [
    "ideal_columns = ['data_doi', 'data_publisher', 'data_title','data_publication_year', 'data_authors', 'relation_type', 'pub_doi', 'pub_title', 'pub_date', 'pub_authors']\n"
   ]
  },
  {
   "cell_type": "code",
   "execution_count": null,
   "id": "adc72c9e",
   "metadata": {},
   "outputs": [],
   "source": [
    "# take data_doi and pub_doi columns from each df, concatenate vertically\n",
    "doi_df = pd.concat([scholex_doi_df[['data_doi', 'pub_doi']], dataCite_doi_df[['data_doi', 'pub_doi']]], ignore_index=True)\n",
    "doi_df_unique = doi_df.drop_duplicates(subset=['data_doi', 'pub_doi'])\n",
    "print(len(doi_df))\n",
    "print(len(doi_df_unique))"
   ]
  },
  {
   "cell_type": "code",
   "execution_count": 2,
   "id": "0afa67e8",
   "metadata": {},
   "outputs": [
    {
     "name": "stdout",
     "output_type": "stream",
     "text": [
      "Index(['data_doi', 'data_publisher', 'data_title', 'data_publication_year',\n",
      "       'data_authors', 'relation_type', 'pub_doi', 'source_id'],\n",
      "      dtype='object')\n",
      "Index(['data_doi', 'data_publisher', 'data_title', 'data_publication_year',\n",
      "       'data_authors', 'relation_type', 'pub_doi', 'pub_title', 'pub_date',\n",
      "       'pub_authors', 'source_id'],\n",
      "      dtype='object')\n",
      "Index(['data_doi', 'data_publisher', 'data_title', 'data_publication_year',\n",
      "       'data_authors', 'relation_type', 'pub_doi', 'pub_title', 'pub_date',\n",
      "       'pub_authors', 'source_id'],\n",
      "      dtype='object')\n"
     ]
    }
   ],
   "source": [
    "# if all sources are wanted, \n",
    "print(dataCite_df.columns)\n",
    "print(scholex_df.columns)\n",
    "print(overton_df.columns)\n",
    "\n",
    "\n",
    "# scholex__df and overton_df missing occurred-at which datacite does have\n",
    "# scholex__df missing data_dates which datacite and overton do have\n",
    "# datacite has data_publication_year which scholex and overton don't have\n",
    "\n",
    "# actions - sort this:\n",
    "# datacite has three date columnns - data_dates', 'data_publication_year', 'data_registered\n",
    "# overton has two date column - data_dates, data_publication_year\n",
    "# scholex has no date columns \n",
    "\n",
    "\n",
    "# should be one 'data_publication_year' columnn\n",
    "# don't bother collecting data_dates\n",
    "# check this doesn't have ramifications with columns names - probably does\n",
    "# why is data_publication_year not already in scholex? should be added when we merge\n",
    "# all sorted above, this is next\n",
    "# check overton merge is happening correctly, the right way round?\n",
    "# order all columns  at end of each process"
   ]
  },
  {
   "cell_type": "code",
   "execution_count": 28,
   "id": "8a494c89",
   "metadata": {},
   "outputs": [
    {
     "name": "stdout",
     "output_type": "stream",
     "text": [
      "11\n",
      "10\n",
      "12\n"
     ]
    }
   ],
   "source": [
    "print(len(dataCite_df.columns))\n",
    "print(len(scholex_df.columns))\n",
    "print(len(overton_df.columns))\n",
    "\n"
   ]
  },
  {
   "cell_type": "code",
   "execution_count": null,
   "id": "a0a6ce3d",
   "metadata": {},
   "outputs": [],
   "source": []
  }
 ],
 "metadata": {
  "kernelspec": {
   "display_name": ".venv",
   "language": "python",
   "name": "python3"
  },
  "language_info": {
   "codemirror_mode": {
    "name": "ipython",
    "version": 3
   },
   "file_extension": ".py",
   "mimetype": "text/x-python",
   "name": "python",
   "nbconvert_exporter": "python",
   "pygments_lexer": "ipython3",
   "version": "3.12.3"
  }
 },
 "nbformat": 4,
 "nbformat_minor": 5
}
