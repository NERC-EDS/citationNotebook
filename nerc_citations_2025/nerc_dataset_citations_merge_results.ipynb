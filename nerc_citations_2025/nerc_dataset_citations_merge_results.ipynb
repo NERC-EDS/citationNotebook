{
 "cells": [
  {
   "cell_type": "code",
   "execution_count": null,
   "id": "a7c397b3",
   "metadata": {},
   "outputs": [],
   "source": [
    "import pandas as pd\n",
    "\n",
    "from citations_fun.merge_citations import merge_citation_dfs\n",
    "from citations_fun.get_citation_string import get_citation_str\n",
    "\n",
    "# load results - datacite, scholex and overton\n",
    "\n",
    "# nerc_citations_2025/results/latest_results_dataCite.csv\n",
    "# /home/matnic/Projects/citationNotebook/nerc_citations_2025/results/latest_results_dataCite.csv\n",
    "# dataCite_df = pd.read_csv(\"results/latest_results_dataCite.csv\")\n",
    "dataCite_df = pd.read_csv(\"results/latest_results_dataCite_publicationInfo.csv\") # change datacite to write to just latest_results file\n",
    "scholex_df = pd.read_csv(\"results/latest_results_scholex.csv\")\n",
    "overton_df = pd.read_csv(\"results/latest_results_overton.csv\")\n",
    "# merge in a general way"
   ]
  },
  {
   "cell_type": "code",
   "execution_count": null,
   "id": "d5e6f8fa",
   "metadata": {},
   "outputs": [],
   "source": [
    "df_list = [dataCite_df, scholex_df, overton_df]\n",
    "\n",
    "nerc_citations_df = merge_citation_dfs(df_list)"
   ]
  },
  {
   "cell_type": "code",
   "execution_count": null,
   "id": "deda7b4e",
   "metadata": {},
   "outputs": [],
   "source": [
    "# get citation string - - takes about 2 hours\n",
    "\n",
    "nerc_citations_df = get_citation_str(nerc_citations_df)"
   ]
  },
  {
   "cell_type": "code",
   "execution_count": null,
   "id": "ede09708",
   "metadata": {},
   "outputs": [],
   "source": [
    "# write to file\n",
    "nerc_citations_df.to_csv(\"results/latest_results_nerc_citations.csv\", index= False)"
   ]
  },
  {
   "cell_type": "code",
   "execution_count": null,
   "id": "430da1e4",
   "metadata": {},
   "outputs": [],
   "source": [
    "# code to filter out things like if pub_doi contians \"egu\" etc? - like a conference abstract"
   ]
  },
  {
   "cell_type": "markdown",
   "id": "8ed9e442",
   "metadata": {},
   "source": [
    "Development stuff below here:"
   ]
  },
  {
   "cell_type": "code",
   "execution_count": 31,
   "id": "09761eb6",
   "metadata": {},
   "outputs": [
    {
     "data": {
      "text/plain": [
       "pub_citation_str\n",
       "not a doi                                                                                                                                                                                                                                                                                                                                                                                    287\n",
       "DOI exists but metadata could not be retrieved - contact info@doi.org for help with this                                                                                                                                                                                                                                                                                                     137\n",
       "DOI not found                                                                                                                                                                                                                                                                                                                                                                                 37\n",
       "Fenney, N., Coleman, J. & Bamford, C. (2025) Aerial survey of St Andrews Bay, South Georgia, elephant seal colony during the 2023/24 season, flight DLPUS_214_30. https://doi.org/10.5285/236CBE3A-5F05-4CEF-8E92-7145B0190F0B\\n                                                                                                                                                              36\n",
       "Fenney, N., Coleman, J. & Bamford, C. (2025) Aerial survey of St Andrews Bay, South Georgia, elephant seal colony during the 2023/24 season, flight DLPUS_214_10. https://doi.org/10.5285/9C4CB255-A754-4B6B-9748-D8B355E029DE\\n                                                                                                                                                              36\n",
       "                                                                                                                                                                                                                                                                                                                                                                                            ... \n",
       "Backman, J. & Chepstow-Lusty, A.J. (1993) (Table 1) Abundances of Discoaster species in ODP Hole 130-806C. https://doi.org/10.1594/PANGAEA.781962\\n                                                                                                                                                                                                                                            1\n",
       "Maineult, A., Thomas, B., Nussbaum, C., Wieczorek, K., Gibert, D., Lavielle, B., Kergosien, B., Nicollin, F., Mahiouz, K. & Lesparre, N. (2013) Anomalies of noble gases and self-potential associated with fractures and fluid dynamics in a horizontal borehole, Mont Terri Underground Rock Laboratory. Engineering Geology 156, 46–57. https://doi.org/10.1016/j.enggeo.2013.01.010\\n      1\n",
       "error occurred                                                                                                                                                                                                                                                                                                                                                                                 1\n",
       "NERC Airborne Research Facility (NERC ARF) (2020) NERC-ARF 2014_294 - RG13_06 Flight: Airborne remote sensing measurements. https://doi.org/10.5285/EB49848446EF41DCAD6C45658B8C644A\\n                                                                                                                                                                                                         1\n",
       "NERC Airborne Research Facility (NERC ARF) (2020) NERC-ARF 2014_303 - RG13_06 Flight: Airborne remote sensing measurements. https://doi.org/10.5285/82907459C1C74495874DF13503053E3C\\n                                                                                                                                                                                                         1\n",
       "Name: count, Length: 4054, dtype: int64"
      ]
     },
     "execution_count": 31,
     "metadata": {},
     "output_type": "execute_result"
    }
   ],
   "source": [
    "nerc_citations_df['pub_citation_str'].value_counts()"
   ]
  },
  {
   "cell_type": "code",
   "execution_count": null,
   "id": "67d25316",
   "metadata": {},
   "outputs": [
    {
     "data": {
      "text/plain": [
       "pub_type\n",
       "dataset                8729\n",
       "literature             2281\n",
       "journal-article        1436\n",
       "Info not given          906\n",
       "not a doi               113\n",
       "Publication             112\n",
       "posted-content           59\n",
       "book-chapter              8\n",
       "Working paper             6\n",
       "proceedings-article       1\n",
       "report                    1\n",
       "other                     1\n",
       "API request failed        1\n",
       "Name: count, dtype: int64"
      ]
     },
     "execution_count": 7,
     "metadata": {},
     "output_type": "execute_result"
    }
   ],
   "source": [
    "nerc_citations_df[\"pub_type\"].value_counts()\n"
   ]
  },
  {
   "cell_type": "code",
   "execution_count": null,
   "id": "ceef56e6",
   "metadata": {},
   "outputs": [
    {
     "data": {
      "text/plain": [
       "0          https://doi.org/10.1016/j.scitotenv.2012.05.023\n",
       "2                     https://doi.org/10.1002/2015gl065750\n",
       "4                       https://doi.org/10.17863/cam.20713\n",
       "6                  https://doi.org/10.1111/1365-2656.12728\n",
       "8                       https://doi.org/10.5194/cp-2017-18\n",
       "                               ...                        \n",
       "24915    https://www.mext.go.jp/content/20230531-mxt_ka...\n",
       "24916    https://oaarchive.arctic-council.org/handle/11...\n",
       "24917    https://www.miljodirektoratet.no/publikasjoner...\n",
       "24918    https://nilu.brage.unit.no/nilu-xmlui/handle/1...\n",
       "24919                  https://idrc-crdi.ca/en/node/123325\n",
       "Name: pub_doi, Length: 13654, dtype: object"
      ]
     },
     "execution_count": 12,
     "metadata": {},
     "output_type": "execute_result"
    }
   ],
   "source": []
  },
  {
   "cell_type": "code",
   "execution_count": null,
   "id": "aab25ebc",
   "metadata": {},
   "outputs": [],
   "source": [
    "# # take data_doi and pub_doi columns from each df, concatenate vertically\n",
    "# doi_df = pd.concat([scholex_df[['data_doi', 'pub_doi']], dataCite_df[['data_doi', 'pub_doi']], overton_df[['data_doi', 'pub_doi']]], ignore_index=True)\n",
    "# doi_df_unique = doi_df.drop_duplicates(subset=['data_doi', 'pub_doi'])\n",
    "# print(len(doi_df))\n",
    "# print(len(doi_df_unique))"
   ]
  },
  {
   "cell_type": "code",
   "execution_count": null,
   "id": "a0a6ce3d",
   "metadata": {},
   "outputs": [],
   "source": []
  }
 ],
 "metadata": {
  "kernelspec": {
   "display_name": ".venv",
   "language": "python",
   "name": "python3"
  },
  "language_info": {
   "codemirror_mode": {
    "name": "ipython",
    "version": 3
   },
   "file_extension": ".py",
   "mimetype": "text/x-python",
   "name": "python",
   "nbconvert_exporter": "python",
   "pygments_lexer": "ipython3",
   "version": "3.12.3"
  }
 },
 "nbformat": 4,
 "nbformat_minor": 5
}
