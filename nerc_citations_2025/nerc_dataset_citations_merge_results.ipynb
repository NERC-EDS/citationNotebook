{
 "cells": [
  {
   "cell_type": "code",
   "execution_count": 7,
   "id": "a7c397b3",
   "metadata": {},
   "outputs": [],
   "source": [
    "import pandas as pd\n",
    "\n",
    "# load results - datacite, scholex and overton\n",
    "\n",
    "# nerc_citations_2025/results/latest_results_dataCite.csv\n",
    "# /home/matnic/Projects/citationNotebook/nerc_citations_2025/results/latest_results_dataCite.csv\n",
    "# dataCite_df = pd.read_csv(\"results/latest_results_dataCite.csv\")\n",
    "dataCite_df = pd.read_csv(\"results/latest_results_dataCite_publicationInfo.csv\") # change datacite to write to just latest_results file\n",
    "scholex_df = pd.read_csv(\"results/latest_results_scholex.csv\")\n",
    "overton_df = pd.read_csv(\"results/latest_results_overton.csv\")\n",
    "# merge in a general way"
   ]
  },
  {
   "cell_type": "code",
   "execution_count": null,
   "id": "c5d1d505",
   "metadata": {},
   "outputs": [],
   "source": [
    "with pd.option_context('display.max_colwidth', None):\n",
    "    print(dataCite_df.iloc[1])"
   ]
  },
  {
   "cell_type": "code",
   "execution_count": null,
   "id": "c5e6ecc6",
   "metadata": {},
   "outputs": [],
   "source": [
    "with pd.option_context('display.max_colwidth', None):\n",
    "    print(scholex_df.iloc[205])"
   ]
  },
  {
   "cell_type": "code",
   "execution_count": 4,
   "id": "5942cf10",
   "metadata": {},
   "outputs": [
    {
     "name": "stdout",
     "output_type": "stream",
     "text": [
      "data_doi                                             10.5285/76a29c5b55204b66a40308fc2ba9cdb3\n",
      "data_publisher                                  Centre for Environmental Data Analysis (CEDA)\n",
      "data_title                 GloboLakes: Lake Surface Water Temperature (LSWT) v4.0 (1995-2016)\n",
      "data_publication_year                                                                  2019.0\n",
      "data_authors                                    ['Carrea, Laura', 'Merchant, Christopher J.']\n",
      "relation_type                                                                      references\n",
      "pub_doi                  https://www.ipcc.ch/report/sixth-assessment-report-working-group-ii/\n",
      "pub_title                      AR6 Climate Change 2022: Impacts, Adaptation and Vulnerability\n",
      "pub_date                                                                           2022-02-01\n",
      "pub_authors                                                                          ['IPCC']\n",
      "pub_type                                                                          Publication\n",
      "pub_publisher                                                                            IPCC\n",
      "source_id                                                                             overton\n",
      "Name: 51, dtype: object\n"
     ]
    }
   ],
   "source": [
    "with pd.option_context('display.max_colwidth', None):\n",
    "    print(overton_df.iloc[51])"
   ]
  },
  {
   "cell_type": "code",
   "execution_count": 11,
   "id": "adc72c9e",
   "metadata": {},
   "outputs": [
    {
     "name": "stdout",
     "output_type": "stream",
     "text": [
      "24920\n",
      "13654\n"
     ]
    }
   ],
   "source": [
    "# take data_doi and pub_doi columns from each df, concatenate vertically\n",
    "doi_df = pd.concat([scholex_df[['data_doi', 'pub_doi']], dataCite_df[['data_doi', 'pub_doi']], overton_df[['data_doi', 'pub_doi']]], ignore_index=True)\n",
    "doi_df_unique = doi_df.drop_duplicates(subset=['data_doi', 'pub_doi'])\n",
    "print(len(doi_df))\n",
    "print(len(doi_df_unique))"
   ]
  },
  {
   "cell_type": "code",
   "execution_count": 12,
   "id": "0afa67e8",
   "metadata": {},
   "outputs": [
    {
     "name": "stdout",
     "output_type": "stream",
     "text": [
      "Index(['data_doi', 'data_publisher', 'data_title', 'data_publication_year',\n",
      "       'data_authors', 'relation_type', 'pub_doi', 'pub_title', 'pub_date',\n",
      "       'pub_authors', 'source_id', 'pub_publisher', 'pub_type'],\n",
      "      dtype='object')\n"
     ]
    }
   ],
   "source": [
    "# if all sources are wanted, \n",
    "print(dataCite_df.columns)"
   ]
  },
  {
   "cell_type": "code",
   "execution_count": 15,
   "id": "d5e6f8fa",
   "metadata": {},
   "outputs": [],
   "source": [
    "df_list = [dataCite_df, scholex_df, overton_df]\n",
    "def merge_data_citations_dfs(df_list):\n",
    "\n",
    "    combined_df = pd.concat(df_list, ignore_index=True)\n",
    "\n",
    "    deduped_df = combined_df.drop_duplicates(subset=list((\"data_doi\", \"pub_doi\")), keep=\"first\")\n",
    "\n",
    "    return deduped_df"
   ]
  },
  {
   "cell_type": "code",
   "execution_count": 16,
   "id": "deda7b4e",
   "metadata": {},
   "outputs": [],
   "source": [
    "deduped_df = merge_data_citations_dfs(df_list)"
   ]
  },
  {
   "cell_type": "code",
   "execution_count": 17,
   "id": "990b1827",
   "metadata": {},
   "outputs": [
    {
     "data": {
      "text/plain": [
       "13654"
      ]
     },
     "execution_count": 17,
     "metadata": {},
     "output_type": "execute_result"
    }
   ],
   "source": [
    "len(deduped_df)"
   ]
  },
  {
   "cell_type": "code",
   "execution_count": 22,
   "id": "67d25316",
   "metadata": {},
   "outputs": [
    {
     "data": {
      "text/plain": [
       "pub_type\n",
       "dataset                8729\n",
       "literature             2281\n",
       "journal-article        1436\n",
       "Info not given          906\n",
       "not a doi               113\n",
       "Publication             112\n",
       "posted-content           59\n",
       "book-chapter              8\n",
       "Working paper             6\n",
       "proceedings-article       1\n",
       "report                    1\n",
       "other                     1\n",
       "API request failed        1\n",
       "Name: count, dtype: int64"
      ]
     },
     "execution_count": 22,
     "metadata": {},
     "output_type": "execute_result"
    }
   ],
   "source": [
    "deduped_df[\"pub_type\"].value_counts()\n"
   ]
  },
  {
   "cell_type": "code",
   "execution_count": null,
   "id": "a0a6ce3d",
   "metadata": {},
   "outputs": [],
   "source": []
  }
 ],
 "metadata": {
  "kernelspec": {
   "display_name": ".venv",
   "language": "python",
   "name": "python3"
  },
  "language_info": {
   "codemirror_mode": {
    "name": "ipython",
    "version": 3
   },
   "file_extension": ".py",
   "mimetype": "text/x-python",
   "name": "python",
   "nbconvert_exporter": "python",
   "pygments_lexer": "ipython3",
   "version": "3.12.3"
  }
 },
 "nbformat": 4,
 "nbformat_minor": 5
}
