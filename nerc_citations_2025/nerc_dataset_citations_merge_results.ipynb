{
 "cells": [
  {
   "cell_type": "code",
   "execution_count": 1,
   "id": "a7c397b3",
   "metadata": {},
   "outputs": [],
   "source": [
    "import pandas as pd\n",
    "\n",
    "# load results - datacite, scholex and overton\n",
    "\n",
    "dataCite_df = pd.read_csv(\"results/latest_results_dataCite.csv\")\n",
    "scholex_df = pd.read_csv(\"results/latest_results_scholex.csv\")\n",
    "\n",
    "# merge in a general way"
   ]
  },
  {
   "cell_type": "code",
   "execution_count": 3,
   "id": "c5d1d505",
   "metadata": {},
   "outputs": [
    {
     "name": "stdout",
     "output_type": "stream",
     "text": [
      "id                                                                                                                   8875aad2-cbde-41c3-93b3-d63cb21f4d2d\n",
      "pub_doi                                                                                                              https://doi.org/10.1002/2015gl065750\n",
      "source-id                                                                                                                               datacite-crossref\n",
      "relation-type-id                                                                                                                              is-cited-by\n",
      "occurred-at                                                                                                                      2019-08-01T11:28:04.000Z\n",
      "Page endpoint                          https://api.datacite.org/events?page%5Bcursor%5D=1&prefix=10.5285&page%5Bsize%5D=1000&relation-type-id=is-cited-by\n",
      "data_doi                                                                                                     10.5285/6feac38a-5847-46f9-84e4-e7e9d291f935\n",
      "data_publisher                                                                                                                    Polar Data Centre (PDC)\n",
      "data_title                                                        Snow accumulation from the Bryan Coast ice core (BC11), Ellsworth Land, West Antarctica\n",
      "data_dates               [{'date': '2010', 'dateType': 'Collected'}, {'date': '2017-07', 'dateType': 'Accepted'}, {'date': '2017', 'dateType': 'Issued'}]\n",
      "data_publication_year                                                                                                                              2017.0\n",
      "data_authors                                                                                                                        ['Thomas, Elizabeth']\n",
      "data_registered                                                                                                                      2017-07-10T16:43:38Z\n",
      "data_page_number                                                                                                                                    184.0\n",
      "data_self_link                                                     https://api.datacite.org/dois?client-id=bl.nerc&page%5Bnumber%5D=184&page%5Bsize%5D=25\n",
      "Name: 1, dtype: object\n"
     ]
    }
   ],
   "source": [
    "with pd.option_context('display.max_colwidth', None):\n",
    "    print(dataCite_df.iloc[1])\n"
   ]
  },
  {
   "cell_type": "code",
   "execution_count": 12,
   "id": "c5e6ecc6",
   "metadata": {},
   "outputs": [
    {
     "name": "stdout",
     "output_type": "stream",
     "text": [
      "relationshipType                                                                                                                                                      IsReferencedBy\n",
      "pub_title                                    Anthropogenic Drivers of Variation in Concentrations of Perfluoroalkyl Substances in Otters (<i>Lutra lutra</i>) from England and Wales\n",
      "pub_date                                                                                                                                                                  2022-01-11\n",
      "pub_doi                                                                                                                                                      10.1021/acs.est.1c05410\n",
      "data_doi                                                                                                                                10.5285/a1f88807-4826-44bc-994d-a902da5119c2\n",
      "data_title                                                                                                                                 Land Cover Map 2007 (25m raster, GB) v1.2\n",
      "data_authors                                                                             ['Morton, R.D.', 'Rowland, C.S.', 'Wood, C.M.', 'Meek, L.', 'Marston, C.G.', 'Smith, G.M.']\n",
      "data_publisher                                                                                                                          Environmental Information Data Centre (EIDC)\n",
      "pub_authors         ['O’Rourke, Emily', 'Hynes, Juliet', 'Losada, Sara', 'Barber, Jonathan L.', 'Pereira, M. Glória', 'Kean, Eleanor F.', 'Hailer, Frank', 'Chadwick, Elizabeth A.']\n",
      "Name: 205, dtype: object\n"
     ]
    }
   ],
   "source": [
    "with pd.option_context('display.max_colwidth', None):\n",
    "    print(scholex_df.iloc[205])"
   ]
  },
  {
   "cell_type": "code",
   "execution_count": null,
   "id": "22d50078",
   "metadata": {},
   "outputs": [],
   "source": [
    "ideal_columns = ['data_doi', 'data_publisher', 'data_title', 'data_dates', 'data_publication_year', 'data_authors', 'data_registered', 'relation_type', 'pub_doi', 'pub_title', 'pub_date', 'pub_authors']\n"
   ]
  },
  {
   "cell_type": "code",
   "execution_count": 11,
   "id": "adc72c9e",
   "metadata": {},
   "outputs": [
    {
     "name": "stdout",
     "output_type": "stream",
     "text": [
      "26726\n",
      "18542\n"
     ]
    }
   ],
   "source": [
    "# take data_doi and pub_doi columns from each df, concatenate vertically\n",
    "doi_df = pd.concat([scholex_doi_df[['data_doi', 'pub_doi']], dataCite_doi_df[['data_doi', 'pub_doi']]], ignore_index=True)\n",
    "doi_df_unique = doi_df.drop_duplicates(subset=['data_doi', 'pub_doi'])\n",
    "print(len(doi_df))\n",
    "print(len(doi_df_unique))"
   ]
  },
  {
   "cell_type": "code",
   "execution_count": null,
   "id": "a0a6ce3d",
   "metadata": {},
   "outputs": [],
   "source": []
  }
 ],
 "metadata": {
  "kernelspec": {
   "display_name": ".venv",
   "language": "python",
   "name": "python3"
  },
  "language_info": {
   "codemirror_mode": {
    "name": "ipython",
    "version": 3
   },
   "file_extension": ".py",
   "mimetype": "text/x-python",
   "name": "python",
   "nbconvert_exporter": "python",
   "pygments_lexer": "ipython3",
   "version": "3.12.3"
  }
 },
 "nbformat": 4,
 "nbformat_minor": 5
}
