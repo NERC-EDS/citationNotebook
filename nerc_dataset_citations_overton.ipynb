{
 "cells": [
  {
   "cell_type": "code",
   "execution_count": null,
   "id": "07050ce2",
   "metadata": {},
   "outputs": [],
   "source": [
    "import requests, time, json\n",
    "import pandas as pd\n",
    "from requests.adapters import HTTPAdapter\n",
    "from urllib3.util.retry import Retry\n",
    "\n",
    "from citations_fun.getOvertonCitations import getOvertonCitations\n",
    "from citations_fun.getOvertonCitations import processOvertonResults\n",
    "\n",
    "with open(\"Results/intermediate_data/nerc_datacite_dois.json\") as f:\n",
    "    nerc_datacite_dois = json.load(f)\n",
    "\n",
    "nerc_datacite_dois_df = pd.DataFrame(nerc_datacite_dois)\n",
    "\n"
   ]
  },
  {
   "cell_type": "code",
   "execution_count": null,
   "id": "90e9bcbe",
   "metadata": {},
   "outputs": [],
   "source": [
    "# this takes 95-134 minutes\n",
    "results = getOvertonCitations(nerc_datacite_dois_df)"
   ]
  },
  {
   "cell_type": "code",
   "execution_count": null,
   "id": "7511e7ed",
   "metadata": {},
   "outputs": [],
   "source": [
    "# process and write to csv file\n",
    "overton_df = processOvertonResults(results)"
   ]
  }
 ],
 "metadata": {
  "kernelspec": {
   "display_name": ".venv",
   "language": "python",
   "name": "python3"
  },
  "language_info": {
   "codemirror_mode": {
    "name": "ipython",
    "version": 3
   },
   "file_extension": ".py",
   "mimetype": "text/x-python",
   "name": "python",
   "nbconvert_exporter": "python",
   "pygments_lexer": "ipython3",
   "version": "3.12.3"
  }
 },
 "nbformat": 4,
 "nbformat_minor": 5
}
