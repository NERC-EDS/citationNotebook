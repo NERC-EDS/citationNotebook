{
 "cells": [
  {
   "cell_type": "markdown",
   "id": "11c8d99d-0d5c-428f-b73f-4e093bd7e838",
   "metadata": {},
   "source": [
    "### NERC dataset citations - part 1\n",
    "Code to collect NERC dataset citations from Scholix, CrossRef and DataCite APIs\n",
    "Produces a csv for each database"
   ]
  },
  {
   "cell_type": "code",
   "execution_count": null,
   "id": "5bcaa7fa-e932-4386-a7c8-8149f85fd5d2",
   "metadata": {},
   "outputs": [],
   "source": [
    "import requests, time, json, re, datetime, os, sys\n",
    "import numpy as np\n",
    "import pandas as pd\n",
    "from math import ceil\n",
    "from datetime import date\n",
    "from scholix_fun import getNERCDataDOIs, getScholixDatasetCitations, process_citation_results, getPublicationType, countScholixCitations, getCitationString\n",
    "import crossRef_fun\n",
    "from crossRef_fun import getDataCiteInfo, getCrossRefCitations, filterCrossRefResults, mergeDFs, getPublicationInfo\n",
    "from dataCite_fun import getDataCiteCitations_relationTypes, getPublicationInfo_timeCopy\n",
    "# import exportCitationResultsToCsv\n",
    "# from Results import convertCSVtoJSON\n",
    "\n",
    "\n",
    "sys.path.insert(0, '..')\n"
   ]
  },
  {
   "cell_type": "markdown",
   "id": "f00efeb8-2750-4a1d-aa29-65d65044fbb6",
   "metadata": {},
   "source": [
    "## Scholix"
   ]
  },
  {
   "cell_type": "markdown",
   "id": "929ed461-2447-42ea-9d5e-87eab46b56af",
   "metadata": {},
   "source": [
    "### Get the dataset DOIs"
   ]
  },
  {
   "cell_type": "code",
   "execution_count": null,
   "id": "ab5dce39-f8e2-45bc-8cde-c22632933317",
   "metadata": {
    "scrolled": true,
    "tags": []
   },
   "outputs": [],
   "source": [
    "# this takes approx ~20 mins\n",
    "# will print output as it goes along to see progress - in JupyterLab right click on the output and select enable scrolling for outputs\n",
    "dataCite_df = getNERCDataDOIs.getNERCDataDOIs()"
   ]
  },
  {
   "cell_type": "markdown",
   "id": "1027692b-8225-4459-ac31-915c91905898",
   "metadata": {},
   "source": [
    "### Pass the dataset DOIs to the scholex API to get the citations and their respective DOIs"
   ]
  },
  {
   "cell_type": "code",
   "execution_count": null,
   "id": "09f1c9b7-20a5-4b20-b12d-6fc17dddbcce",
   "metadata": {
    "scrolled": true,
    "tags": []
   },
   "outputs": [],
   "source": [
    "# this takes about 8 mins\n",
    "# prints output as it goes along to see progress - in JupyterLab right click on the output and select enable scrolling for outputs\n",
    "scholex_df = getScholixDatasetCitations.getScholixDatasetCitations(dataCite_df)"
   ]
  },
  {
   "cell_type": "markdown",
   "id": "ef6f830f-d80d-45b7-8d10-4cddad9b09d3",
   "metadata": {},
   "source": [
    "#### Process the citation results"
   ]
  },
  {
   "cell_type": "code",
   "execution_count": null,
   "id": "b569ee2d-e0b0-4f33-9fc1-0c3248ae7d27",
   "metadata": {},
   "outputs": [],
   "source": [
    "dataCite_df, scholex_df = process_citation_results.process_citation_results(dataCite_df, scholex_df)"
   ]
  },
  {
   "cell_type": "code",
   "execution_count": null,
   "id": "ae052c9e-eeef-4e4f-bd6b-34d92058d789",
   "metadata": {},
   "outputs": [],
   "source": [
    "# filter out gbif registrant code prefix 10.15468\n",
    "# scholex_df = scholex_df[~scholex_df.pubID.str.contains(\"10.15468\")]\n",
    "scholex_df = scholex_df[~scholex_df['pubID'].apply(lambda x: str(x)).str.contains(\"10.15468\")]\n"
   ]
  },
  {
   "cell_type": "markdown",
   "id": "370c5a21-c90d-4055-a042-1ba3e1257060",
   "metadata": {},
   "source": [
    "### Check the DOIs at DOI.org to determine the type of publication and to check there are no duplicates (by preprints etc) "
   ]
  },
  {
   "cell_type": "code",
   "execution_count": null,
   "id": "bb046d80-3df5-4e78-8d81-4963238581c5",
   "metadata": {
    "scrolled": true,
    "tags": []
   },
   "outputs": [],
   "source": [
    "# very long 3+ hours\n",
    "scholex_df = getPublicationType.getPublicationType(scholex_df)"
   ]
  },
  {
   "cell_type": "markdown",
   "id": "9b4c28b3-6e43-4386-aff2-7717ca39b4bd",
   "metadata": {},
   "source": [
    "### Output spreadsheet"
   ]
  },
  {
   "cell_type": "code",
   "execution_count": null,
   "id": "4b61fb4a-01f6-44f8-a403-d8f80177c659",
   "metadata": {},
   "outputs": [],
   "source": [
    "today = date.today()\n",
    "\n",
    "scholex_filename = \"Results/Intermediate data/\" + 'scholix_citation_publication_info_' + (today.strftime(\"%d%m%Y\")) + '.csv'\n",
    "scholex_df.to_csv(scholex_filename, index = False)\n",
    "scholex_df.to_csv(\"Results/Intermediate data/latest_results_scholix.csv\", index = False)"
   ]
  },
  {
   "cell_type": "markdown",
   "id": "5c7eba1a-4d8d-4c90-acb3-80b1a6049738",
   "metadata": {},
   "source": [
    "## CrossRef"
   ]
  },
  {
   "cell_type": "code",
   "execution_count": null,
   "id": "fb72d767-3936-4e25-aec8-a10502a58d06",
   "metadata": {
    "scrolled": true,
    "tags": []
   },
   "outputs": [],
   "source": [
    "# Code for getting results based on a date range\n",
    "\n",
    "email = \"matnic@ceh.ac.uk\"\n",
    "prefix = \"10.5285\"\n",
    "start_date = \"1990-01-01\"\n",
    "today = date.today()\n",
    "end_date = today.strftime(\"%Y-%m-%d\")\n",
    "results_folder_path = \"Results/\"\n",
    "results_folder_path_name = results_folder_path + \"NERC_EDS_events_from_\" + start_date + \"_up_to_\" + end_date\n",
    "\n",
    "getCrossRefCitations.getCrossRefCitations_byDates(email, prefix, start_date, end_date, results_folder_path)"
   ]
  },
  {
   "cell_type": "code",
   "execution_count": null,
   "id": "b3412c45-3636-4635-8d4d-346d7189ed67",
   "metadata": {},
   "outputs": [],
   "source": [
    "# filter results \n",
    "crossRef_df_gbif_filtered2_deduplicated = filterCrossRefResults.filterCrossRefResults(results_folder_path_name)"
   ]
  },
  {
   "cell_type": "code",
   "execution_count": null,
   "id": "da93bd09-85f7-4e2f-a631-e58a49dd0b7a",
   "metadata": {
    "scrolled": true,
    "tags": []
   },
   "outputs": [],
   "source": [
    "# Pass citation info to datacite API to collect relevant info on the datasets, data centres etc\n",
    "(errors, dataCite_df) = getDataCiteInfo.getDataCiteInfo(crossRef_df_gbif_filtered2_deduplicated)"
   ]
  },
  {
   "cell_type": "code",
   "execution_count": null,
   "id": "416bf8d1-26d4-4e30-aa3c-a9f2bcf81085",
   "metadata": {},
   "outputs": [],
   "source": [
    "(dataset_df, crossRef_df_gbif_filtered2_deduplicated) = mergeDFs.mergeDFs(dataCite_df,crossRef_df_gbif_filtered2_deduplicated)"
   ]
  },
  {
   "cell_type": "code",
   "execution_count": null,
   "id": "17084112-5855-41b4-a54b-94107f4ab4f0",
   "metadata": {
    "scrolled": true,
    "tags": []
   },
   "outputs": [],
   "source": [
    "crossRef_df_gbif_filtered2_deduplicated = getPublicationInfo.getPublicationInfo(crossRef_df_gbif_filtered2_deduplicated)"
   ]
  },
  {
   "cell_type": "markdown",
   "id": "db2f172d-be37-49de-970a-1230abbe9c4b",
   "metadata": {},
   "source": [
    "### Output spreadsheet"
   ]
  },
  {
   "cell_type": "code",
   "execution_count": null,
   "id": "119567d0-b23d-471f-9c21-9aa73968140d",
   "metadata": {},
   "outputs": [],
   "source": [
    "crossRef_df_processed_filename = \"Results/Intermediate data/\" + 'dataset_citation_publication_info_' + start_date + \"_to_\" + end_date + \"_retrieved_\" + (today.strftime(\"%d%m%Y\")) + '.csv'\n",
    "crossRef_df_gbif_filtered2_deduplicated.to_csv(crossRef_df_processed_filename, index = False)\n",
    "crossRef_df_gbif_filtered2_deduplicated.to_csv(\"Results/Intermediate data/latest_results_crossRef.csv\", index = False)"
   ]
  },
  {
   "cell_type": "markdown",
   "id": "e78d81f0-de99-4ae1-911d-ddd8cb1c45d0",
   "metadata": {},
   "source": [
    "## DataCite"
   ]
  },
  {
   "cell_type": "code",
   "execution_count": null,
   "id": "0505a104-5060-4427-b1ab-6614cbe84925",
   "metadata": {
    "scrolled": true,
    "tags": []
   },
   "outputs": [],
   "source": [
    "relation_type_id_list = ['is-cited-by', 'is-referenced-by', 'is-supplement-to']\n",
    "dataCite_df_relationTypes = getDataCiteCitations_relationTypes.getDataCiteCitations_relationTypes(relation_type_id_list)"
   ]
  },
  {
   "cell_type": "code",
   "execution_count": null,
   "id": "29e17389-cc1c-46cc-b054-b1d0b9544440",
   "metadata": {},
   "outputs": [],
   "source": [
    "# remove http from DOI url\n",
    "doi_list = []\n",
    "for url in dataCite_df_relationTypes['subj-id']:\n",
    "    doi = url.replace('https://doi.org/','')\n",
    "    doi_list.append(doi)\n",
    "dataCite_df_relationTypes['data_doi'] = doi_list\n",
    "dataCite_df_relationTypes = dataCite_df_relationTypes.drop(['subj-id'], axis=1)\n",
    "\n",
    "# doi_list = []\n",
    "# for url in dataCite_df_relationTypes['obj-id']:\n",
    "#     doi = url.replace('https://doi.org/','')\n",
    "#     doi_list.append(doi)\n",
    "# dataCite_df_relationTypes['pub_doi'] = doi_list # rename to work in getPublicationInfo function \n",
    "    \n",
    "dataCite_df_relationTypes = dataCite_df_relationTypes.rename(columns={\"obj-id\": \"pub_doi_url\"})"
   ]
  },
  {
   "cell_type": "code",
   "execution_count": null,
   "id": "d35dc5d4-c0ab-4a0e-b5a8-a1c0e1abc891",
   "metadata": {},
   "outputs": [],
   "source": [
    "# drop the rows where the data_doi column value does not start with \"10.5285\"\n",
    "dataCite_df_relationTypes = dataCite_df_relationTypes[dataCite_df_relationTypes['data_doi'].str.startswith('10.5285')]"
   ]
  },
  {
   "cell_type": "code",
   "execution_count": null,
   "id": "4701c175-1a68-4afb-9629-9f4b26561c38",
   "metadata": {
    "scrolled": true,
    "tags": []
   },
   "outputs": [],
   "source": [
    "# get dataset metadata \n",
    "info_list = []\n",
    "headers = {'client-id': 'bl.nerc'}\n",
    "api_url = 'https://api.datacite.org/dois/' \n",
    "# for doi in dataCite_df_relationTypes['data_doi']:\n",
    "for (source_id, relation_type_id, occurred_at, Page_endpoint, data_doi, pub_doi_url) in zip(dataCite_df_relationTypes['source-id'],dataCite_df_relationTypes['relation-type-id'],dataCite_df_relationTypes['occurred-at'],dataCite_df_relationTypes['Page endpoint'],dataCite_df_relationTypes['data_doi'], dataCite_df_relationTypes['pub_doi_url']):\n",
    "    r = requests.get((api_url + data_doi), headers)\n",
    "    print(r.status_code, data_doi)\n",
    "    \n",
    "    try:\n",
    "        # process author info\n",
    "        author_list = []\n",
    "        for item in r.json()['data']['attributes']['creators']:\n",
    "            author_list.append(item['name'])\n",
    "\n",
    "        info_list.append([\n",
    "            r.json()['data']['attributes']['publisher'],\n",
    "            data_doi,\n",
    "            r.json()['data']['attributes']['titles'][0]['title'],\n",
    "            author_list,\n",
    "            r.json()['data']['attributes']['publicationYear'],\n",
    "            r.json()['data']['attributes']['dates'],\n",
    "            r.json()['data']['attributes']['registered'],\n",
    "            source_id, relation_type_id, pub_doi_url, occurred_at, Page_endpoint\n",
    "        ])\n",
    "    except Exception as e:\n",
    "        info_list.append([\"error\",data_doi,\"error\",\"error\",\"error\",\"error\",\"error\",\"error\",\"error\",pub_doi_url,\"error\",\"error\"])\n",
    "        \n",
    "columns = ['data_publisher', 'data_doi', 'data_title', 'data_authors', 'publicationYear', 'dates', 'registered', \n",
    "           'source-id', 'relation-type-id', 'pub_doi_url', 'occurred-at', 'Page endpoint']\n",
    "dataCite_df = pd.DataFrame(info_list, columns = columns)    \n",
    "print(\"Done!\")\n",
    "    "
   ]
  },
  {
   "cell_type": "code",
   "execution_count": null,
   "id": "5e6df600-c856-4087-bc1d-97fe1e6d357b",
   "metadata": {
    "scrolled": true,
    "tags": []
   },
   "outputs": [],
   "source": [
    "# get publication info - takes a long time\n",
    "dataCite_df_temp = dataCite_df.rename(columns={\"pub_doi_url\": \"subj_id\"})\n",
    "dataCite_df_publication_meta = getPublicationInfo_timeCopy.getPublicationInfo(dataCite_df_temp)"
   ]
  },
  {
   "cell_type": "code",
   "execution_count": null,
   "id": "d2c805c5-e62a-4b22-abb0-38f1895ea5fd",
   "metadata": {},
   "outputs": [],
   "source": [
    "doi_list = []\n",
    "for url in dataCite_df_publication_meta['subj_id']:\n",
    "    doi = url.replace('https://doi.org/','')\n",
    "    doi_list.append(doi)\n",
    "dataCite_df_publication_meta['pub_doi'] = doi_list # rename to work in getPublicationInfo function "
   ]
  },
  {
   "cell_type": "code",
   "execution_count": null,
   "id": "553f5c56-7155-411d-b7b4-f603f0ec101a",
   "metadata": {},
   "outputs": [],
   "source": [
    "#process dataset publisher names\n",
    "newPublisherLst = []\n",
    "for dataCentreName in dataCite_df_publication_meta['data_publisher']:\n",
    "    if type(dataCentreName) == float or dataCentreName is None:\n",
    "        newPublisherLst.append(dataCentreName)\n",
    "        continue\n",
    "    else:\n",
    "        pass\n",
    "\n",
    "    dataCentreName_lower = dataCentreName.lower() # make it all lowercase as 'in' operator used below is case sensitive\n",
    "    if 'polar' in dataCentreName_lower:\n",
    "        newPublisherLst.append('Polar Data Centre (PDC)')\n",
    "    elif 'atmospheric' in dataCentreName_lower or 'badc' in dataCentreName_lower or 'earth' in dataCentreName_lower:\n",
    "        newPublisherLst.append('Centre for Environmental Data Analysis (CEDA)')\n",
    "    elif 'oceanographic' in dataCentreName_lower:\n",
    "        newPublisherLst.append('British Oceanographic Data Centre (BODC)')\n",
    "    elif 'geological' in dataCentreName_lower or 'geoscience' in dataCentreName_lower:\n",
    "        newPublisherLst.append('National Geoscience Data Centre (NGDC)')\n",
    "    elif 'environmental information' in dataCentreName_lower:\n",
    "        newPublisherLst.append('Environmental Information Data Centre (EIDC)')\n",
    "    elif 'environmental data' in dataCentreName_lower:\n",
    "        newPublisherLst.append('Centre for Environmental Data Analysis (CEDA)')\n",
    "    else:\n",
    "        newPublisherLst.append(dataCentreName)\n",
    "dataCite_df_publication_meta['publisher_processed'] = newPublisherLst\n",
    "\n",
    "dataCite_df_publication_meta = dataCite_df_publication_meta.drop(['data_publisher'], axis=1)\n",
    "dataCite_df_publication_meta = dataCite_df_publication_meta.rename(columns={'publisher_processed':'data_publisher'})"
   ]
  },
  {
   "cell_type": "markdown",
   "id": "ab93101b-b366-42bd-8bc0-8884c693b90a",
   "metadata": {},
   "source": [
    "### Output spreadsheet"
   ]
  },
  {
   "cell_type": "code",
   "execution_count": null,
   "id": "4c157d4b-00bd-4045-9bfd-f148003aa9c4",
   "metadata": {},
   "outputs": [],
   "source": [
    "dataCite_filename = \"Results/Intermediate data/\" + 'dataCite_df_events_publication_meta_retrieved_' + (today.strftime(\"%d%m%Y\")) + '.csv'\n",
    "dataCite_df_publication_meta.to_csv(dataCite_filename, index = False)\n",
    "dataCite_df_publication_meta.to_csv(\"Results/Intermediate data/latest_results_dataCite.csv\", index = False)\n"
   ]
  }
 ],
 "metadata": {
  "kernelspec": {
   "display_name": "Python 3 (ipykernel)",
   "language": "python",
   "name": "python3"
  },
  "language_info": {
   "codemirror_mode": {
    "name": "ipython",
    "version": 3
   },
   "file_extension": ".py",
   "mimetype": "text/x-python",
   "name": "python",
   "nbconvert_exporter": "python",
   "pygments_lexer": "ipython3",
   "version": "3.7.16"
  }
 },
 "nbformat": 4,
 "nbformat_minor": 5
}
