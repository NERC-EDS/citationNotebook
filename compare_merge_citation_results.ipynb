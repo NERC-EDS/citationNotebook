{
 "cells": [
  {
   "cell_type": "markdown",
   "id": "f74f75c5-0481-4b73-b690-3608d8fe4443",
   "metadata": {},
   "source": [
    "## Compare data citation results from crossref and Scholex APIs"
   ]
  },
  {
   "cell_type": "code",
   "execution_count": 1,
   "id": "6a34d3a9-2937-4b30-9315-cddb22cb8d0b",
   "metadata": {},
   "outputs": [],
   "source": [
    "import pandas as pd\n",
    "dataCite_df = pd.read_csv('C:/Users/matnic/OneDrive/OneDrive - UKCEH/Projects/DataCentre Citations/dataset_citation_counts_06122022.csv')\n",
    "scholex_df = pd.read_csv('C:/Users/matnic/OneDrive/OneDrive - UKCEH/Projects/DataCentre Citations/dataset_citation_publication_info_06122022.csv')\n",
    "\n",
    "crossref_df = pd.read_csv('dataset_citation_publication_info_2000-01-01_to_2023-03-01_retrieved_03032023.csv')\n",
    "dataset_df = pd.read_csv('dataset_citation_counts_2000-01-01_to_2023-03-01_retrieved_03032023.csv')\n"
   ]
  },
  {
   "cell_type": "code",
   "execution_count": 2,
   "id": "2c32fdcf-f4fd-4d66-a8dd-23f888d933cc",
   "metadata": {},
   "outputs": [
    {
     "name": "stdout",
     "output_type": "stream",
     "text": [
      "Index(['citations', 'relationshipType', 'pubTitle', 'pubDate', 'pubAuthors',\n",
      "       'pubID', 'datasetDOI', 'datasetTitle', 'datasetAuthors',\n",
      "       'datasetPublisher', 'PubType', 'datasetAuthors_processed',\n",
      "       'pubAuthors_processed'],\n",
      "      dtype='object')\n",
      "Index(['relation_type_id', 'source_id', 'obj_id', 'subj_id',\n",
      "       'subj_work_type_id', 'dataset_Title', 'dataset_authors', 'dataset_date',\n",
      "       'dataset_date_Type', 'related_identifiers_list',\n",
      "       'DataCite_Citation_count', 'DataCite_Citations_list',\n",
      "       'dataset_publisher_processed', 'pub_Title', 'pub_authors', 'publisher'],\n",
      "      dtype='object')\n"
     ]
    }
   ],
   "source": [
    "print(scholex_df.columns)\n",
    "print(crossref_df.columns)"
   ]
  },
  {
   "cell_type": "code",
   "execution_count": 3,
   "id": "a2a54864-118c-4ccf-9cbe-d8de79fa3f36",
   "metadata": {
    "tags": []
   },
   "outputs": [
    {
     "data": {
      "text/html": [
       "<div>\n",
       "<style scoped>\n",
       "    .dataframe tbody tr th:only-of-type {\n",
       "        vertical-align: middle;\n",
       "    }\n",
       "\n",
       "    .dataframe tbody tr th {\n",
       "        vertical-align: top;\n",
       "    }\n",
       "\n",
       "    .dataframe thead th {\n",
       "        text-align: right;\n",
       "    }\n",
       "</style>\n",
       "<table border=\"1\" class=\"dataframe\">\n",
       "  <thead>\n",
       "    <tr style=\"text-align: right;\">\n",
       "      <th></th>\n",
       "      <th>citations</th>\n",
       "      <th>relationshipType</th>\n",
       "      <th>pubTitle</th>\n",
       "      <th>pubDate</th>\n",
       "      <th>pubAuthors</th>\n",
       "      <th>pubID</th>\n",
       "      <th>datasetDOI</th>\n",
       "      <th>datasetTitle</th>\n",
       "      <th>datasetAuthors</th>\n",
       "      <th>datasetPublisher</th>\n",
       "      <th>PubType</th>\n",
       "      <th>datasetAuthors_processed</th>\n",
       "      <th>pubAuthors_processed</th>\n",
       "    </tr>\n",
       "  </thead>\n",
       "  <tbody>\n",
       "    <tr>\n",
       "      <th>0</th>\n",
       "      <td>11</td>\n",
       "      <td>IsReferencedBy</td>\n",
       "      <td>An empirical, cross-taxon evaluation of landsc...</td>\n",
       "      <td>01/03/2020</td>\n",
       "      <td>[{'Name': 'Hunter-Ayad, James', 'Identifier': ...</td>\n",
       "      <td>10.1007/s10531-020-01938-2</td>\n",
       "      <td>10.5285/bb15e200-9349-403c-bda9-b430093807c7</td>\n",
       "      <td>Land Cover Map 2015 (25m raster, GB)</td>\n",
       "      <td>[{'name': 'Rowland, C.S.', 'nameType': 'Person...</td>\n",
       "      <td>Environmental Information Data Centre (EIDC)</td>\n",
       "      <td>journal-article</td>\n",
       "      <td>['Rowland, C.S.', 'Morton, R.D.', 'Carrasco, L...</td>\n",
       "      <td>['Hunter-Ayad, James', 'Hassall, Christopher']</td>\n",
       "    </tr>\n",
       "    <tr>\n",
       "      <th>1</th>\n",
       "      <td>11</td>\n",
       "      <td>IsReferencedBy</td>\n",
       "      <td>Design flood estimation and utility of high‐re...</td>\n",
       "      <td>01/06/2019</td>\n",
       "      <td>[{'Name': 'Vesuviano, G.', 'Identifier': []}, ...</td>\n",
       "      <td>10.1111/jfr3.12464</td>\n",
       "      <td>10.5285/bb15e200-9349-403c-bda9-b430093807c7</td>\n",
       "      <td>Land Cover Map 2015 (25m raster, GB)</td>\n",
       "      <td>[{'name': 'Rowland, C.S.', 'nameType': 'Person...</td>\n",
       "      <td>Environmental Information Data Centre (EIDC)</td>\n",
       "      <td>journal-article</td>\n",
       "      <td>['Rowland, C.S.', 'Morton, R.D.', 'Carrasco, L...</td>\n",
       "      <td>['Vesuviano, G.', 'Miller, J.D.']</td>\n",
       "    </tr>\n",
       "  </tbody>\n",
       "</table>\n",
       "</div>"
      ],
      "text/plain": [
       "   citations relationshipType  \\\n",
       "0         11   IsReferencedBy   \n",
       "1         11   IsReferencedBy   \n",
       "\n",
       "                                            pubTitle     pubDate  \\\n",
       "0  An empirical, cross-taxon evaluation of landsc...  01/03/2020   \n",
       "1  Design flood estimation and utility of high‐re...  01/06/2019   \n",
       "\n",
       "                                          pubAuthors  \\\n",
       "0  [{'Name': 'Hunter-Ayad, James', 'Identifier': ...   \n",
       "1  [{'Name': 'Vesuviano, G.', 'Identifier': []}, ...   \n",
       "\n",
       "                        pubID                                    datasetDOI  \\\n",
       "0  10.1007/s10531-020-01938-2  10.5285/bb15e200-9349-403c-bda9-b430093807c7   \n",
       "1          10.1111/jfr3.12464  10.5285/bb15e200-9349-403c-bda9-b430093807c7   \n",
       "\n",
       "                           datasetTitle  \\\n",
       "0  Land Cover Map 2015 (25m raster, GB)   \n",
       "1  Land Cover Map 2015 (25m raster, GB)   \n",
       "\n",
       "                                      datasetAuthors  \\\n",
       "0  [{'name': 'Rowland, C.S.', 'nameType': 'Person...   \n",
       "1  [{'name': 'Rowland, C.S.', 'nameType': 'Person...   \n",
       "\n",
       "                               datasetPublisher          PubType  \\\n",
       "0  Environmental Information Data Centre (EIDC)  journal-article   \n",
       "1  Environmental Information Data Centre (EIDC)  journal-article   \n",
       "\n",
       "                            datasetAuthors_processed  \\\n",
       "0  ['Rowland, C.S.', 'Morton, R.D.', 'Carrasco, L...   \n",
       "1  ['Rowland, C.S.', 'Morton, R.D.', 'Carrasco, L...   \n",
       "\n",
       "                             pubAuthors_processed  \n",
       "0  ['Hunter-Ayad, James', 'Hassall, Christopher']  \n",
       "1               ['Vesuviano, G.', 'Miller, J.D.']  "
      ]
     },
     "execution_count": 3,
     "metadata": {},
     "output_type": "execute_result"
    }
   ],
   "source": [
    "scholex_df.head(n=2)"
   ]
  },
  {
   "cell_type": "code",
   "execution_count": 4,
   "id": "3d568cc7-ce69-4558-a542-70a97238123f",
   "metadata": {},
   "outputs": [
    {
     "data": {
      "text/html": [
       "<div>\n",
       "<style scoped>\n",
       "    .dataframe tbody tr th:only-of-type {\n",
       "        vertical-align: middle;\n",
       "    }\n",
       "\n",
       "    .dataframe tbody tr th {\n",
       "        vertical-align: top;\n",
       "    }\n",
       "\n",
       "    .dataframe thead th {\n",
       "        text-align: right;\n",
       "    }\n",
       "</style>\n",
       "<table border=\"1\" class=\"dataframe\">\n",
       "  <thead>\n",
       "    <tr style=\"text-align: right;\">\n",
       "      <th></th>\n",
       "      <th>relation_type_id</th>\n",
       "      <th>source_id</th>\n",
       "      <th>obj_id</th>\n",
       "      <th>subj_id</th>\n",
       "      <th>subj_work_type_id</th>\n",
       "      <th>dataset_Title</th>\n",
       "      <th>dataset_authors</th>\n",
       "      <th>dataset_date</th>\n",
       "      <th>dataset_date_Type</th>\n",
       "      <th>related_identifiers_list</th>\n",
       "      <th>DataCite_Citation_count</th>\n",
       "      <th>DataCite_Citations_list</th>\n",
       "      <th>dataset_publisher_processed</th>\n",
       "      <th>pub_Title</th>\n",
       "      <th>pub_authors</th>\n",
       "      <th>publisher</th>\n",
       "    </tr>\n",
       "  </thead>\n",
       "  <tbody>\n",
       "    <tr>\n",
       "      <th>0</th>\n",
       "      <td>references</td>\n",
       "      <td>crossref</td>\n",
       "      <td>https://doi.org/10.5285/6c6c9203-7333-4d96-88a...</td>\n",
       "      <td>https://doi.org/10.1007/s11368-018-1990-7</td>\n",
       "      <td>Info not given</td>\n",
       "      <td>Land Cover Map 2015 (vector, GB)</td>\n",
       "      <td>['Rowland, C.S.', 'Morton, R.D.', 'Carrasco, L...</td>\n",
       "      <td>2017-04-12</td>\n",
       "      <td>Submitted</td>\n",
       "      <td>[{'relationType': 'IsDescribedBy', 'relatedIde...</td>\n",
       "      <td>61.0</td>\n",
       "      <td>[{'id': '10.1007/s11368-018-1990-7', 'type': '...</td>\n",
       "      <td>Environmental Information Data Centre (EIDC)</td>\n",
       "      <td>Evaluating tracer selection for catchment sedi...</td>\n",
       "      <td>[['Hugh G.', 'Smith'], ['Daljit Singh', 'Karam...</td>\n",
       "      <td>Springer Science and Business Media LLC</td>\n",
       "    </tr>\n",
       "    <tr>\n",
       "      <th>1</th>\n",
       "      <td>references</td>\n",
       "      <td>crossref</td>\n",
       "      <td>https://doi.org/10.5285/4c7fdfa6-f176-4c58-ace...</td>\n",
       "      <td>https://doi.org/10.5194/gmd-11-1377-2018</td>\n",
       "      <td>Info not given</td>\n",
       "      <td>CRU TS3.23: Climatic Research Unit (CRU) Time-...</td>\n",
       "      <td>['Harris, Ian']</td>\n",
       "      <td>2015</td>\n",
       "      <td>Issued</td>\n",
       "      <td>[]</td>\n",
       "      <td>2.0</td>\n",
       "      <td>[{'id': '10.1007/978-3-030-92782-0_6', 'type':...</td>\n",
       "      <td>Centre for Environmental Data Analysis (CEDA)</td>\n",
       "      <td>LPJmL4 – a dynamic global vegetation model wit...</td>\n",
       "      <td>[['Sibyll', 'Schaphoff'], ['Matthias', 'Forkel...</td>\n",
       "      <td>Copernicus GmbH</td>\n",
       "    </tr>\n",
       "  </tbody>\n",
       "</table>\n",
       "</div>"
      ],
      "text/plain": [
       "  relation_type_id source_id  \\\n",
       "0       references  crossref   \n",
       "1       references  crossref   \n",
       "\n",
       "                                              obj_id  \\\n",
       "0  https://doi.org/10.5285/6c6c9203-7333-4d96-88a...   \n",
       "1  https://doi.org/10.5285/4c7fdfa6-f176-4c58-ace...   \n",
       "\n",
       "                                     subj_id subj_work_type_id  \\\n",
       "0  https://doi.org/10.1007/s11368-018-1990-7    Info not given   \n",
       "1   https://doi.org/10.5194/gmd-11-1377-2018    Info not given   \n",
       "\n",
       "                                       dataset_Title  \\\n",
       "0                   Land Cover Map 2015 (vector, GB)   \n",
       "1  CRU TS3.23: Climatic Research Unit (CRU) Time-...   \n",
       "\n",
       "                                     dataset_authors dataset_date  \\\n",
       "0  ['Rowland, C.S.', 'Morton, R.D.', 'Carrasco, L...   2017-04-12   \n",
       "1                                    ['Harris, Ian']         2015   \n",
       "\n",
       "  dataset_date_Type                           related_identifiers_list  \\\n",
       "0         Submitted  [{'relationType': 'IsDescribedBy', 'relatedIde...   \n",
       "1            Issued                                                 []   \n",
       "\n",
       "   DataCite_Citation_count                            DataCite_Citations_list  \\\n",
       "0                     61.0  [{'id': '10.1007/s11368-018-1990-7', 'type': '...   \n",
       "1                      2.0  [{'id': '10.1007/978-3-030-92782-0_6', 'type':...   \n",
       "\n",
       "                     dataset_publisher_processed  \\\n",
       "0   Environmental Information Data Centre (EIDC)   \n",
       "1  Centre for Environmental Data Analysis (CEDA)   \n",
       "\n",
       "                                           pub_Title  \\\n",
       "0  Evaluating tracer selection for catchment sedi...   \n",
       "1  LPJmL4 – a dynamic global vegetation model wit...   \n",
       "\n",
       "                                         pub_authors  \\\n",
       "0  [['Hugh G.', 'Smith'], ['Daljit Singh', 'Karam...   \n",
       "1  [['Sibyll', 'Schaphoff'], ['Matthias', 'Forkel...   \n",
       "\n",
       "                                 publisher  \n",
       "0  Springer Science and Business Media LLC  \n",
       "1                          Copernicus GmbH  "
      ]
     },
     "execution_count": 4,
     "metadata": {},
     "output_type": "execute_result"
    }
   ],
   "source": [
    "crossref_df.head(n=2)"
   ]
  },
  {
   "cell_type": "code",
   "execution_count": 5,
   "id": "f75c9b7a-fdca-4ff6-a5b5-113f55b4d79b",
   "metadata": {},
   "outputs": [
    {
     "data": {
      "text/plain": [
       "references            1335\n",
       "is-part-of             222\n",
       "is_derived_from         17\n",
       "is_supplement_to         8\n",
       "is_documented_by         6\n",
       "is_source_of             2\n",
       "has_part                 2\n",
       "is_part_of               1\n",
       "cites                    1\n",
       "is-supplemented-by       1\n",
       "Name: relation_type_id, dtype: int64"
      ]
     },
     "execution_count": 5,
     "metadata": {},
     "output_type": "execute_result"
    }
   ],
   "source": [
    "crossref_df['relation_type_id'].value_counts()"
   ]
  },
  {
   "cell_type": "markdown",
   "id": "828623b2-5308-410e-b06c-7f9ad5525f7e",
   "metadata": {},
   "source": [
    "# steps for comparing/contrasting crossref and scholix results\n",
    "find matching data DOI\n",
    "    from crossref and scholix results get pubDOIs linked to this dataDOI\n",
    "    compare list\n",
    "        if the same - great!\n",
    "        if different\n",
    "            output a list stating how - e.g. take scholix as the base and say how crossref is different?\n",
    "            See if there's a pattern?\n",
    "            how to determine if one is correct?\n",
    "            \n",
    "            Combine results\n"
   ]
  },
  {
   "cell_type": "code",
   "execution_count": 17,
   "id": "e57fe6e9-953a-485a-b93c-22c34b70cf37",
   "metadata": {},
   "outputs": [
    {
     "data": {
      "text/plain": [
       "1017"
      ]
     },
     "execution_count": 17,
     "metadata": {},
     "output_type": "execute_result"
    }
   ],
   "source": [
    "crossRef_datasets = list(crossref_df['obj_id'])\n",
    "scholex_datasets = list(scholex_df['datasetDOI'])\n",
    "\n",
    "diff = []\n",
    "for element in scholex_datasets:\n",
    "    if element not in crossRef_datasets:\n",
    "        diff.append(element)\n",
    "        \n",
    "len(diff)"
   ]
  },
  {
   "cell_type": "code",
   "execution_count": 72,
   "id": "c81067cd-b3a0-4c8d-9b02-93c0ec3f64ba",
   "metadata": {
    "tags": []
   },
   "outputs": [],
   "source": [
    "# create single list of data dois\n",
    "# remove url bit \n",
    "crossref_doi_list = []\n",
    "for url in crossref_df['obj_id']:\n",
    "    temp = url.split('/')\n",
    "    crossref_doi_list.append(temp[3] + \"/\" + temp[4])\n",
    "crossref_df['obj_doi'] = crossref_doi_list\n",
    "    \n",
    "# and merge two lists\n",
    "scholix_doi_list = list(scholex_df['datasetDOI'])\n",
    "data_doi_list = scholix_doi_list + crossref_doi_list\n",
    "\n",
    "# remove duplicates = convert to dict and back to list again auto removes dups\n",
    "data_doi_list_unique = list( dict.fromkeys(data_doi_list))"
   ]
  },
  {
   "cell_type": "code",
   "execution_count": 88,
   "id": "8e485e9e-d527-422e-ad6f-25f383734485",
   "metadata": {},
   "outputs": [],
   "source": [
    "# remove url bit from subj_id\n",
    "crossref_doi_list = []\n",
    "for url in crossref_df['subj_id']:\n",
    "    doi = url.replace('https://doi.org/','')\n",
    "    crossref_doi_list.append(doi)\n",
    "crossref_df['subj_doi'] = crossref_doi_list"
   ]
  },
  {
   "cell_type": "code",
   "execution_count": 107,
   "id": "fd101804-5fc2-42ea-8f17-ceeeff55d6ad",
   "metadata": {
    "tags": []
   },
   "outputs": [],
   "source": [
    "# loop through list of data dois, check pub DOI in each of crossref and scholex df - compare result\n",
    "comparison_dicts = []\n",
    "data_doi_df = pd.DataFrame(data_doi_list_unique)\n",
    "for doi in data_doi_df[0]:\n",
    "    doi = doi.replace(\")\",\"\")\n",
    "    scholex_indices = scholex_df[scholex_df.datasetDOI.str.match(doi)].index\n",
    "    scholex_matches = scholex_df['pubID'].iloc[scholex_indices].tolist()\n",
    "    \n",
    "    crossref_indices = crossref_df[crossref_df.obj_doi.str.match(doi)].index\n",
    "    crossref_matches = crossref_df['subj_doi'].iloc[crossref_indices].tolist()\n",
    "    \n",
    "    combined = scholex_matches + crossref_matches\n",
    "    combined_unique = list(dict.fromkeys(combined))\n",
    "    \n",
    "    inScholix_notIn_crossRef = list(set(scholex_matches) - set(crossref_matches))\n",
    "    inCrossRef_notIn_scholix = list(set(crossref_matches) - set(scholex_matches))\n",
    "    \n",
    "    comparison_dicts.append({\n",
    "        'data_doi': doi,\n",
    "        'scholex_pub_dois': scholex_matches,\n",
    "        'crossref_pub_dois': crossref_matches,\n",
    "        'combined_unique_dois': combined_unique,\n",
    "        'inScholix_notIn_crossRef':inScholix_notIn_crossRef,\n",
    "        'inCrossRef_notIn_scholix':inCrossRef_notIn_scholix\n",
    "    })\n"
   ]
  },
  {
   "cell_type": "code",
   "execution_count": 110,
   "id": "832caeec-53d0-454c-ac8e-eef98fdf5ae2",
   "metadata": {
    "tags": []
   },
   "outputs": [
    {
     "data": {
      "text/plain": [
       "{'data_doi': '10.5285/a7f28dea-64f7-43b5-bc39-a6cfcdeefbda',\n",
       " 'scholex_pub_dois': ['10.5285/d80f5c86-89a7-46d6-8718-47e3d34ab368',\n",
       "  '10.1038/s41598-018-34327-5',\n",
       "  '10.5285/1846aa2c-7617-4daf-9928-60a336e256a6',\n",
       "  '10.5285/6be7d300-b42c-42f4-af59-2138e2a4dfe4',\n",
       "  '10.5285/6e35ef4b-35fa-4a0d-a3f5-b86c820bc4c4',\n",
       "  '10.5285/65140444-b5fa-4a5e-9ab4-e86c106051e2'],\n",
       " 'crossref_pub_dois': ['10.5285/65140444-b5fa-4a5e-9ab4-e86c106051e2',\n",
       "  '10.5285/6be7d300-b42c-42f4-af59-2138e2a4dfe4',\n",
       "  '10.5285/1846aa2c-7617-4daf-9928-60a336e256a6',\n",
       "  '10.5285/6e35ef4b-35fa-4a0d-a3f5-b86c820bc4c4',\n",
       "  '10.5285/d80f5c86-89a7-46d6-8718-47e3d34ab368',\n",
       "  '10.1038/s43247-020-00070-x'],\n",
       " 'combined_unique_dois': ['10.5285/d80f5c86-89a7-46d6-8718-47e3d34ab368',\n",
       "  '10.1038/s41598-018-34327-5',\n",
       "  '10.5285/1846aa2c-7617-4daf-9928-60a336e256a6',\n",
       "  '10.5285/6be7d300-b42c-42f4-af59-2138e2a4dfe4',\n",
       "  '10.5285/6e35ef4b-35fa-4a0d-a3f5-b86c820bc4c4',\n",
       "  '10.5285/65140444-b5fa-4a5e-9ab4-e86c106051e2',\n",
       "  '10.1038/s43247-020-00070-x'],\n",
       " 'inScholix_notIn_crossRef': ['10.1038/s41598-018-34327-5'],\n",
       " 'inCrossRef_notIn_scholix': ['10.1038/s43247-020-00070-x']}"
      ]
     },
     "execution_count": 110,
     "metadata": {},
     "output_type": "execute_result"
    }
   ],
   "source": [
    "comparison_dicts[1]"
   ]
  },
  {
   "cell_type": "code",
   "execution_count": null,
   "id": "8a4a69a1-8f8c-4ab9-bd38-d1fd6375f9f3",
   "metadata": {},
   "outputs": [],
   "source": [
    "# for combined_unique_dois create a final dataframe getting data from scholix_df and crossref_df\n",
    "results = []\n",
    "for dataset in comparison_dicts:\n",
    "    for pubdoi in dataset['scholex_pub_dois']:\n",
    "        \n",
    "        # find index of this pubdoi datadoi pair in scholex_df\n",
    "        pub_indices = scholex_df[scholex_df.pubID.str.match(pubdoi)].index\n",
    "        data_indices = scholex_df[scholex_df.datasetDOI.str.match(dataset['data_doi'])].index\n",
    "        index = list((set(pub_indices) & set(data_indices)))[0]\n",
    "        \n",
    "        results.append({\n",
    "            'data_doi':dataset['data_doi'],\n",
    "            'data_Title': scholex_df.iloc[index]['datasetTitle'],\n",
    "            'data_Authors': scholex_df.iloc[index]['datasetAuthors_processed'],\n",
    "            \n",
    "            'relationshipType': scholex_df.iloc[index]['relationshipType'],\n",
    "            'pub_doi':pubdoi,\n",
    "            'pub_Title': scholex_df.iloc[index]['pubTitle'],\n",
    "            'pub_Authors': scholex_df.iloc[index]['pubAuthors_processed'],\n",
    "            'pub_Date': scholex_df.iloc[index]['pubDate'],\n",
    "            'pub_Type': scholex_df.iloc[index]['PubType'],\n",
    "            \n",
    "        \n",
    "        \n",
    "        })\n",
    "        \n",
    "    \n",
    "    for pubdoi in dataset['inCrossRef_notIn_scholix']:\n",
    "        \n",
    "\n"
   ]
  },
  {
   "cell_type": "code",
   "execution_count": 111,
   "id": "dfb4a398-b310-48e6-b78d-1b2ea87ebd54",
   "metadata": {},
   "outputs": [
    {
     "data": {
      "text/plain": [
       "Index(['citations', 'relationshipType', 'pubTitle', 'pubDate', 'pubAuthors',\n",
       "       'pubID', 'datasetDOI', 'datasetTitle', 'datasetAuthors',\n",
       "       'datasetPublisher', 'PubType', 'datasetAuthors_processed',\n",
       "       'pubAuthors_processed'],\n",
       "      dtype='object')"
      ]
     },
     "execution_count": 111,
     "metadata": {},
     "output_type": "execute_result"
    }
   ],
   "source": [
    "scholex_df.columns"
   ]
  },
  {
   "cell_type": "code",
   "execution_count": null,
   "id": "f0ed72da-e7b9-4204-8850-add7800b3a25",
   "metadata": {},
   "outputs": [],
   "source": [
    "x = list((set(lst1) & set(lst2)))[0]\n",
    "x"
   ]
  },
  {
   "cell_type": "code",
   "execution_count": 139,
   "id": "93b94699-eead-4ba6-b7ae-83e9bc5369de",
   "metadata": {},
   "outputs": [
    {
     "data": {
      "text/plain": [
       "'Borehole optical televiewer (OPTV) logs of boreholes drilled into Khumbu Glacier, Nepal, in 2017 and 2018 as part of EverDrill research project'"
      ]
     },
     "execution_count": 139,
     "metadata": {},
     "output_type": "execute_result"
    }
   ],
   "source": []
  },
  {
   "cell_type": "code",
   "execution_count": null,
   "id": "cd3b6763-bf4c-4ead-88bf-b7a8144e07d0",
   "metadata": {},
   "outputs": [],
   "source": []
  }
 ],
 "metadata": {
  "kernelspec": {
   "display_name": "Python 3 (ipykernel)",
   "language": "python",
   "name": "python3"
  },
  "language_info": {
   "codemirror_mode": {
    "name": "ipython",
    "version": 3
   },
   "file_extension": ".py",
   "mimetype": "text/x-python",
   "name": "python",
   "nbconvert_exporter": "python",
   "pygments_lexer": "ipython3",
   "version": "3.7.3"
  }
 },
 "nbformat": 4,
 "nbformat_minor": 5
}
