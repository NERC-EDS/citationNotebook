{
 "cells": [
  {
   "cell_type": "markdown",
   "id": "11c8d99d-0d5c-428f-b73f-4e093bd7e838",
   "metadata": {},
   "source": [
    "### NERC dataset citations - DataCite\n",
    "Code to collect NERC dataset DOIs and citation information from the DataCite API"
   ]
  },
  {
   "cell_type": "code",
   "execution_count": null,
   "id": "5bcaa7fa-e932-4386-a7c8-8149f85fd5d2",
   "metadata": {},
   "outputs": [],
   "source": [
    "import requests, time, json, re, datetime, os, sys\n",
    "from requests.adapters import HTTPAdapter\n",
    "from requests.packages.urllib3.util.retry import Retry\n",
    "import numpy as np\n",
    "import pandas as pd\n",
    "from math import ceil\n",
    "from datetime import date\n",
    "\n",
    "from citations_fun.getDataCiteCitations_relationTypes import getDataCiteCitations_relationTypes\n",
    "from citations_fun.getPublicationInfo_forDataCite import getPublicationInfo\n"
   ]
  },
  {
   "cell_type": "markdown",
   "id": "904b736e",
   "metadata": {},
   "source": [
    "## DataCite events API\n",
    "Get citation event data from datacite"
   ]
  },
  {
   "cell_type": "code",
   "execution_count": null,
   "id": "0505a104-5060-4427-b1ab-6614cbe84925",
   "metadata": {
    "scrolled": true,
    "tags": []
   },
   "outputs": [],
   "source": [
    "relation_type_id_list = ['is-cited-by', 'is-referenced-by', 'is-supplement-to', 'IsPartOf', 'IsContinuedBy', 'IsDescribedBy', 'IsDocumentedBy', 'IsDerivedFrom', 'IsRequiredBy']\n",
    "dataCite_df_relationTypes = getDataCiteCitations_relationTypes(relation_type_id_list)"
   ]
  },
  {
   "cell_type": "code",
   "execution_count": null,
   "id": "3e3b607c",
   "metadata": {},
   "outputs": [],
   "source": [
    "# join events data with dataset DOI metadata\n",
    "\n",
    "### don't need to load file if done in same env as getNERCDataDOIs() ###\n",
    "with open(\"Results/intermediate_data/nerc_datacite_dois.json\") as f:\n",
    "    nerc_datacite_dois = json.load(f)\n",
    "\n",
    "nerc_datacite_dois_df = pd.DataFrame(nerc_datacite_dois)\n",
    "\n",
    "datacite_doi_events_df = dataCite_df_relationTypes.merge(\n",
    "    nerc_datacite_dois_df,\n",
    "    left_on='data_doi',\n",
    "    right_on='data_doi',\n",
    "    how='left'  # left-join as dataCite_df_relationTypes is a subset of nerc_datacite_dois_df\n",
    ")\n",
    "\n",
    "datacite_doi_events_df_drop = datacite_doi_events_df.drop(['data_page_number', 'data_self_link'], axis = 1)\n",
    "\n",
    "# re-order\n",
    "datacite_doi_events_df_drop = datacite_doi_events_df_drop[[\n",
    "    'data_doi', 'data_publisher', 'data_title', 'data_publication_year', 'data_authors',\n",
    "    'relation_type', 'pub_doi', 'source_id'\n",
    "]]"
   ]
  },
  {
   "cell_type": "code",
   "execution_count": null,
   "id": "357593ab",
   "metadata": {},
   "outputs": [],
   "source": [
    "# takes 15 mins\n",
    "# get pub title, authors and date\n",
    "dataCite_df_pubInfo = getPublicationInfo(datacite_doi_events_df_drop)"
   ]
  },
  {
   "cell_type": "code",
   "execution_count": null,
   "id": "320007ca",
   "metadata": {},
   "outputs": [],
   "source": [
    "dataCite_df_pubInfo_names = dataCite_df_pubInfo[[\n",
    "    'data_doi', 'data_publisher', 'data_title', 'data_publication_year', 'data_authors',\n",
    "    'relation_type', 'pub_doi', 'pub_title', 'pub_date', 'pub_authors', 'source_id', 'pub_publisher', 'pub_type'\n",
    "]]   "
   ]
  },
  {
   "cell_type": "code",
   "execution_count": null,
   "id": "985a9c15",
   "metadata": {},
   "outputs": [],
   "source": [
    "dataCite_df_pubInfo_names.to_csv(\"Results/intermediate_data/latest_results_dataCite.csv\", index= False)"
   ]
  }
 ],
 "metadata": {
  "kernelspec": {
   "display_name": ".venv",
   "language": "python",
   "name": "python3"
  },
  "language_info": {
   "codemirror_mode": {
    "name": "ipython",
    "version": 3
   },
   "file_extension": ".py",
   "mimetype": "text/x-python",
   "name": "python",
   "nbconvert_exporter": "python",
   "pygments_lexer": "ipython3",
   "version": "3.12.3"
  }
 },
 "nbformat": 4,
 "nbformat_minor": 5
}
